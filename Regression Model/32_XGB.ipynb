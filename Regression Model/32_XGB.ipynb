{
 "cells": [
  {
   "cell_type": "code",
   "execution_count": 2,
   "metadata": {},
   "outputs": [],
   "source": [
    "import pandas as pd\n",
    "import numpy as np\n",
    "from sklearn.linear_model import LinearRegression\n",
    "from sklearn.ensemble import RandomForestRegressor\n",
    "from xgboost import XGBRegressor\n",
    "from sklearn.metrics import mean_absolute_error, mean_squared_error, r2_score, accuracy_score, confusion_matrix\n",
    "from sklearn.preprocessing import LabelEncoder\n",
    "from sklearn.preprocessing import MinMaxScaler, StandardScaler\n",
    "import matplotlib.pyplot as plt\n",
    "import seaborn as sns\n",
    "import warnings\n",
    "warnings.filterwarnings('ignore')\n",
    "from collections import Counter"
   ]
  },
  {
   "cell_type": "markdown",
   "metadata": {},
   "source": [
    "### Load Data"
   ]
  },
  {
   "cell_type": "code",
   "execution_count": 3,
   "metadata": {},
   "outputs": [
    {
     "name": "stdout",
     "output_type": "stream",
     "text": [
      "32\n"
     ]
    },
    {
     "data": {
      "text/html": [
       "<div>\n",
       "<style scoped>\n",
       "    .dataframe tbody tr th:only-of-type {\n",
       "        vertical-align: middle;\n",
       "    }\n",
       "\n",
       "    .dataframe tbody tr th {\n",
       "        vertical-align: top;\n",
       "    }\n",
       "\n",
       "    .dataframe thead th {\n",
       "        text-align: right;\n",
       "    }\n",
       "</style>\n",
       "<table border=\"1\" class=\"dataframe\">\n",
       "  <thead>\n",
       "    <tr style=\"text-align: right;\">\n",
       "      <th></th>\n",
       "      <th>Date</th>\n",
       "      <th>Type</th>\n",
       "      <th>from</th>\n",
       "      <th>EXP</th>\n",
       "      <th>jul_date</th>\n",
       "      <th>hour_angle</th>\n",
       "      <th>max_wind_speed</th>\n",
       "      <th>avg_wind_speed</th>\n",
       "      <th>R1</th>\n",
       "      <th>R2</th>\n",
       "      <th>...</th>\n",
       "      <th>HYBL_one</th>\n",
       "      <th>HYBL_two</th>\n",
       "      <th>HYBL_three</th>\n",
       "      <th>HYBL_four</th>\n",
       "      <th>HYBL_five</th>\n",
       "      <th>diff_temp</th>\n",
       "      <th>geo_cbl</th>\n",
       "      <th>veg_sfc</th>\n",
       "      <th>best_4_layer</th>\n",
       "      <th>ws_700</th>\n",
       "    </tr>\n",
       "  </thead>\n",
       "  <tbody>\n",
       "    <tr>\n",
       "      <th>0</th>\n",
       "      <td>2017-01-07 06:00:00</td>\n",
       "      <td>ANDE</td>\n",
       "      <td>MESONET</td>\n",
       "      <td>1/7/17</td>\n",
       "      <td>7</td>\n",
       "      <td>-1.570795</td>\n",
       "      <td>2.332608</td>\n",
       "      <td>1.295893</td>\n",
       "      <td>2.630564</td>\n",
       "      <td>2.322274</td>\n",
       "      <td>...</td>\n",
       "      <td>0.629230</td>\n",
       "      <td>0.903721</td>\n",
       "      <td>3.610055</td>\n",
       "      <td>5.011670</td>\n",
       "      <td>6.054984</td>\n",
       "      <td>0.739</td>\n",
       "      <td>-5000.0</td>\n",
       "      <td>40.293</td>\n",
       "      <td>23.757</td>\n",
       "      <td>16.787335</td>\n",
       "    </tr>\n",
       "    <tr>\n",
       "      <th>1</th>\n",
       "      <td>2017-01-07 06:15:00</td>\n",
       "      <td>ANDE</td>\n",
       "      <td>MESONET</td>\n",
       "      <td>1/7/17</td>\n",
       "      <td>7</td>\n",
       "      <td>-1.505345</td>\n",
       "      <td>1.555072</td>\n",
       "      <td>0.647947</td>\n",
       "      <td>2.055383</td>\n",
       "      <td>1.813005</td>\n",
       "      <td>...</td>\n",
       "      <td>0.748575</td>\n",
       "      <td>1.493288</td>\n",
       "      <td>3.643217</td>\n",
       "      <td>5.232982</td>\n",
       "      <td>6.394255</td>\n",
       "      <td>1.050</td>\n",
       "      <td>-5000.0</td>\n",
       "      <td>40.293</td>\n",
       "      <td>23.959</td>\n",
       "      <td>16.195689</td>\n",
       "    </tr>\n",
       "    <tr>\n",
       "      <th>2</th>\n",
       "      <td>2017-01-07 06:30:00</td>\n",
       "      <td>ANDE</td>\n",
       "      <td>MESONET</td>\n",
       "      <td>1/7/17</td>\n",
       "      <td>7</td>\n",
       "      <td>-1.439895</td>\n",
       "      <td>2.332608</td>\n",
       "      <td>1.360688</td>\n",
       "      <td>1.792587</td>\n",
       "      <td>1.671478</td>\n",
       "      <td>...</td>\n",
       "      <td>1.154196</td>\n",
       "      <td>1.645343</td>\n",
       "      <td>3.346854</td>\n",
       "      <td>5.054551</td>\n",
       "      <td>6.395084</td>\n",
       "      <td>1.211</td>\n",
       "      <td>-5000.0</td>\n",
       "      <td>40.293</td>\n",
       "      <td>24.118</td>\n",
       "      <td>15.636587</td>\n",
       "    </tr>\n",
       "    <tr>\n",
       "      <th>3</th>\n",
       "      <td>2017-01-07 06:45:00</td>\n",
       "      <td>ANDE</td>\n",
       "      <td>MESONET</td>\n",
       "      <td>1/7/17</td>\n",
       "      <td>7</td>\n",
       "      <td>-1.374446</td>\n",
       "      <td>1.555072</td>\n",
       "      <td>0.453563</td>\n",
       "      <td>1.442889</td>\n",
       "      <td>1.352497</td>\n",
       "      <td>...</td>\n",
       "      <td>2.183654</td>\n",
       "      <td>2.266223</td>\n",
       "      <td>3.550607</td>\n",
       "      <td>5.363623</td>\n",
       "      <td>6.869857</td>\n",
       "      <td>0.943</td>\n",
       "      <td>-5000.0</td>\n",
       "      <td>40.293</td>\n",
       "      <td>24.220</td>\n",
       "      <td>16.767452</td>\n",
       "    </tr>\n",
       "    <tr>\n",
       "      <th>4</th>\n",
       "      <td>2017-01-07 07:00:00</td>\n",
       "      <td>ANDE</td>\n",
       "      <td>MESONET</td>\n",
       "      <td>1/7/17</td>\n",
       "      <td>7</td>\n",
       "      <td>-1.308996</td>\n",
       "      <td>2.526992</td>\n",
       "      <td>1.360688</td>\n",
       "      <td>2.283417</td>\n",
       "      <td>1.677404</td>\n",
       "      <td>...</td>\n",
       "      <td>2.407290</td>\n",
       "      <td>2.633109</td>\n",
       "      <td>3.692489</td>\n",
       "      <td>5.309871</td>\n",
       "      <td>6.783159</td>\n",
       "      <td>0.751</td>\n",
       "      <td>-5000.0</td>\n",
       "      <td>40.293</td>\n",
       "      <td>24.149</td>\n",
       "      <td>17.249375</td>\n",
       "    </tr>\n",
       "  </tbody>\n",
       "</table>\n",
       "<p>5 rows × 27 columns</p>\n",
       "</div>"
      ],
      "text/plain": [
       "                  Date  Type     from     EXP  jul_date  hour_angle  \\\n",
       "0  2017-01-07 06:00:00  ANDE  MESONET  1/7/17         7   -1.570795   \n",
       "1  2017-01-07 06:15:00  ANDE  MESONET  1/7/17         7   -1.505345   \n",
       "2  2017-01-07 06:30:00  ANDE  MESONET  1/7/17         7   -1.439895   \n",
       "3  2017-01-07 06:45:00  ANDE  MESONET  1/7/17         7   -1.374446   \n",
       "4  2017-01-07 07:00:00  ANDE  MESONET  1/7/17         7   -1.308996   \n",
       "\n",
       "   max_wind_speed  avg_wind_speed        R1        R2  ...  HYBL_one  \\\n",
       "0        2.332608        1.295893  2.630564  2.322274  ...  0.629230   \n",
       "1        1.555072        0.647947  2.055383  1.813005  ...  0.748575   \n",
       "2        2.332608        1.360688  1.792587  1.671478  ...  1.154196   \n",
       "3        1.555072        0.453563  1.442889  1.352497  ...  2.183654   \n",
       "4        2.526992        1.360688  2.283417  1.677404  ...  2.407290   \n",
       "\n",
       "   HYBL_two  HYBL_three  HYBL_four  HYBL_five  diff_temp  geo_cbl  veg_sfc  \\\n",
       "0  0.903721    3.610055   5.011670   6.054984      0.739  -5000.0   40.293   \n",
       "1  1.493288    3.643217   5.232982   6.394255      1.050  -5000.0   40.293   \n",
       "2  1.645343    3.346854   5.054551   6.395084      1.211  -5000.0   40.293   \n",
       "3  2.266223    3.550607   5.363623   6.869857      0.943  -5000.0   40.293   \n",
       "4  2.633109    3.692489   5.309871   6.783159      0.751  -5000.0   40.293   \n",
       "\n",
       "   best_4_layer     ws_700  \n",
       "0        23.757  16.787335  \n",
       "1        23.959  16.195689  \n",
       "2        24.118  15.636587  \n",
       "3        24.220  16.767452  \n",
       "4        24.149  17.249375  \n",
       "\n",
       "[5 rows x 27 columns]"
      ]
     },
     "execution_count": 3,
     "metadata": {},
     "output_type": "execute_result"
    }
   ],
   "source": [
    "df = pd.read_csv(\"15min_dateset.csv\")\n",
    "df.drop('Unnamed: 0', inplace = True, axis = 1)\n",
    "print(len(df['EXP'].unique()))\n",
    "df.head()"
   ]
  },
  {
   "cell_type": "markdown",
   "metadata": {},
   "source": [
    "### Functions Used"
   ]
  },
  {
   "cell_type": "code",
   "execution_count": 4,
   "metadata": {},
   "outputs": [],
   "source": [
    "def model_info1(x, y, test_date, data_tested):\n",
    "    cm = confusion_matrix(x,y)\n",
    "    acc = accuracy_score(x,y)\n",
    "    cm = confusion_matrix(x,y)\n",
    "    if len(cm) > 1:\n",
    "        hit = cm[1][1]\n",
    "        false_alarms = cm[0][1]\n",
    "        misses = cm[1][0]\n",
    "        no_events = cm[0][0]\n",
    "        csi = hit / (false_alarms + misses + hit)\n",
    "        hit_rate = hit / (hit + misses)\n",
    "        false_alarm_rate = false_alarms / (hit + false_alarms)\n",
    "    else:\n",
    "        hit = 0\n",
    "        false_alarms = 0\n",
    "        misses = 0\n",
    "        no_events = cm[0][0]\n",
    "        csi = 0\n",
    "        hit_rate =0\n",
    "        false_alarm_rate = 0\n",
    "    data = [{\"Accuracy\":acc,\"Hits\":hit, \"False Alarms\":false_alarms, 'Misses':misses,'No Events': no_events, 'CSI':csi, 'Hit Rate':hit_rate, 'False Alarm Rate':false_alarm_rate}]\n",
    "    df = pd.DataFrame(data)\n",
    "    df['test_date'] = test_date\n",
    "    df['data_tested'] = data_tested\n",
    "    if len(Counter(x)) == 1:\n",
    "        l30 = Counter(x)[0]\n",
    "        df['greter_than_30_knots'] = '0'\n",
    "        df['less_than_30_knots'] = l30\n",
    "    else:\n",
    "        g30 = Counter(x)[1]\n",
    "        l30 = Counter(x)[0]\n",
    "        df['greter_than_30_knots'] = g30\n",
    "        df['less_than_30_knots'] = l30\n",
    "    return (df)\n",
    "\n",
    "def model_info2(x, y,test_date,data_tested):\n",
    "    mae = mean_absolute_error(x,y)\n",
    "    mse = mean_squared_error(x,y)\n",
    "    r2 = r2_score(x,y)\n",
    "    residual_0 = x - y\n",
    "    res_0 = np.array(residual_0)\n",
    "    res_mean = round(res_0.mean(),4)\n",
    "    data = [{\"MAE\":mae ,\"MSE\":mse, 'Residual Mean':res_mean}]\n",
    "    df = pd.DataFrame(data)\n",
    "    df['test_date'] = test_date\n",
    "    df['data_tested'] = data_tested\n",
    "    return (df)"
   ]
  },
  {
   "cell_type": "code",
   "execution_count": 13,
   "metadata": {},
   "outputs": [
    {
     "data": {
      "text/html": [
       "<div>\n",
       "<style scoped>\n",
       "    .dataframe tbody tr th:only-of-type {\n",
       "        vertical-align: middle;\n",
       "    }\n",
       "\n",
       "    .dataframe tbody tr th {\n",
       "        vertical-align: top;\n",
       "    }\n",
       "\n",
       "    .dataframe thead th {\n",
       "        text-align: right;\n",
       "    }\n",
       "</style>\n",
       "<table border=\"1\" class=\"dataframe\">\n",
       "  <thead>\n",
       "    <tr style=\"text-align: right;\">\n",
       "      <th></th>\n",
       "      <th>Date</th>\n",
       "      <th>Type</th>\n",
       "      <th>from</th>\n",
       "      <th>EXP</th>\n",
       "      <th>max_wind_speed</th>\n",
       "      <th>R1</th>\n",
       "      <th>R2</th>\n",
       "      <th>Pressure_reduced_to_MSL_.Pa..0.MSL</th>\n",
       "      <th>Derived_radar_reflectivity_.dB..1.HYBL</th>\n",
       "      <th>u.component_of_wind_.m.s..85000.ISBL</th>\n",
       "      <th>...</th>\n",
       "      <th>HYBL_one</th>\n",
       "      <th>HYBL_two</th>\n",
       "      <th>HYBL_three</th>\n",
       "      <th>HYBL_four</th>\n",
       "      <th>HYBL_five</th>\n",
       "      <th>diff_temp</th>\n",
       "      <th>geo_cbl</th>\n",
       "      <th>veg_sfc</th>\n",
       "      <th>best_4_layer</th>\n",
       "      <th>ws_700</th>\n",
       "    </tr>\n",
       "  </thead>\n",
       "  <tbody>\n",
       "    <tr>\n",
       "      <th>0</th>\n",
       "      <td>2017-01-07 06:00:00</td>\n",
       "      <td>ANDE</td>\n",
       "      <td>1</td>\n",
       "      <td>1/7/17</td>\n",
       "      <td>2.332608</td>\n",
       "      <td>2.630564</td>\n",
       "      <td>2.322274</td>\n",
       "      <td>102879.7</td>\n",
       "      <td>0.0</td>\n",
       "      <td>5.447</td>\n",
       "      <td>...</td>\n",
       "      <td>0.629230</td>\n",
       "      <td>0.903721</td>\n",
       "      <td>3.610055</td>\n",
       "      <td>5.011670</td>\n",
       "      <td>6.054984</td>\n",
       "      <td>0.739</td>\n",
       "      <td>-5000.0</td>\n",
       "      <td>40.293</td>\n",
       "      <td>23.757</td>\n",
       "      <td>16.787335</td>\n",
       "    </tr>\n",
       "    <tr>\n",
       "      <th>1</th>\n",
       "      <td>2017-01-07 06:15:00</td>\n",
       "      <td>ANDE</td>\n",
       "      <td>1</td>\n",
       "      <td>1/7/17</td>\n",
       "      <td>1.555072</td>\n",
       "      <td>2.055383</td>\n",
       "      <td>1.813005</td>\n",
       "      <td>102951.0</td>\n",
       "      <td>0.0</td>\n",
       "      <td>5.629</td>\n",
       "      <td>...</td>\n",
       "      <td>0.748575</td>\n",
       "      <td>1.493288</td>\n",
       "      <td>3.643217</td>\n",
       "      <td>5.232982</td>\n",
       "      <td>6.394255</td>\n",
       "      <td>1.050</td>\n",
       "      <td>-5000.0</td>\n",
       "      <td>40.293</td>\n",
       "      <td>23.959</td>\n",
       "      <td>16.195689</td>\n",
       "    </tr>\n",
       "    <tr>\n",
       "      <th>2</th>\n",
       "      <td>2017-01-07 06:30:00</td>\n",
       "      <td>ANDE</td>\n",
       "      <td>1</td>\n",
       "      <td>1/7/17</td>\n",
       "      <td>2.332608</td>\n",
       "      <td>1.792587</td>\n",
       "      <td>1.671478</td>\n",
       "      <td>102890.6</td>\n",
       "      <td>0.0</td>\n",
       "      <td>5.653</td>\n",
       "      <td>...</td>\n",
       "      <td>1.154196</td>\n",
       "      <td>1.645343</td>\n",
       "      <td>3.346854</td>\n",
       "      <td>5.054551</td>\n",
       "      <td>6.395084</td>\n",
       "      <td>1.211</td>\n",
       "      <td>-5000.0</td>\n",
       "      <td>40.293</td>\n",
       "      <td>24.118</td>\n",
       "      <td>15.636587</td>\n",
       "    </tr>\n",
       "    <tr>\n",
       "      <th>3</th>\n",
       "      <td>2017-01-07 06:45:00</td>\n",
       "      <td>ANDE</td>\n",
       "      <td>1</td>\n",
       "      <td>1/7/17</td>\n",
       "      <td>1.555072</td>\n",
       "      <td>1.442889</td>\n",
       "      <td>1.352497</td>\n",
       "      <td>102931.0</td>\n",
       "      <td>0.0</td>\n",
       "      <td>5.692</td>\n",
       "      <td>...</td>\n",
       "      <td>2.183654</td>\n",
       "      <td>2.266223</td>\n",
       "      <td>3.550607</td>\n",
       "      <td>5.363623</td>\n",
       "      <td>6.869857</td>\n",
       "      <td>0.943</td>\n",
       "      <td>-5000.0</td>\n",
       "      <td>40.293</td>\n",
       "      <td>24.220</td>\n",
       "      <td>16.767452</td>\n",
       "    </tr>\n",
       "    <tr>\n",
       "      <th>4</th>\n",
       "      <td>2017-01-07 07:00:00</td>\n",
       "      <td>ANDE</td>\n",
       "      <td>1</td>\n",
       "      <td>1/7/17</td>\n",
       "      <td>2.526992</td>\n",
       "      <td>2.283417</td>\n",
       "      <td>1.677404</td>\n",
       "      <td>102882.5</td>\n",
       "      <td>0.0</td>\n",
       "      <td>5.226</td>\n",
       "      <td>...</td>\n",
       "      <td>2.407290</td>\n",
       "      <td>2.633109</td>\n",
       "      <td>3.692489</td>\n",
       "      <td>5.309871</td>\n",
       "      <td>6.783159</td>\n",
       "      <td>0.751</td>\n",
       "      <td>-5000.0</td>\n",
       "      <td>40.293</td>\n",
       "      <td>24.149</td>\n",
       "      <td>17.249375</td>\n",
       "    </tr>\n",
       "  </tbody>\n",
       "</table>\n",
       "<p>5 rows × 24 columns</p>\n",
       "</div>"
      ],
      "text/plain": [
       "                  Date  Type  from     EXP  max_wind_speed        R1  \\\n",
       "0  2017-01-07 06:00:00  ANDE     1  1/7/17        2.332608  2.630564   \n",
       "1  2017-01-07 06:15:00  ANDE     1  1/7/17        1.555072  2.055383   \n",
       "2  2017-01-07 06:30:00  ANDE     1  1/7/17        2.332608  1.792587   \n",
       "3  2017-01-07 06:45:00  ANDE     1  1/7/17        1.555072  1.442889   \n",
       "4  2017-01-07 07:00:00  ANDE     1  1/7/17        2.526992  2.283417   \n",
       "\n",
       "         R2  Pressure_reduced_to_MSL_.Pa..0.MSL  \\\n",
       "0  2.322274                            102879.7   \n",
       "1  1.813005                            102951.0   \n",
       "2  1.671478                            102890.6   \n",
       "3  1.352497                            102931.0   \n",
       "4  1.677404                            102882.5   \n",
       "\n",
       "   Derived_radar_reflectivity_.dB..1.HYBL  \\\n",
       "0                                     0.0   \n",
       "1                                     0.0   \n",
       "2                                     0.0   \n",
       "3                                     0.0   \n",
       "4                                     0.0   \n",
       "\n",
       "   u.component_of_wind_.m.s..85000.ISBL  ...  HYBL_one  HYBL_two  HYBL_three  \\\n",
       "0                                 5.447  ...  0.629230  0.903721    3.610055   \n",
       "1                                 5.629  ...  0.748575  1.493288    3.643217   \n",
       "2                                 5.653  ...  1.154196  1.645343    3.346854   \n",
       "3                                 5.692  ...  2.183654  2.266223    3.550607   \n",
       "4                                 5.226  ...  2.407290  2.633109    3.692489   \n",
       "\n",
       "   HYBL_four  HYBL_five  diff_temp  geo_cbl  veg_sfc  best_4_layer     ws_700  \n",
       "0   5.011670   6.054984      0.739  -5000.0   40.293        23.757  16.787335  \n",
       "1   5.232982   6.394255      1.050  -5000.0   40.293        23.959  16.195689  \n",
       "2   5.054551   6.395084      1.211  -5000.0   40.293        24.118  15.636587  \n",
       "3   5.363623   6.869857      0.943  -5000.0   40.293        24.220  16.767452  \n",
       "4   5.309871   6.783159      0.751  -5000.0   40.293        24.149  17.249375  \n",
       "\n",
       "[5 rows x 24 columns]"
      ]
     },
     "execution_count": 13,
     "metadata": {},
     "output_type": "execute_result"
    }
   ],
   "source": [
    "df2 = df[['Date','Type', 'from', 'EXP',\n",
    "       'max_wind_speed', 'R1', 'R2',\n",
    "       'Pressure_reduced_to_MSL_.Pa..0.MSL',\n",
    "       'Derived_radar_reflectivity_.dB..1.HYBL',\n",
    "       'u.component_of_wind_.m.s..85000.ISBL',\n",
    "       'v.component_of_wind_.m.s..85000.ISBL', 'wind_speed_85000',\n",
    "       'wind_shear_85000', 'Wind_speed_.gust._.m.s..0.SFC', 'HYBL_one',\n",
    "       'HYBL_two', 'HYBL_three', 'HYBL_four', 'HYBL_five', 'diff_temp',\n",
    "       'geo_cbl', 'veg_sfc', 'best_4_layer', 'ws_700']]\n",
    "le = LabelEncoder()\n",
    "df2['from'] = le.fit_transform(df2['from'])\n",
    "df2.head()"
   ]
  },
  {
   "cell_type": "markdown",
   "metadata": {},
   "source": [
    "### Grid search for best parameters"
   ]
  },
  {
   "cell_type": "code",
   "execution_count": 14,
   "metadata": {},
   "outputs": [],
   "source": [
    "#X = df2.drop(['max_wind_speed', 'Type', 'EXP'], 1)\n",
    "#Y = df2.max_wind_speed.values"
   ]
  },
  {
   "cell_type": "code",
   "execution_count": 15,
   "metadata": {},
   "outputs": [],
   "source": [
    "#from sklearn.model_selection import GridSearchCV\n",
    "#pram = {'subsample': [0.6, 0.8, 1.0],\n",
    "        #'colsample_bytree': [0.6, 0.8, 1.0],\n",
    "        #'max_depth': [3, 4, 5],\n",
    "        #'learning_rate': [.01,0.1,0.3],\n",
    "        #'n_estimators': [100,250,500]}\n",
    "#clf = GridSearchCV(XGBRegressor(objective= 'reg:squarederror' , random_state=19), pram, cv=3, n_jobs=-1, verbose=2, scoring='neg_mean_absolute_error')\n",
    "#clf.fit(X,Y)"
   ]
  },
  {
   "cell_type": "code",
   "execution_count": 16,
   "metadata": {},
   "outputs": [],
   "source": [
    "#clf.best_score_, clf.best_params_"
   ]
  },
  {
   "cell_type": "code",
   "execution_count": 17,
   "metadata": {},
   "outputs": [],
   "source": [
    "def rf_model(x):\n",
    "\n",
    "    test_1 = df2[df2.EXP == x]\n",
    "    train_1 = df2[df2.EXP != x]\n",
    "\n",
    "    train_1 = train_1[['Date','Type', 'from',\n",
    "           'max_wind_speed', 'R1', 'R2',\n",
    "           'Pressure_reduced_to_MSL_.Pa..0.MSL',\n",
    "           'Derived_radar_reflectivity_.dB..1.HYBL',\n",
    "           'u.component_of_wind_.m.s..85000.ISBL',\n",
    "           'v.component_of_wind_.m.s..85000.ISBL', 'wind_speed_85000',\n",
    "           'wind_shear_85000', 'Wind_speed_.gust._.m.s..0.SFC', 'HYBL_one',\n",
    "           'HYBL_two', 'HYBL_three', 'HYBL_four', 'HYBL_five', 'diff_temp',\n",
    "           'geo_cbl', 'veg_sfc', 'best_4_layer', 'ws_700']]\n",
    "\n",
    "\n",
    "    test_1 = test_1[['Date','Type', 'from',\n",
    "           'max_wind_speed', 'R1', 'R2',\n",
    "           'Pressure_reduced_to_MSL_.Pa..0.MSL',\n",
    "           'Derived_radar_reflectivity_.dB..1.HYBL',\n",
    "           'u.component_of_wind_.m.s..85000.ISBL',\n",
    "           'v.component_of_wind_.m.s..85000.ISBL', 'wind_speed_85000',\n",
    "           'wind_shear_85000', 'Wind_speed_.gust._.m.s..0.SFC', 'HYBL_one',\n",
    "           'HYBL_two', 'HYBL_three', 'HYBL_four', 'HYBL_five', 'diff_temp',\n",
    "           'geo_cbl', 'veg_sfc', 'best_4_layer', 'ws_700']]\n",
    "\n",
    "    x_train = train_1.drop('max_wind_speed', 1)\n",
    "    x_train.drop(['Date','Type'], axis=1, inplace=True)\n",
    "    y_train = train_1.max_wind_speed\n",
    "    x_test = test_1.drop('max_wind_speed', 1)\n",
    "    x_test_copy = x_test.copy()\n",
    "    x_test.drop(['Date','Type'], axis=1, inplace=True)\n",
    "    y_test = test_1.max_wind_speed\n",
    "\n",
    "\n",
    "    model = XGBRegressor(booster='gbtree', objective='reg:squarederror', colsample_bytree = 0.6,\n",
    "                        learning_rate = 0.1, max_depth=5, n_estimators=500, subsample = 0.6,\n",
    "                         random_state=16,n_jobs=-1)\n",
    "    model.fit(x_train, y_train)\n",
    "\n",
    "    pred_train = model.predict(x_train)\n",
    "    train_info = model_info2(y_train, pred_train, x , \"train\")\n",
    "\n",
    "    y_train30 = np.where(y_train > 30, 1, 0 )\n",
    "    pred_train30 = np.where(pred_train > 30, 1, 0 )\n",
    "    train_info2 = model_info1(y_train30, pred_train30, x,'train')\n",
    "\n",
    "\n",
    "    pred_test = model.predict(x_test)\n",
    "    test_info = model_info2(y_test, pred_test, x , \"test\")\n",
    "\n",
    "    y_test30 = np.where(y_test > 30, 1, 0 )\n",
    "    pred_test30 = np.where(pred_test > 30, 1, 0 )\n",
    "    test_info2 = model_info1(y_test30, pred_test30, x,'test')\n",
    "\n",
    "    table = train_info.append(test_info)\n",
    "    table2 = train_info2.append(test_info2)\n",
    "    \n",
    "    print(x)\n",
    "    print(table)\n",
    "    print(\"==\" *10)\n",
    "    print(table2)\n",
    "\n",
    "    df4 = pd.DataFrame(y_test)\n",
    "    df4 = df4.rename(columns={'max_wind_speed': 'actual'})\n",
    "    df4 = df4.reset_index()\n",
    "    df4.drop('index', axis=1, inplace=True)\n",
    "    x_test_copy = x_test_copy.reset_index()\n",
    "    x_test_copy.drop(\"index\", axis=1, inplace=True)\n",
    "    df5 = pd.concat([x_test_copy, df4], axis=1)\n",
    "    pred_df = pd.DataFrame(pred_test, columns=[\"pred\"])\n",
    "    df6 = pd.concat([df5, pred_df], axis=1)\n",
    "    df6['From'] = np.where(df6['from'] == 1, 'Mesonet', 'ASOS')\n",
    "    df6.drop('from', inplace=True, axis=1)\n",
    "    df6['test_date'] = x\n",
    "    return(table, table2, df6)"
   ]
  },
  {
   "cell_type": "code",
   "execution_count": 18,
   "metadata": {},
   "outputs": [
    {
     "name": "stdout",
     "output_type": "stream",
     "text": [
      "1/7/17\n",
      "        MAE        MSE  Residual Mean test_date data_tested\n",
      "0  2.467257  10.516900         0.0002    1/7/17       train\n",
      "0  2.971370  13.926024         1.5958    1/7/17        test\n",
      "====================\n",
      "   Accuracy  Hits  False Alarms  Misses  No Events       CSI  Hit Rate  \\\n",
      "0  0.973504  2189           432    1441      66628  0.538897   0.60303   \n",
      "0  1.000000     0             0       0       1959  0.000000   0.00000   \n",
      "\n",
      "   False Alarm Rate test_date data_tested greter_than_30_knots  \\\n",
      "0          0.164823    1/7/17       train                 3630   \n",
      "0          0.000000    1/7/17        test                    0   \n",
      "\n",
      "   less_than_30_knots  \n",
      "0               67060  \n",
      "0                1959  \n",
      "2/9/17\n",
      "        MAE        MSE  Residual Mean test_date data_tested\n",
      "0  2.444517  10.423489         0.0007    2/9/17       train\n",
      "0  3.653666  21.017256        -1.0929    2/9/17        test\n",
      "====================\n",
      "   Accuracy  Hits  False Alarms  Misses  No Events       CSI  Hit Rate  \\\n",
      "0  0.973707  2118           397    1459      66614  0.532964  0.592116   \n",
      "0  0.965551    23            41      30       1967  0.244681  0.433962   \n",
      "\n",
      "   False Alarm Rate test_date data_tested  greter_than_30_knots  \\\n",
      "0          0.157853    2/9/17       train                  3577   \n",
      "0          0.640625    2/9/17        test                    53   \n",
      "\n",
      "   less_than_30_knots  \n",
      "0               67011  \n",
      "0                2008  \n",
      "2/13/17\n",
      "        MAE        MSE  Residual Mean test_date data_tested\n",
      "0  2.417145  10.132724        -0.0034   2/13/17       train\n",
      "0  6.571889  71.159226         4.4976   2/13/17        test\n",
      "====================\n",
      "   Accuracy  Hits  False Alarms  Misses  No Events       CSI  Hit Rate  \\\n",
      "0  0.976391  1746           326    1343      67277  0.511274  0.565231   \n",
      "0  0.760347    90            18     451       1398  0.161002  0.166359   \n",
      "\n",
      "   False Alarm Rate test_date data_tested  greter_than_30_knots  \\\n",
      "0          0.157336   2/13/17       train                  3089   \n",
      "0          0.166667   2/13/17        test                   541   \n",
      "\n",
      "   less_than_30_knots  \n",
      "0               67603  \n",
      "0                1416  \n",
      "2/25/17\n",
      "        MAE        MSE  Residual Mean test_date data_tested\n",
      "0  2.438728  10.291040         0.0039   2/25/17       train\n",
      "0  4.234646  29.417881         0.3416   2/25/17        test\n",
      "====================\n",
      "   Accuracy  Hits  False Alarms  Misses  No Events       CSI  Hit Rate  \\\n",
      "0  0.974009  2170           407    1429      66635  0.541687  0.602945   \n",
      "0  0.984064     0             1      31       1976  0.000000  0.000000   \n",
      "\n",
      "   False Alarm Rate test_date data_tested  greter_than_30_knots  \\\n",
      "0          0.157936   2/25/17       train                  3599   \n",
      "0          1.000000   2/25/17        test                    31   \n",
      "\n",
      "   less_than_30_knots  \n",
      "0               67042  \n",
      "0                1977  \n",
      "3/2/17\n",
      "        MAE        MSE  Residual Mean test_date data_tested\n",
      "0  2.415493  10.096562         0.0044    3/2/17       train\n",
      "0  4.891556  37.923806         3.1504    3/2/17        test\n",
      "====================\n",
      "   Accuracy  Hits  False Alarms  Misses  No Events       CSI  Hit Rate  \\\n",
      "0  0.977725  1786           355    1215      67128  0.532181  0.595135   \n",
      "0  0.779677   169            17     460       1519  0.261610  0.268680   \n",
      "\n",
      "   False Alarm Rate test_date data_tested  greter_than_30_knots  \\\n",
      "0          0.165810    3/2/17       train                  3001   \n",
      "0          0.091398    3/2/17        test                   629   \n",
      "\n",
      "   less_than_30_knots  \n",
      "0               67483  \n",
      "0                1536  \n",
      "3/14/17\n",
      "        MAE        MSE  Residual Mean test_date data_tested\n",
      "0  2.440015  10.362957         0.0018   3/14/17       train\n",
      "0  3.767966  25.516444        -0.8395   3/14/17        test\n",
      "====================\n",
      "   Accuracy  Hits  False Alarms  Misses  No Events       CSI  Hit Rate  \\\n",
      "0  0.974928  2048           367    1401      66700  0.536688  0.593795   \n",
      "0  0.911861   100           107      81       1845  0.347222  0.552486   \n",
      "\n",
      "   False Alarm Rate test_date data_tested  greter_than_30_knots  \\\n",
      "0          0.151967   3/14/17       train                  3449   \n",
      "0          0.516908   3/14/17        test                   181   \n",
      "\n",
      "   less_than_30_knots  \n",
      "0               67067  \n",
      "0                1952  \n",
      "3/22/17\n",
      "        MAE        MSE  Residual Mean test_date data_tested\n",
      "0  2.430445  10.263233         0.0006   3/22/17       train\n",
      "0  4.666537  34.130484        -0.7299   3/22/17        test\n",
      "====================\n",
      "   Accuracy  Hits  False Alarms  Misses  No Events       CSI  Hit Rate  \\\n",
      "0  0.975995  1884           367    1325      66909  0.526846  0.587099   \n",
      "0  0.831331   228           172     193       1571  0.384486  0.541568   \n",
      "\n",
      "   False Alarm Rate test_date data_tested  greter_than_30_knots  \\\n",
      "0          0.163039   3/22/17       train                  3209   \n",
      "0          0.430000   3/22/17        test                   421   \n",
      "\n",
      "   less_than_30_knots  \n",
      "0               67276  \n",
      "0                1743  \n",
      "6/19/17\n",
      "        MAE        MSE  Residual Mean test_date data_tested\n",
      "0  2.430059  10.219389        -0.0025   6/19/17       train\n",
      "0  3.633464  24.103358         0.3682   6/19/17        test\n",
      "====================\n",
      "   Accuracy  Hits  False Alarms  Misses  No Events       CSI  Hit Rate  \\\n",
      "0  0.973469  2126           405    1458      66230  0.532966  0.593192   \n",
      "0  0.980658     0             1      46       2383  0.000000  0.000000   \n",
      "\n",
      "   False Alarm Rate test_date data_tested  greter_than_30_knots  \\\n",
      "0          0.160016   6/19/17       train                  3584   \n",
      "0          1.000000   6/19/17        test                    46   \n",
      "\n",
      "   less_than_30_knots  \n",
      "0               66635  \n",
      "0                2384  \n",
      "7/13/17\n",
      "        MAE        MSE  Residual Mean test_date data_tested\n",
      "0  2.435536  10.283937         0.0020   7/13/17       train\n",
      "0  3.209712  16.162678        -0.6752   7/13/17        test\n",
      "====================\n",
      "   Accuracy  Hits  False Alarms  Misses  No Events       CSI  Hit Rate  \\\n",
      "0  0.973508  2191           425    1437      66233  0.540587  0.603914   \n",
      "0  0.999154     0             0       2       2361  0.000000  0.000000   \n",
      "\n",
      "   False Alarm Rate test_date data_tested  greter_than_30_knots  \\\n",
      "0          0.162462   7/13/17       train                  3628   \n",
      "0               NaN   7/13/17        test                     2   \n",
      "\n",
      "   less_than_30_knots  \n",
      "0               66658  \n",
      "0                2361  \n",
      "10/29/17\n",
      "        MAE        MSE  Residual Mean test_date data_tested\n",
      "0  2.404476  10.005154        -0.0025  10/29/17       train\n",
      "0  6.795659  71.444005        -2.8677  10/29/17        test\n",
      "====================\n",
      "   Accuracy  Hits  False Alarms  Misses  No Events       CSI  Hit Rate  \\\n",
      "0  0.974615  2140           405    1379      66354  0.545362  0.608127   \n",
      "0  0.938844    17            51      94       2209  0.104938  0.153153   \n",
      "\n",
      "   False Alarm Rate test_date data_tested  greter_than_30_knots  \\\n",
      "0          0.159136  10/29/17       train                  3519   \n",
      "0          0.750000  10/29/17        test                   111   \n",
      "\n",
      "   less_than_30_knots  \n",
      "0               66759  \n",
      "0                2260  \n",
      "11/19/17\n",
      "        MAE        MSE  Residual Mean test_date data_tested\n",
      "0  2.421881  10.173241         0.0040  11/19/17       train\n",
      "0  4.974805  37.471673        -0.8772  11/19/17        test\n",
      "====================\n",
      "   Accuracy  Hits  False Alarms  Misses  No Events       CSI  Hit Rate  \\\n",
      "0  0.976433  2027           374    1280      66503  0.550666  0.612942   \n",
      "0  0.887627    68            22     255       2120  0.197101  0.210526   \n",
      "\n",
      "   False Alarm Rate test_date data_tested  greter_than_30_knots  \\\n",
      "0          0.155768  11/19/17       train                  3307   \n",
      "0          0.244444  11/19/17        test                   323   \n",
      "\n",
      "   less_than_30_knots  \n",
      "0               66877  \n",
      "0                2142  \n",
      "12/9/17\n",
      "        MAE        MSE  Residual Mean test_date data_tested\n",
      "0  2.481829  10.624495         0.0005   12/9/17       train\n",
      "0  2.353650   8.259829        -1.1131   12/9/17        test\n",
      "====================\n",
      "   Accuracy  Hits  False Alarms  Misses  No Events       CSI  Hit Rate  \\\n",
      "0   0.97296  2170           436    1460      66052  0.533694  0.597796   \n",
      "0   1.00000     0             0       0       2531  0.000000  0.000000   \n",
      "\n",
      "   False Alarm Rate test_date data_tested greter_than_30_knots  \\\n",
      "0          0.167306   12/9/17       train                 3630   \n",
      "0          0.000000   12/9/17        test                    0   \n",
      "\n",
      "   less_than_30_knots  \n",
      "0               66488  \n",
      "0                2531  \n"
     ]
    },
    {
     "name": "stdout",
     "output_type": "stream",
     "text": [
      "1/4/18\n",
      "        MAE        MSE  Residual Mean test_date data_tested\n",
      "0  2.470077  10.557065        -0.0051    1/4/18       train\n",
      "0  4.092643  30.543353         1.7808    1/4/18        test\n",
      "====================\n",
      "   Accuracy  Hits  False Alarms  Misses  No Events       CSI  Hit Rate  \\\n",
      "0  0.974548  1982           381    1405      66404  0.526008  0.585179   \n",
      "0  0.913201    29             1     214       2233  0.118852  0.119342   \n",
      "\n",
      "   False Alarm Rate test_date data_tested  greter_than_30_knots  \\\n",
      "0          0.161236    1/4/18       train                  3387   \n",
      "0          0.033333    1/4/18        test                   243   \n",
      "\n",
      "   less_than_30_knots  \n",
      "0               66785  \n",
      "0                2234  \n",
      "3/2/18\n",
      "        MAE        MSE  Residual Mean test_date data_tested\n",
      "0  2.427127  10.221432         0.0010    3/2/18       train\n",
      "0  4.728076  37.583447        -0.8946    3/2/18        test\n",
      "====================\n",
      "   Accuracy  Hits  False Alarms  Misses  No Events       CSI  Hit Rate  \\\n",
      "0  0.974337  2049           398    1404      66368  0.532070  0.593397   \n",
      "0  0.921811    23            36     154       2217  0.107981  0.129944   \n",
      "\n",
      "   False Alarm Rate test_date data_tested  greter_than_30_knots  \\\n",
      "0          0.162648    3/2/18       train                  3453   \n",
      "0          0.610169    3/2/18        test                   177   \n",
      "\n",
      "   less_than_30_knots  \n",
      "0               66766  \n",
      "0                2253  \n",
      "3/7/18\n",
      "        MAE        MSE  Residual Mean test_date data_tested\n",
      "0  2.459760  10.506209         0.0005    3/7/18       train\n",
      "0  3.100787  14.962977        -0.2048    3/7/18        test\n",
      "====================\n",
      "   Accuracy  Hits  False Alarms  Misses  No Events       CSI  Hit Rate  \\\n",
      "0  0.973475  2174           408    1452      66089  0.538919  0.599559   \n",
      "0  0.997625     0             2       4       2520  0.000000  0.000000   \n",
      "\n",
      "   False Alarm Rate test_date data_tested  greter_than_30_knots  \\\n",
      "0          0.158017    3/7/18       train                  3626   \n",
      "0          1.000000    3/7/18        test                     4   \n",
      "\n",
      "   less_than_30_knots  \n",
      "0               66497  \n",
      "0                2522  \n",
      "3/21/18\n",
      "        MAE        MSE  Residual Mean test_date data_tested\n",
      "0  2.452479  10.434246        -0.0005   3/21/18       train\n",
      "0  4.506465  31.909477        -3.1385   3/21/18        test\n",
      "====================\n",
      "   Accuracy  Hits  False Alarms  Misses  No Events       CSI  Hit Rate  \\\n",
      "0  0.973079  2184           447    1446      66240  0.535688  0.601653   \n",
      "0  0.975986     0            56       0       2276  0.000000       NaN   \n",
      "\n",
      "   False Alarm Rate test_date data_tested greter_than_30_knots  \\\n",
      "0          0.169897   3/21/18       train                 3630   \n",
      "0          1.000000   3/21/18        test                    0   \n",
      "\n",
      "   less_than_30_knots  \n",
      "0               66687  \n",
      "0                2332  \n",
      "5/15/18\n",
      "        MAE        MSE  Residual Mean test_date data_tested\n",
      "0  2.416927  10.077668         0.0009   5/15/18       train\n",
      "0  4.057949  34.514799        -0.4698   5/15/18        test\n",
      "====================\n",
      "   Accuracy  Hits  False Alarms  Misses  No Events       CSI  Hit Rate  \\\n",
      "0  0.973612  2152           419    1432      66143  0.537597  0.600446   \n",
      "0  0.981622     0             0      46       2457  0.000000  0.000000   \n",
      "\n",
      "   False Alarm Rate test_date data_tested  greter_than_30_knots  \\\n",
      "0          0.162972   5/15/18       train                  3584   \n",
      "0               NaN   5/15/18        test                    46   \n",
      "\n",
      "   less_than_30_knots  \n",
      "0               66562  \n",
      "0                2457  \n",
      "5/26/18\n",
      "        MAE        MSE  Residual Mean test_date data_tested\n",
      "0  2.457767  10.437637         0.0009   5/26/18       train\n",
      "0  3.382204  17.819184        -2.0328   5/26/18        test\n",
      "====================\n",
      "   Accuracy  Hits  False Alarms  Misses  No Events       CSI  Hit Rate  \\\n",
      "0  0.972895  2149           423    1481      66192  0.530225  0.592011   \n",
      "0  1.000000     0             0       0       2404  0.000000  0.000000   \n",
      "\n",
      "   False Alarm Rate test_date data_tested greter_than_30_knots  \\\n",
      "0          0.164463   5/26/18       train                 3630   \n",
      "0          0.000000   5/26/18        test                    0   \n",
      "\n",
      "   less_than_30_knots  \n",
      "0               66615  \n",
      "0                2404  \n",
      "6/13/18\n",
      "        MAE        MSE  Residual Mean test_date data_tested\n",
      "0  2.440662  10.326713         0.0001   6/13/18       train\n",
      "0  3.191720  16.785030        -0.3092   6/13/18        test\n",
      "====================\n",
      "   Accuracy  Hits  False Alarms  Misses  No Events       CSI  Hit Rate  \\\n",
      "0  0.972965  2160           426    1469      66039  0.532676  0.595205   \n",
      "0  0.999609     0             0       1       2554  0.000000  0.000000   \n",
      "\n",
      "   False Alarm Rate test_date data_tested  greter_than_30_knots  \\\n",
      "0          0.164733   6/13/18       train                  3629   \n",
      "0               NaN   6/13/18        test                     1   \n",
      "\n",
      "   less_than_30_knots  \n",
      "0               66465  \n",
      "0                2554  \n",
      "7/17/18\n",
      "        MAE        MSE  Residual Mean test_date data_tested\n",
      "0  2.449106  10.350642        -0.0014   7/17/18       train\n",
      "0  2.863681  17.396343         0.3550   7/17/18        test\n",
      "====================\n",
      "   Accuracy  Hits  False Alarms  Misses  No Events       CSI  Hit Rate  \\\n",
      "0  0.973631  2177           411    1443      66278  0.540065  0.601381   \n",
      "0  0.995726     0             0      10       2330  0.000000  0.000000   \n",
      "\n",
      "   False Alarm Rate test_date data_tested  greter_than_30_knots  \\\n",
      "0           0.15881   7/17/18       train                  3620   \n",
      "0               NaN   7/17/18        test                    10   \n",
      "\n",
      "   less_than_30_knots  \n",
      "0               66689  \n",
      "0                2330  \n",
      "7/21/18\n",
      "        MAE        MSE  Residual Mean test_date data_tested\n",
      "0  2.459352  10.481787         0.0004   7/21/18       train\n",
      "0  4.086863  26.860353         1.5690   7/21/18        test\n",
      "====================\n",
      "   Accuracy  Hits  False Alarms  Misses  No Events       CSI  Hit Rate  \\\n",
      "0  0.973092  2144           413    1477      66206  0.531482  0.592102   \n",
      "0  0.993358     1             8       8       2392  0.058824  0.111111   \n",
      "\n",
      "   False Alarm Rate test_date data_tested  greter_than_30_knots  \\\n",
      "0          0.161517   7/21/18       train                  3621   \n",
      "0          0.888889   7/21/18        test                     9   \n",
      "\n",
      "   less_than_30_knots  \n",
      "0               66619  \n",
      "0                2400  \n",
      "8/17/18\n",
      "        MAE        MSE  Residual Mean test_date data_tested\n",
      "0  2.433433  10.209231        -0.0008   8/17/18       train\n",
      "0  3.650548  23.553323        -0.0521   8/17/18        test\n",
      "====================\n",
      "   Accuracy  Hits  False Alarms  Misses  No Events       CSI  Hit Rate  \\\n",
      "0  0.973821  2190           412    1433      66440  0.542751  0.604471   \n",
      "0  0.996780     0             0       7       2167  0.000000  0.000000   \n",
      "\n",
      "   False Alarm Rate test_date data_tested  greter_than_30_knots  \\\n",
      "0           0.15834   8/17/18       train                  3623   \n",
      "0               NaN   8/17/18        test                     7   \n",
      "\n",
      "   less_than_30_knots  \n",
      "0               66852  \n",
      "0                2167  \n",
      "9/4/18\n",
      "        MAE        MSE  Residual Mean test_date data_tested\n",
      "0  2.480613  10.640162         0.0008    9/4/18       train\n",
      "0  2.005320   6.102249         0.1059    9/4/18        test\n",
      "====================\n",
      "   Accuracy  Hits  False Alarms  Misses  No Events       CSI  Hit Rate  \\\n",
      "0  0.973169  2146           408    1484      66478  0.531451  0.591185   \n",
      "0  1.000000     0             0       0       2133  0.000000  0.000000   \n",
      "\n",
      "   False Alarm Rate test_date data_tested greter_than_30_knots  \\\n",
      "0          0.159749    9/4/18       train                 3630   \n",
      "0          0.000000    9/4/18        test                    0   \n",
      "\n",
      "   less_than_30_knots  \n",
      "0               66886  \n",
      "0                2133  \n",
      "9/6/18\n",
      "        MAE        MSE  Residual Mean test_date data_tested\n",
      "0  2.458709  10.408288        -0.0017    9/6/18       train\n",
      "0  2.636883  14.591981         0.4063    9/6/18        test\n",
      "====================\n",
      "   Accuracy  Hits  False Alarms  Misses  No Events       CSI  Hit Rate  \\\n",
      "0  0.973812  2186           406    1438      66384  0.542432  0.603201   \n",
      "0  0.997315     0             0       6       2229  0.000000  0.000000   \n",
      "\n",
      "   False Alarm Rate test_date data_tested  greter_than_30_knots  \\\n",
      "0          0.156636    9/6/18       train                  3624   \n",
      "0               NaN    9/6/18        test                     6   \n",
      "\n",
      "   less_than_30_knots  \n",
      "0               66790  \n",
      "0                2229  \n"
     ]
    },
    {
     "name": "stdout",
     "output_type": "stream",
     "text": [
      "9/10/18\n",
      "        MAE        MSE  Residual Mean test_date data_tested\n",
      "0  2.452463  10.439702         0.0002   9/10/18       train\n",
      "0  3.561545  22.232356         1.7692   9/10/18        test\n",
      "====================\n",
      "   Accuracy  Hits  False Alarms  Misses  No Events       CSI  Hit Rate  \\\n",
      "0  0.973404  2171           418    1454      66344  0.536977  0.598897   \n",
      "0  0.997790     0             0       5       2257  0.000000  0.000000   \n",
      "\n",
      "   False Alarm Rate test_date data_tested  greter_than_30_knots  \\\n",
      "0          0.161452   9/10/18       train                  3625   \n",
      "0               NaN   9/10/18        test                     5   \n",
      "\n",
      "   less_than_30_knots  \n",
      "0               66762  \n",
      "0                2257  \n",
      "9/26/18\n",
      "        MAE        MSE  Residual Mean test_date data_tested\n",
      "0  2.432577  10.252488         0.0042   9/26/18       train\n",
      "0  3.859869  23.814683         1.9681   9/26/18        test\n",
      "====================\n",
      "   Accuracy  Hits  False Alarms  Misses  No Events       CSI  Hit Rate  \\\n",
      "0  0.973491  2171           410    1459      66464  0.537376  0.598072   \n",
      "0  1.000000     0             0       0       2145  0.000000  0.000000   \n",
      "\n",
      "   False Alarm Rate test_date data_tested greter_than_30_knots  \\\n",
      "0          0.158853   9/26/18       train                 3630   \n",
      "0          0.000000   9/26/18        test                    0   \n",
      "\n",
      "   less_than_30_knots  \n",
      "0               66874  \n",
      "0                2145  \n",
      "10/2/18\n",
      "        MAE        MSE  Residual Mean test_date data_tested\n",
      "0  2.428358  10.211342         0.0027   10/2/18       train\n",
      "0  4.298175  28.343580        -1.9671   10/2/18        test\n",
      "====================\n",
      "   Accuracy  Hits  False Alarms  Misses  No Events       CSI  Hit Rate  \\\n",
      "0  0.973319  2170           426    1457      66521  0.535406  0.598291   \n",
      "0  0.998554     0             0       3       2072  0.000000  0.000000   \n",
      "\n",
      "   False Alarm Rate test_date data_tested  greter_than_30_knots  \\\n",
      "0          0.164099   10/2/18       train                  3627   \n",
      "0               NaN   10/2/18        test                     3   \n",
      "\n",
      "   less_than_30_knots  \n",
      "0               66947  \n",
      "0                2072  \n",
      "10/12/18\n",
      "        MAE        MSE  Residual Mean test_date data_tested\n",
      "0  2.450726  10.416640         0.0025  10/12/18       train\n",
      "0  4.208257  27.807282         0.4527  10/12/18        test\n",
      "====================\n",
      "   Accuracy  Hits  False Alarms  Misses  No Events       CSI  Hit Rate  \\\n",
      "0  0.973731  2136           400    1449      66401  0.536010  0.595816   \n",
      "0  0.976580     7            15      38       2203  0.116667  0.155556   \n",
      "\n",
      "   False Alarm Rate test_date data_tested  greter_than_30_knots  \\\n",
      "0          0.157729  10/12/18       train                  3585   \n",
      "0          0.681818  10/12/18        test                    45   \n",
      "\n",
      "   less_than_30_knots  \n",
      "0               66801  \n",
      "0                2218  \n",
      "10/27/18\n",
      "        MAE        MSE  Residual Mean test_date data_tested\n",
      "0  2.445000  10.352271        -0.0021  10/27/18       train\n",
      "0  3.992423  27.004755         0.7257  10/27/18        test\n",
      "====================\n",
      "   Accuracy  Hits  False Alarms  Misses  No Events       CSI  Hit Rate  \\\n",
      "0  0.974794  2134           390    1388      66627  0.545501  0.605906   \n",
      "0  0.954028    11             0      97       2002  0.101852  0.101852   \n",
      "\n",
      "   False Alarm Rate test_date data_tested  greter_than_30_knots  \\\n",
      "0          0.154517  10/27/18       train                  3522   \n",
      "0          0.000000  10/27/18        test                   108   \n",
      "\n",
      "   less_than_30_knots  \n",
      "0               67017  \n",
      "0                2002  \n",
      "12/17/18\n",
      "        MAE        MSE  Residual Mean test_date data_tested\n",
      "0  2.432231  10.265057         0.0002  12/17/18       train\n",
      "0  4.444177  31.774602         0.6004  12/17/18        test\n",
      "====================\n",
      "   Accuracy  Hits  False Alarms  Misses  No Events       CSI  Hit Rate  \\\n",
      "0  0.975781  2133           391    1318      66722  0.555180  0.618082   \n",
      "0  0.910791    11            18     168       1888  0.055838  0.061453   \n",
      "\n",
      "   False Alarm Rate test_date data_tested  greter_than_30_knots  \\\n",
      "0          0.154913  12/17/18       train                  3451   \n",
      "0          0.620690  12/17/18        test                   179   \n",
      "\n",
      "   less_than_30_knots  \n",
      "0               67113  \n",
      "0                1906  \n",
      "12/22/18\n",
      "        MAE        MSE  Residual Mean test_date data_tested\n",
      "0  2.427748  10.204302         0.0031  12/22/18       train\n",
      "0  4.120227  27.025573         0.3745  12/22/18        test\n",
      "====================\n",
      "   Accuracy  Hits  False Alarms  Misses  No Events       CSI  Hit Rate  \\\n",
      "0  0.975327  2138           420    1317      66526  0.551742  0.618813   \n",
      "0  0.925712    35            27     140       2046  0.173267  0.200000   \n",
      "\n",
      "   False Alarm Rate test_date data_tested  greter_than_30_knots  \\\n",
      "0          0.164191  12/22/18       train                  3455   \n",
      "0          0.435484  12/22/18        test                   175   \n",
      "\n",
      "   less_than_30_knots  \n",
      "0               66946  \n",
      "0                2073  \n",
      "2/24/19\n",
      "        MAE        MSE  Residual Mean test_date data_tested\n",
      "0  2.421723  10.182117        -0.0010   2/24/19       train\n",
      "0  5.682765  51.902157        -1.1115   2/24/19        test\n",
      "====================\n",
      "   Accuracy  Hits  False Alarms  Misses  No Events       CSI  Hit Rate  \\\n",
      "0  0.974386  1963           408    1393      66549  0.521520  0.584923   \n",
      "0  0.887414    18             7     256       2055  0.064057  0.065693   \n",
      "\n",
      "   False Alarm Rate test_date data_tested  greter_than_30_knots  \\\n",
      "0          0.172079   2/24/19       train                  3356   \n",
      "0          0.280000   2/24/19        test                   274   \n",
      "\n",
      "   less_than_30_knots  \n",
      "0               66957  \n",
      "0                2062  \n"
     ]
    }
   ],
   "source": [
    "table = pd.DataFrame()\n",
    "table_class = pd.DataFrame()\n",
    "data = pd.DataFrame()\n",
    "for i in df['EXP'].unique():\n",
    "    t,tc,d = rf_model(i)\n",
    "    table = table.append(t)\n",
    "    table_class = table_class.append(tc)\n",
    "    data = data.append(d)"
   ]
  },
  {
   "cell_type": "code",
   "execution_count": 20,
   "metadata": {},
   "outputs": [
    {
     "data": {
      "text/html": [
       "<div>\n",
       "<style scoped>\n",
       "    .dataframe tbody tr th:only-of-type {\n",
       "        vertical-align: middle;\n",
       "    }\n",
       "\n",
       "    .dataframe tbody tr th {\n",
       "        vertical-align: top;\n",
       "    }\n",
       "\n",
       "    .dataframe thead th {\n",
       "        text-align: right;\n",
       "    }\n",
       "</style>\n",
       "<table border=\"1\" class=\"dataframe\">\n",
       "  <thead>\n",
       "    <tr style=\"text-align: right;\">\n",
       "      <th></th>\n",
       "      <th>MAE</th>\n",
       "      <th>MSE</th>\n",
       "      <th>Residual Mean</th>\n",
       "      <th>test_date</th>\n",
       "      <th>data_tested</th>\n",
       "    </tr>\n",
       "  </thead>\n",
       "  <tbody>\n",
       "    <tr>\n",
       "      <th>0</th>\n",
       "      <td>2.467257</td>\n",
       "      <td>10.516900</td>\n",
       "      <td>0.0002</td>\n",
       "      <td>1/7/17</td>\n",
       "      <td>train</td>\n",
       "    </tr>\n",
       "    <tr>\n",
       "      <th>0</th>\n",
       "      <td>2.971370</td>\n",
       "      <td>13.926024</td>\n",
       "      <td>1.5958</td>\n",
       "      <td>1/7/17</td>\n",
       "      <td>test</td>\n",
       "    </tr>\n",
       "    <tr>\n",
       "      <th>0</th>\n",
       "      <td>2.444517</td>\n",
       "      <td>10.423489</td>\n",
       "      <td>0.0007</td>\n",
       "      <td>2/9/17</td>\n",
       "      <td>train</td>\n",
       "    </tr>\n",
       "    <tr>\n",
       "      <th>0</th>\n",
       "      <td>3.653666</td>\n",
       "      <td>21.017256</td>\n",
       "      <td>-1.0929</td>\n",
       "      <td>2/9/17</td>\n",
       "      <td>test</td>\n",
       "    </tr>\n",
       "    <tr>\n",
       "      <th>0</th>\n",
       "      <td>2.417145</td>\n",
       "      <td>10.132724</td>\n",
       "      <td>-0.0034</td>\n",
       "      <td>2/13/17</td>\n",
       "      <td>train</td>\n",
       "    </tr>\n",
       "  </tbody>\n",
       "</table>\n",
       "</div>"
      ],
      "text/plain": [
       "        MAE        MSE  Residual Mean test_date data_tested\n",
       "0  2.467257  10.516900         0.0002    1/7/17       train\n",
       "0  2.971370  13.926024         1.5958    1/7/17        test\n",
       "0  2.444517  10.423489         0.0007    2/9/17       train\n",
       "0  3.653666  21.017256        -1.0929    2/9/17        test\n",
       "0  2.417145  10.132724        -0.0034   2/13/17       train"
      ]
     },
     "execution_count": 20,
     "metadata": {},
     "output_type": "execute_result"
    }
   ],
   "source": [
    "#table.to_csv('XGB_stats.csv')\n",
    "table.head()"
   ]
  },
  {
   "cell_type": "code",
   "execution_count": 22,
   "metadata": {},
   "outputs": [
    {
     "data": {
      "text/html": [
       "<div>\n",
       "<style scoped>\n",
       "    .dataframe tbody tr th:only-of-type {\n",
       "        vertical-align: middle;\n",
       "    }\n",
       "\n",
       "    .dataframe tbody tr th {\n",
       "        vertical-align: top;\n",
       "    }\n",
       "\n",
       "    .dataframe thead th {\n",
       "        text-align: right;\n",
       "    }\n",
       "</style>\n",
       "<table border=\"1\" class=\"dataframe\">\n",
       "  <thead>\n",
       "    <tr style=\"text-align: right;\">\n",
       "      <th></th>\n",
       "      <th>Accuracy</th>\n",
       "      <th>Hits</th>\n",
       "      <th>False Alarms</th>\n",
       "      <th>Misses</th>\n",
       "      <th>No Events</th>\n",
       "      <th>CSI</th>\n",
       "      <th>Hit Rate</th>\n",
       "      <th>False Alarm Rate</th>\n",
       "      <th>test_date</th>\n",
       "      <th>data_tested</th>\n",
       "      <th>greter_than_30_knots</th>\n",
       "      <th>less_than_30_knots</th>\n",
       "    </tr>\n",
       "  </thead>\n",
       "  <tbody>\n",
       "    <tr>\n",
       "      <th>0</th>\n",
       "      <td>0.973504</td>\n",
       "      <td>2189</td>\n",
       "      <td>432</td>\n",
       "      <td>1441</td>\n",
       "      <td>66628</td>\n",
       "      <td>0.538897</td>\n",
       "      <td>0.603030</td>\n",
       "      <td>0.164823</td>\n",
       "      <td>1/7/17</td>\n",
       "      <td>train</td>\n",
       "      <td>3630</td>\n",
       "      <td>67060</td>\n",
       "    </tr>\n",
       "    <tr>\n",
       "      <th>0</th>\n",
       "      <td>1.000000</td>\n",
       "      <td>0</td>\n",
       "      <td>0</td>\n",
       "      <td>0</td>\n",
       "      <td>1959</td>\n",
       "      <td>0.000000</td>\n",
       "      <td>0.000000</td>\n",
       "      <td>0.000000</td>\n",
       "      <td>1/7/17</td>\n",
       "      <td>test</td>\n",
       "      <td>0</td>\n",
       "      <td>1959</td>\n",
       "    </tr>\n",
       "    <tr>\n",
       "      <th>0</th>\n",
       "      <td>0.973707</td>\n",
       "      <td>2118</td>\n",
       "      <td>397</td>\n",
       "      <td>1459</td>\n",
       "      <td>66614</td>\n",
       "      <td>0.532964</td>\n",
       "      <td>0.592116</td>\n",
       "      <td>0.157853</td>\n",
       "      <td>2/9/17</td>\n",
       "      <td>train</td>\n",
       "      <td>3577</td>\n",
       "      <td>67011</td>\n",
       "    </tr>\n",
       "    <tr>\n",
       "      <th>0</th>\n",
       "      <td>0.965551</td>\n",
       "      <td>23</td>\n",
       "      <td>41</td>\n",
       "      <td>30</td>\n",
       "      <td>1967</td>\n",
       "      <td>0.244681</td>\n",
       "      <td>0.433962</td>\n",
       "      <td>0.640625</td>\n",
       "      <td>2/9/17</td>\n",
       "      <td>test</td>\n",
       "      <td>53</td>\n",
       "      <td>2008</td>\n",
       "    </tr>\n",
       "    <tr>\n",
       "      <th>0</th>\n",
       "      <td>0.976391</td>\n",
       "      <td>1746</td>\n",
       "      <td>326</td>\n",
       "      <td>1343</td>\n",
       "      <td>67277</td>\n",
       "      <td>0.511274</td>\n",
       "      <td>0.565231</td>\n",
       "      <td>0.157336</td>\n",
       "      <td>2/13/17</td>\n",
       "      <td>train</td>\n",
       "      <td>3089</td>\n",
       "      <td>67603</td>\n",
       "    </tr>\n",
       "  </tbody>\n",
       "</table>\n",
       "</div>"
      ],
      "text/plain": [
       "   Accuracy  Hits  False Alarms  Misses  No Events       CSI  Hit Rate  \\\n",
       "0  0.973504  2189           432    1441      66628  0.538897  0.603030   \n",
       "0  1.000000     0             0       0       1959  0.000000  0.000000   \n",
       "0  0.973707  2118           397    1459      66614  0.532964  0.592116   \n",
       "0  0.965551    23            41      30       1967  0.244681  0.433962   \n",
       "0  0.976391  1746           326    1343      67277  0.511274  0.565231   \n",
       "\n",
       "   False Alarm Rate test_date data_tested greter_than_30_knots  \\\n",
       "0          0.164823    1/7/17       train                 3630   \n",
       "0          0.000000    1/7/17        test                    0   \n",
       "0          0.157853    2/9/17       train                 3577   \n",
       "0          0.640625    2/9/17        test                   53   \n",
       "0          0.157336   2/13/17       train                 3089   \n",
       "\n",
       "   less_than_30_knots  \n",
       "0               67060  \n",
       "0                1959  \n",
       "0               67011  \n",
       "0                2008  \n",
       "0               67603  "
      ]
     },
     "execution_count": 22,
     "metadata": {},
     "output_type": "execute_result"
    }
   ],
   "source": [
    "table_class.to_csv('XGB_stats_class.csv')\n",
    "table_class.head()"
   ]
  },
  {
   "cell_type": "markdown",
   "metadata": {},
   "source": [
    "### 10 Samples "
   ]
  },
  {
   "cell_type": "code",
   "execution_count": 8,
   "metadata": {},
   "outputs": [],
   "source": [
    "def rf_model2(x,sample):\n",
    "\n",
    "    test_1 = df2[df2.EXP == x]\n",
    "    train_1 = df2[df2.EXP != x]\n",
    "    exp = train_1['EXP'].unique()\n",
    "    smp = np.random.choice(exp,sample,replace=False)\n",
    "    train2 = train_1[train_1['EXP'].isin(smp)]\n",
    "    print(len(train2['EXP'].unique()))\n",
    "\n",
    "    train2 = train2[['Type', 'from',\n",
    "       'max_wind_speed', 'R1', 'R2',\n",
    "       'Pressure_reduced_to_MSL_.Pa..0.MSL',\n",
    "       'Derived_radar_reflectivity_.dB..1.HYBL',\n",
    "       'u.component_of_wind_.m.s..85000.ISBL',\n",
    "       'v.component_of_wind_.m.s..85000.ISBL', 'wind_speed_85000',\n",
    "       'wind_shear_85000', 'Wind_speed_.gust._.m.s..0.SFC', 'HYBL_one',\n",
    "       'HYBL_two', 'HYBL_three', 'HYBL_four', 'HYBL_five', 'diff_temp',\n",
    "       'geo_cbl', 'veg_sfc', 'best_4_layer', 'ws_700']]\n",
    "\n",
    "\n",
    "    test_1 = test_1[['Type', 'from',\n",
    "       'max_wind_speed', 'R1', 'R2',\n",
    "       'Pressure_reduced_to_MSL_.Pa..0.MSL',\n",
    "       'Derived_radar_reflectivity_.dB..1.HYBL',\n",
    "       'u.component_of_wind_.m.s..85000.ISBL',\n",
    "       'v.component_of_wind_.m.s..85000.ISBL', 'wind_speed_85000',\n",
    "       'wind_shear_85000', 'Wind_speed_.gust._.m.s..0.SFC', 'HYBL_one',\n",
    "       'HYBL_two', 'HYBL_three', 'HYBL_four', 'HYBL_five', 'diff_temp',\n",
    "       'geo_cbl', 'veg_sfc', 'best_4_layer', 'ws_700']]\n",
    "\n",
    "    x_train = train2.drop('max_wind_speed', 1)\n",
    "    x_train.drop('Type', axis=1, inplace=True)\n",
    "    y_train = train2.max_wind_speed\n",
    "    x_test = test_1.drop('max_wind_speed', 1)\n",
    "    x_test_copy = x_test.copy()\n",
    "    x_test.drop('Type', axis=1, inplace=True)\n",
    "    y_test = test_1.max_wind_speed\n",
    "    \n",
    "    ll = list(smp)\n",
    "    dates = \" \".join(str(x) for x in ll)\n",
    "\n",
    "    model = XGBRegressor(booster='gbtree', objective='reg:squarederror', colsample_bytree = 0.6,\n",
    "                        learning_rate = 0.1, max_depth=5, n_estimators=500, subsample = 0.6,\n",
    "                         random_state=16,n_jobs=-1)\n",
    "    model.fit(x_train, y_train)\n",
    "\n",
    "    pred_train = model.predict(x_train)\n",
    "    train_info = model_info(y_train, pred_train, x , \"train\",)\n",
    "\n",
    "    pred_test = model.predict(x_test)\n",
    "    test_info = model_info(y_test, pred_test, x , \"test\",)\n",
    "\n",
    "    table = train_info.append(test_info)\n",
    "    table['train_dates'] = dates\n",
    "    table['number_sample'] = sample\n",
    "    print(x)\n",
    "    print(table)\n",
    "    print(\"--\" * 40)\n",
    "\n",
    "    df4 = pd.DataFrame(y_test)\n",
    "    df4 = df4.rename(columns={'max_wind_speed': 'actual'})\n",
    "    df4 = df4.reset_index()\n",
    "    df4.drop('index', axis=1, inplace=True)\n",
    "    x_test_copy = x_test_copy.reset_index()\n",
    "    x_test_copy.drop(\"index\", axis=1, inplace=True)\n",
    "    df5 = pd.concat([x_test_copy, df4], axis=1)\n",
    "    pred_df = pd.DataFrame(pred_test, columns=[\"pred\"])\n",
    "    df6 = pd.concat([df5, pred_df], axis=1)\n",
    "    df6['From'] = np.where(df6['from'] == 1, 'Mesonet', 'ASOS')\n",
    "    df6.drop('from', inplace=True, axis=1)\n",
    "    df6['test_date'] = x\n",
    "    df6['number_sample'] = sample\n",
    "    return (table, df6)"
   ]
  },
  {
   "cell_type": "code",
   "execution_count": 9,
   "metadata": {},
   "outputs": [
    {
     "name": "stdout",
     "output_type": "stream",
     "text": [
      "10\n"
     ]
    },
    {
     "name": "stderr",
     "output_type": "stream",
     "text": [
      "/anaconda3/envs/coding/lib/python3.6/site-packages/xgboost/core.py:587: FutureWarning: Series.base is deprecated and will be removed in a future version\n",
      "  if getattr(data, 'base', None) is not None and \\\n",
      "/anaconda3/envs/coding/lib/python3.6/site-packages/xgboost/core.py:588: FutureWarning: Series.base is deprecated and will be removed in a future version\n",
      "  data.base is not None and isinstance(data, np.ndarray) \\\n"
     ]
    },
    {
     "name": "stdout",
     "output_type": "stream",
     "text": [
      "1/7/17\n",
      "        MAE        MSE        R2  Residual Mean test_date data_tested  \\\n",
      "0  1.713781   5.127535  0.918707         0.0029    1/7/17       train   \n",
      "0  3.146377  16.660902  0.435652         0.0467    1/7/17        test   \n",
      "\n",
      "                                         train_dates  number_sample  \n",
      "0  6/19/17 10/2/18 5/26/18 12/9/17 3/22/17 9/10/1...             10  \n",
      "0  6/19/17 10/2/18 5/26/18 12/9/17 3/22/17 9/10/1...             10  \n",
      "--------------------------------------------------------------------------------\n",
      "1 /32\n",
      "10\n"
     ]
    },
    {
     "name": "stderr",
     "output_type": "stream",
     "text": [
      "/anaconda3/envs/coding/lib/python3.6/site-packages/xgboost/core.py:587: FutureWarning: Series.base is deprecated and will be removed in a future version\n",
      "  if getattr(data, 'base', None) is not None and \\\n",
      "/anaconda3/envs/coding/lib/python3.6/site-packages/xgboost/core.py:588: FutureWarning: Series.base is deprecated and will be removed in a future version\n",
      "  data.base is not None and isinstance(data, np.ndarray) \\\n"
     ]
    },
    {
     "name": "stdout",
     "output_type": "stream",
     "text": [
      "2/9/17\n",
      "        MAE        MSE        R2  Residual Mean test_date data_tested  \\\n",
      "0  1.999566   6.747597  0.915365        -0.0049    2/9/17       train   \n",
      "0  3.703234  22.168337  0.530080        -0.0786    2/9/17        test   \n",
      "\n",
      "                                         train_dates  number_sample  \n",
      "0  10/12/18 6/13/18 2/24/19 12/17/18 9/10/18 7/13...             10  \n",
      "0  10/12/18 6/13/18 2/24/19 12/17/18 9/10/18 7/13...             10  \n",
      "--------------------------------------------------------------------------------\n",
      "2 /32\n",
      "10\n"
     ]
    },
    {
     "name": "stderr",
     "output_type": "stream",
     "text": [
      "/anaconda3/envs/coding/lib/python3.6/site-packages/xgboost/core.py:587: FutureWarning: Series.base is deprecated and will be removed in a future version\n",
      "  if getattr(data, 'base', None) is not None and \\\n",
      "/anaconda3/envs/coding/lib/python3.6/site-packages/xgboost/core.py:588: FutureWarning: Series.base is deprecated and will be removed in a future version\n",
      "  data.base is not None and isinstance(data, np.ndarray) \\\n"
     ]
    },
    {
     "name": "stdout",
     "output_type": "stream",
     "text": [
      "2/13/17\n",
      "        MAE        MSE        R2  Residual Mean test_date data_tested  \\\n",
      "0  1.611160   4.378991  0.918819        -0.0015   2/13/17       train   \n",
      "0  7.116489  81.358290 -0.007255         4.9574   2/13/17        test   \n",
      "\n",
      "                                         train_dates  number_sample  \n",
      "0  3/21/18 10/27/18 3/7/18 7/13/17 12/22/18 9/10/...             10  \n",
      "0  3/21/18 10/27/18 3/7/18 7/13/17 12/22/18 9/10/...             10  \n",
      "--------------------------------------------------------------------------------\n",
      "3 /32\n",
      "10\n"
     ]
    },
    {
     "name": "stderr",
     "output_type": "stream",
     "text": [
      "/anaconda3/envs/coding/lib/python3.6/site-packages/xgboost/core.py:587: FutureWarning: Series.base is deprecated and will be removed in a future version\n",
      "  if getattr(data, 'base', None) is not None and \\\n",
      "/anaconda3/envs/coding/lib/python3.6/site-packages/xgboost/core.py:588: FutureWarning: Series.base is deprecated and will be removed in a future version\n",
      "  data.base is not None and isinstance(data, np.ndarray) \\\n"
     ]
    },
    {
     "name": "stdout",
     "output_type": "stream",
     "text": [
      "2/25/17\n",
      "        MAE        MSE        R2  Residual Mean test_date data_tested  \\\n",
      "0  1.745016   5.121212  0.927579         0.0034   2/25/17       train   \n",
      "0  4.773732  36.610564  0.031154         2.0357   2/25/17        test   \n",
      "\n",
      "                                         train_dates  number_sample  \n",
      "0  2/24/19 7/17/18 1/4/18 9/10/18 10/12/18 9/26/1...             10  \n",
      "0  2/24/19 7/17/18 1/4/18 9/10/18 10/12/18 9/26/1...             10  \n",
      "--------------------------------------------------------------------------------\n",
      "4 /32\n",
      "10\n"
     ]
    },
    {
     "name": "stderr",
     "output_type": "stream",
     "text": [
      "/anaconda3/envs/coding/lib/python3.6/site-packages/xgboost/core.py:587: FutureWarning: Series.base is deprecated and will be removed in a future version\n",
      "  if getattr(data, 'base', None) is not None and \\\n",
      "/anaconda3/envs/coding/lib/python3.6/site-packages/xgboost/core.py:588: FutureWarning: Series.base is deprecated and will be removed in a future version\n",
      "  data.base is not None and isinstance(data, np.ndarray) \\\n"
     ]
    },
    {
     "name": "stdout",
     "output_type": "stream",
     "text": [
      "3/2/17\n",
      "        MAE        MSE        R2  Residual Mean test_date data_tested  \\\n",
      "0  1.573855   4.265230  0.920698        -0.0029    3/2/17       train   \n",
      "0  8.087270  94.859418 -0.760464         7.4874    3/2/17        test   \n",
      "\n",
      "                                         train_dates  number_sample  \n",
      "0  3/21/18 10/27/18 3/14/17 5/26/18 9/10/18 7/13/...             10  \n",
      "0  3/21/18 10/27/18 3/14/17 5/26/18 9/10/18 7/13/...             10  \n",
      "--------------------------------------------------------------------------------\n",
      "5 /32\n",
      "10\n"
     ]
    },
    {
     "name": "stderr",
     "output_type": "stream",
     "text": [
      "/anaconda3/envs/coding/lib/python3.6/site-packages/xgboost/core.py:587: FutureWarning: Series.base is deprecated and will be removed in a future version\n",
      "  if getattr(data, 'base', None) is not None and \\\n",
      "/anaconda3/envs/coding/lib/python3.6/site-packages/xgboost/core.py:588: FutureWarning: Series.base is deprecated and will be removed in a future version\n",
      "  data.base is not None and isinstance(data, np.ndarray) \\\n"
     ]
    },
    {
     "name": "stdout",
     "output_type": "stream",
     "text": [
      "3/14/17\n",
      "        MAE        MSE        R2  Residual Mean test_date data_tested  \\\n",
      "0  1.761831   5.274957  0.901778        -0.0019   3/14/17       train   \n",
      "0  4.051122  25.925197  0.716276        -0.4550   3/14/17        test   \n",
      "\n",
      "                                         train_dates  number_sample  \n",
      "0  3/7/18 9/4/18 12/22/18 3/21/18 5/15/18 9/10/18...             10  \n",
      "0  3/7/18 9/4/18 12/22/18 3/21/18 5/15/18 9/10/18...             10  \n",
      "--------------------------------------------------------------------------------\n",
      "6 /32\n",
      "10\n"
     ]
    },
    {
     "name": "stderr",
     "output_type": "stream",
     "text": [
      "/anaconda3/envs/coding/lib/python3.6/site-packages/xgboost/core.py:587: FutureWarning: Series.base is deprecated and will be removed in a future version\n",
      "  if getattr(data, 'base', None) is not None and \\\n",
      "/anaconda3/envs/coding/lib/python3.6/site-packages/xgboost/core.py:588: FutureWarning: Series.base is deprecated and will be removed in a future version\n",
      "  data.base is not None and isinstance(data, np.ndarray) \\\n"
     ]
    },
    {
     "name": "stdout",
     "output_type": "stream",
     "text": [
      "3/22/17\n",
      "        MAE        MSE        R2  Residual Mean test_date data_tested  \\\n",
      "0  1.788935   5.550937  0.911428         0.0018   3/22/17       train   \n",
      "0  6.245754  59.313846 -0.029301         4.2105   3/22/17        test   \n",
      "\n",
      "                                         train_dates  number_sample  \n",
      "0  3/2/18 10/2/18 10/27/18 7/13/17 9/6/18 12/22/1...             10  \n",
      "0  3/2/18 10/2/18 10/27/18 7/13/17 9/6/18 12/22/1...             10  \n",
      "--------------------------------------------------------------------------------\n",
      "7 /32\n",
      "10\n"
     ]
    },
    {
     "name": "stderr",
     "output_type": "stream",
     "text": [
      "/anaconda3/envs/coding/lib/python3.6/site-packages/xgboost/core.py:587: FutureWarning: Series.base is deprecated and will be removed in a future version\n",
      "  if getattr(data, 'base', None) is not None and \\\n",
      "/anaconda3/envs/coding/lib/python3.6/site-packages/xgboost/core.py:588: FutureWarning: Series.base is deprecated and will be removed in a future version\n",
      "  data.base is not None and isinstance(data, np.ndarray) \\\n"
     ]
    },
    {
     "name": "stdout",
     "output_type": "stream",
     "text": [
      "6/19/17\n",
      "        MAE        MSE        R2  Residual Mean test_date data_tested  \\\n",
      "0  1.680963   4.820675  0.901078         0.0011   6/19/17       train   \n",
      "0  4.357741  31.381434  0.380924        -0.2637   6/19/17        test   \n",
      "\n",
      "                                         train_dates  number_sample  \n",
      "0  5/26/18 10/29/17 9/10/18 12/17/18 5/15/18 9/26...             10  \n",
      "0  5/26/18 10/29/17 9/10/18 12/17/18 5/15/18 9/26...             10  \n",
      "--------------------------------------------------------------------------------\n",
      "8 /32\n",
      "10\n"
     ]
    },
    {
     "name": "stderr",
     "output_type": "stream",
     "text": [
      "/anaconda3/envs/coding/lib/python3.6/site-packages/xgboost/core.py:587: FutureWarning: Series.base is deprecated and will be removed in a future version\n",
      "  if getattr(data, 'base', None) is not None and \\\n",
      "/anaconda3/envs/coding/lib/python3.6/site-packages/xgboost/core.py:588: FutureWarning: Series.base is deprecated and will be removed in a future version\n",
      "  data.base is not None and isinstance(data, np.ndarray) \\\n"
     ]
    },
    {
     "name": "stdout",
     "output_type": "stream",
     "text": [
      "7/13/17\n",
      "        MAE        MSE        R2  Residual Mean test_date data_tested  \\\n",
      "0  1.831786   5.742954  0.934177        -0.0009   7/13/17       train   \n",
      "0  3.729357  21.207677  0.181608        -1.3228   7/13/17        test   \n",
      "\n",
      "                                         train_dates  number_sample  \n",
      "0  12/9/17 2/25/17 2/9/17 12/17/18 8/17/18 6/13/1...             10  \n",
      "0  12/9/17 2/25/17 2/9/17 12/17/18 8/17/18 6/13/1...             10  \n",
      "--------------------------------------------------------------------------------\n",
      "9 /32\n",
      "10\n"
     ]
    },
    {
     "name": "stderr",
     "output_type": "stream",
     "text": [
      "/anaconda3/envs/coding/lib/python3.6/site-packages/xgboost/core.py:587: FutureWarning: Series.base is deprecated and will be removed in a future version\n",
      "  if getattr(data, 'base', None) is not None and \\\n",
      "/anaconda3/envs/coding/lib/python3.6/site-packages/xgboost/core.py:588: FutureWarning: Series.base is deprecated and will be removed in a future version\n",
      "  data.base is not None and isinstance(data, np.ndarray) \\\n"
     ]
    },
    {
     "name": "stdout",
     "output_type": "stream",
     "text": [
      "10/29/17\n",
      "        MAE        MSE        R2  Residual Mean test_date data_tested  \\\n",
      "0  1.766014   5.279024  0.930748         0.0013  10/29/17       train   \n",
      "0  6.633243  69.277239 -0.066989        -1.3831  10/29/17        test   \n",
      "\n",
      "                                         train_dates  number_sample  \n",
      "0  12/17/18 12/22/18 10/12/18 2/24/19 1/4/18 2/25...             10  \n",
      "0  12/17/18 12/22/18 10/12/18 2/24/19 1/4/18 2/25...             10  \n",
      "--------------------------------------------------------------------------------\n",
      "10 /32\n",
      "10\n"
     ]
    },
    {
     "name": "stderr",
     "output_type": "stream",
     "text": [
      "/anaconda3/envs/coding/lib/python3.6/site-packages/xgboost/core.py:587: FutureWarning: Series.base is deprecated and will be removed in a future version\n",
      "  if getattr(data, 'base', None) is not None and \\\n",
      "/anaconda3/envs/coding/lib/python3.6/site-packages/xgboost/core.py:588: FutureWarning: Series.base is deprecated and will be removed in a future version\n",
      "  data.base is not None and isinstance(data, np.ndarray) \\\n"
     ]
    },
    {
     "name": "stdout",
     "output_type": "stream",
     "text": [
      "11/19/17\n",
      "        MAE        MSE        R2  Residual Mean test_date data_tested  \\\n",
      "0  1.634432   4.469089  0.929657         0.0012  11/19/17       train   \n",
      "0  6.170681  59.014308  0.178221        -0.2057  11/19/17        test   \n",
      "\n",
      "                                         train_dates  number_sample  \n",
      "0  6/19/17 2/13/17 3/2/18 9/10/18 1/7/17 12/9/17 ...             10  \n",
      "0  6/19/17 2/13/17 3/2/18 9/10/18 1/7/17 12/9/17 ...             10  \n",
      "--------------------------------------------------------------------------------\n",
      "11 /32\n",
      "10\n"
     ]
    },
    {
     "name": "stderr",
     "output_type": "stream",
     "text": [
      "/anaconda3/envs/coding/lib/python3.6/site-packages/xgboost/core.py:587: FutureWarning: Series.base is deprecated and will be removed in a future version\n",
      "  if getattr(data, 'base', None) is not None and \\\n",
      "/anaconda3/envs/coding/lib/python3.6/site-packages/xgboost/core.py:588: FutureWarning: Series.base is deprecated and will be removed in a future version\n",
      "  data.base is not None and isinstance(data, np.ndarray) \\\n"
     ]
    },
    {
     "name": "stdout",
     "output_type": "stream",
     "text": [
      "12/9/17\n",
      "        MAE        MSE        R2  Residual Mean test_date data_tested  \\\n",
      "0  1.764674   5.343959  0.938567        -0.0041   12/9/17       train   \n",
      "0  4.577334  27.920650 -1.160579        -4.1147   12/9/17        test   \n",
      "\n",
      "                                         train_dates  number_sample  \n",
      "0  8/17/18 11/19/17 7/13/17 3/22/17 3/14/17 3/2/1...             10  \n",
      "0  8/17/18 11/19/17 7/13/17 3/22/17 3/14/17 3/2/1...             10  \n",
      "--------------------------------------------------------------------------------\n",
      "12 /32\n",
      "10\n"
     ]
    },
    {
     "name": "stderr",
     "output_type": "stream",
     "text": [
      "/anaconda3/envs/coding/lib/python3.6/site-packages/xgboost/core.py:587: FutureWarning: Series.base is deprecated and will be removed in a future version\n",
      "  if getattr(data, 'base', None) is not None and \\\n",
      "/anaconda3/envs/coding/lib/python3.6/site-packages/xgboost/core.py:588: FutureWarning: Series.base is deprecated and will be removed in a future version\n",
      "  data.base is not None and isinstance(data, np.ndarray) \\\n"
     ]
    },
    {
     "name": "stdout",
     "output_type": "stream",
     "text": [
      "1/4/18\n",
      "        MAE        MSE        R2  Residual Mean test_date data_tested  \\\n",
      "0  2.084307   7.353896  0.896921        -0.0053    1/4/18       train   \n",
      "0  5.882082  48.334323  0.586645        -0.8888    1/4/18        test   \n",
      "\n",
      "                                         train_dates  number_sample  \n",
      "0  10/29/17 6/19/17 9/6/18 2/24/19 12/22/18 12/17...             10  \n",
      "0  10/29/17 6/19/17 9/6/18 2/24/19 12/22/18 12/17...             10  \n",
      "--------------------------------------------------------------------------------\n",
      "13 /32\n",
      "10\n"
     ]
    },
    {
     "name": "stderr",
     "output_type": "stream",
     "text": [
      "/anaconda3/envs/coding/lib/python3.6/site-packages/xgboost/core.py:587: FutureWarning: Series.base is deprecated and will be removed in a future version\n",
      "  if getattr(data, 'base', None) is not None and \\\n",
      "/anaconda3/envs/coding/lib/python3.6/site-packages/xgboost/core.py:588: FutureWarning: Series.base is deprecated and will be removed in a future version\n",
      "  data.base is not None and isinstance(data, np.ndarray) \\\n"
     ]
    },
    {
     "name": "stdout",
     "output_type": "stream",
     "text": [
      "3/2/18\n",
      "        MAE        MSE        R2  Residual Mean test_date data_tested  \\\n",
      "0  1.705044   4.988680  0.922595        -0.0012    3/2/18       train   \n",
      "0  5.552204  49.828113  0.279748        -2.1157    3/2/18        test   \n",
      "\n",
      "                                         train_dates  number_sample  \n",
      "0  7/13/17 9/26/18 7/21/18 7/17/18 2/25/17 3/22/1...             10  \n",
      "0  7/13/17 9/26/18 7/21/18 7/17/18 2/25/17 3/22/1...             10  \n",
      "--------------------------------------------------------------------------------\n",
      "14 /32\n",
      "10\n"
     ]
    },
    {
     "name": "stderr",
     "output_type": "stream",
     "text": [
      "/anaconda3/envs/coding/lib/python3.6/site-packages/xgboost/core.py:587: FutureWarning: Series.base is deprecated and will be removed in a future version\n",
      "  if getattr(data, 'base', None) is not None and \\\n",
      "/anaconda3/envs/coding/lib/python3.6/site-packages/xgboost/core.py:588: FutureWarning: Series.base is deprecated and will be removed in a future version\n",
      "  data.base is not None and isinstance(data, np.ndarray) \\\n"
     ]
    },
    {
     "name": "stdout",
     "output_type": "stream",
     "text": [
      "3/7/18\n",
      "        MAE        MSE        R2  Residual Mean test_date data_tested  \\\n",
      "0  1.626195   4.458627  0.924622        -0.0015    3/7/18       train   \n",
      "0  3.379033  17.354891  0.315938        -0.4205    3/7/18        test   \n",
      "\n",
      "                                         train_dates  number_sample  \n",
      "0  1/4/18 6/13/18 10/27/18 12/9/17 7/17/18 2/9/17...             10  \n",
      "0  1/4/18 6/13/18 10/27/18 12/9/17 7/17/18 2/9/17...             10  \n",
      "--------------------------------------------------------------------------------\n",
      "15 /32\n",
      "10\n"
     ]
    },
    {
     "name": "stderr",
     "output_type": "stream",
     "text": [
      "/anaconda3/envs/coding/lib/python3.6/site-packages/xgboost/core.py:587: FutureWarning: Series.base is deprecated and will be removed in a future version\n",
      "  if getattr(data, 'base', None) is not None and \\\n",
      "/anaconda3/envs/coding/lib/python3.6/site-packages/xgboost/core.py:588: FutureWarning: Series.base is deprecated and will be removed in a future version\n",
      "  data.base is not None and isinstance(data, np.ndarray) \\\n"
     ]
    },
    {
     "name": "stdout",
     "output_type": "stream",
     "text": [
      "3/21/18\n",
      "        MAE        MSE        R2  Residual Mean test_date data_tested  \\\n",
      "0  1.860984   5.934995  0.920047         0.0001   3/21/18       train   \n",
      "0  4.502395  30.633489 -0.017375        -3.0242   3/21/18        test   \n",
      "\n",
      "                                         train_dates  number_sample  \n",
      "0  7/21/18 12/22/18 7/17/18 1/7/17 3/2/17 5/15/18...             10  \n",
      "0  7/21/18 12/22/18 7/17/18 1/7/17 3/2/17 5/15/18...             10  \n",
      "--------------------------------------------------------------------------------\n",
      "16 /32\n",
      "10\n"
     ]
    },
    {
     "name": "stderr",
     "output_type": "stream",
     "text": [
      "/anaconda3/envs/coding/lib/python3.6/site-packages/xgboost/core.py:587: FutureWarning: Series.base is deprecated and will be removed in a future version\n",
      "  if getattr(data, 'base', None) is not None and \\\n",
      "/anaconda3/envs/coding/lib/python3.6/site-packages/xgboost/core.py:588: FutureWarning: Series.base is deprecated and will be removed in a future version\n",
      "  data.base is not None and isinstance(data, np.ndarray) \\\n"
     ]
    },
    {
     "name": "stdout",
     "output_type": "stream",
     "text": [
      "5/15/18\n",
      "        MAE        MSE        R2  Residual Mean test_date data_tested  \\\n",
      "0  1.710283   4.980963  0.921730         0.0025   5/15/18       train   \n",
      "0  4.654409  42.222164  0.235175        -0.2900   5/15/18        test   \n",
      "\n",
      "                                         train_dates  number_sample  \n",
      "0  3/2/18 9/4/18 5/26/18 12/22/18 9/10/18 10/29/1...             10  \n",
      "0  3/2/18 9/4/18 5/26/18 12/22/18 9/10/18 10/29/1...             10  \n",
      "--------------------------------------------------------------------------------\n",
      "17 /32\n",
      "10\n"
     ]
    },
    {
     "name": "stderr",
     "output_type": "stream",
     "text": [
      "/anaconda3/envs/coding/lib/python3.6/site-packages/xgboost/core.py:587: FutureWarning: Series.base is deprecated and will be removed in a future version\n",
      "  if getattr(data, 'base', None) is not None and \\\n",
      "/anaconda3/envs/coding/lib/python3.6/site-packages/xgboost/core.py:588: FutureWarning: Series.base is deprecated and will be removed in a future version\n",
      "  data.base is not None and isinstance(data, np.ndarray) \\\n"
     ]
    },
    {
     "name": "stdout",
     "output_type": "stream",
     "text": [
      "5/26/18\n",
      "        MAE        MSE        R2  Residual Mean test_date data_tested  \\\n",
      "0  1.703161   4.975141  0.925806        -0.0013   5/26/18       train   \n",
      "0  3.309150  17.196468  0.107229        -1.4796   5/26/18        test   \n",
      "\n",
      "                                         train_dates  number_sample  \n",
      "0  10/29/17 3/14/17 10/27/18 1/7/17 5/15/18 3/21/...             10  \n",
      "0  10/29/17 3/14/17 10/27/18 1/7/17 5/15/18 3/21/...             10  \n",
      "--------------------------------------------------------------------------------\n",
      "18 /32\n",
      "10\n"
     ]
    },
    {
     "name": "stderr",
     "output_type": "stream",
     "text": [
      "/anaconda3/envs/coding/lib/python3.6/site-packages/xgboost/core.py:587: FutureWarning: Series.base is deprecated and will be removed in a future version\n",
      "  if getattr(data, 'base', None) is not None and \\\n",
      "/anaconda3/envs/coding/lib/python3.6/site-packages/xgboost/core.py:588: FutureWarning: Series.base is deprecated and will be removed in a future version\n",
      "  data.base is not None and isinstance(data, np.ndarray) \\\n"
     ]
    },
    {
     "name": "stdout",
     "output_type": "stream",
     "text": [
      "6/13/18\n",
      "        MAE        MSE        R2  Residual Mean test_date data_tested  \\\n",
      "0  1.550437   4.110681  0.934924         0.0018   6/13/18       train   \n",
      "0  5.009992  46.371133 -2.097004        -2.5864   6/13/18        test   \n",
      "\n",
      "                                         train_dates  number_sample  \n",
      "0  9/4/18 12/9/17 1/7/17 5/15/18 8/17/18 1/4/18 9...             10  \n",
      "0  9/4/18 12/9/17 1/7/17 5/15/18 8/17/18 1/4/18 9...             10  \n",
      "--------------------------------------------------------------------------------\n",
      "19 /32\n",
      "10\n"
     ]
    },
    {
     "name": "stderr",
     "output_type": "stream",
     "text": [
      "/anaconda3/envs/coding/lib/python3.6/site-packages/xgboost/core.py:587: FutureWarning: Series.base is deprecated and will be removed in a future version\n",
      "  if getattr(data, 'base', None) is not None and \\\n",
      "/anaconda3/envs/coding/lib/python3.6/site-packages/xgboost/core.py:588: FutureWarning: Series.base is deprecated and will be removed in a future version\n",
      "  data.base is not None and isinstance(data, np.ndarray) \\\n"
     ]
    },
    {
     "name": "stdout",
     "output_type": "stream",
     "text": [
      "7/17/18\n",
      "        MAE        MSE        R2  Residual Mean test_date data_tested  \\\n",
      "0  1.836363   5.678442  0.925255         0.0049   7/17/18       train   \n",
      "0  3.213211  19.679221  0.353842         0.4248   7/17/18        test   \n",
      "\n",
      "                                         train_dates  number_sample  \n",
      "0  5/15/18 3/7/18 3/2/17 3/2/18 10/12/18 2/9/17 1...             10  \n",
      "0  5/15/18 3/7/18 3/2/17 3/2/18 10/12/18 2/9/17 1...             10  \n",
      "--------------------------------------------------------------------------------\n",
      "20 /32\n",
      "10\n"
     ]
    },
    {
     "name": "stderr",
     "output_type": "stream",
     "text": [
      "/anaconda3/envs/coding/lib/python3.6/site-packages/xgboost/core.py:587: FutureWarning: Series.base is deprecated and will be removed in a future version\n",
      "  if getattr(data, 'base', None) is not None and \\\n",
      "/anaconda3/envs/coding/lib/python3.6/site-packages/xgboost/core.py:588: FutureWarning: Series.base is deprecated and will be removed in a future version\n",
      "  data.base is not None and isinstance(data, np.ndarray) \\\n"
     ]
    },
    {
     "name": "stdout",
     "output_type": "stream",
     "text": [
      "7/21/18\n",
      "        MAE        MSE        R2  Residual Mean test_date data_tested  \\\n",
      "0  1.788141   5.506706  0.909350         0.0047   7/21/18       train   \n",
      "0  4.071255  27.142860  0.133267         1.1770   7/21/18        test   \n",
      "\n",
      "                                         train_dates  number_sample  \n",
      "0  8/17/18 10/2/18 9/10/18 7/17/18 9/6/18 6/13/18...             10  \n",
      "0  8/17/18 10/2/18 9/10/18 7/17/18 9/6/18 6/13/18...             10  \n",
      "--------------------------------------------------------------------------------\n",
      "21 /32\n",
      "10\n"
     ]
    },
    {
     "name": "stderr",
     "output_type": "stream",
     "text": [
      "/anaconda3/envs/coding/lib/python3.6/site-packages/xgboost/core.py:587: FutureWarning: Series.base is deprecated and will be removed in a future version\n",
      "  if getattr(data, 'base', None) is not None and \\\n",
      "/anaconda3/envs/coding/lib/python3.6/site-packages/xgboost/core.py:588: FutureWarning: Series.base is deprecated and will be removed in a future version\n",
      "  data.base is not None and isinstance(data, np.ndarray) \\\n"
     ]
    },
    {
     "name": "stdout",
     "output_type": "stream",
     "text": [
      "8/17/18\n",
      "        MAE        MSE        R2  Residual Mean test_date data_tested  \\\n",
      "0  1.741892   5.100538  0.927566         0.0023   8/17/18       train   \n",
      "0  4.515576  32.185008  0.077710        -1.2634   8/17/18        test   \n",
      "\n",
      "                                         train_dates  number_sample  \n",
      "0  9/6/18 3/2/17 3/21/18 3/14/17 9/10/18 5/15/18 ...             10  \n",
      "0  9/6/18 3/2/17 3/21/18 3/14/17 9/10/18 5/15/18 ...             10  \n",
      "--------------------------------------------------------------------------------\n",
      "22 /32\n",
      "10\n"
     ]
    },
    {
     "name": "stderr",
     "output_type": "stream",
     "text": [
      "/anaconda3/envs/coding/lib/python3.6/site-packages/xgboost/core.py:587: FutureWarning: Series.base is deprecated and will be removed in a future version\n",
      "  if getattr(data, 'base', None) is not None and \\\n",
      "/anaconda3/envs/coding/lib/python3.6/site-packages/xgboost/core.py:588: FutureWarning: Series.base is deprecated and will be removed in a future version\n",
      "  data.base is not None and isinstance(data, np.ndarray) \\\n"
     ]
    },
    {
     "name": "stdout",
     "output_type": "stream",
     "text": [
      "9/4/18\n",
      "        MAE        MSE        R2  Residual Mean test_date data_tested  \\\n",
      "0  1.776659   5.346043  0.917544        -0.0008    9/4/18       train   \n",
      "0  2.510519  10.286684  0.066608         0.5824    9/4/18        test   \n",
      "\n",
      "                                         train_dates  number_sample  \n",
      "0  1/4/18 6/13/18 3/21/18 7/21/18 12/22/18 10/27/...             10  \n",
      "0  1/4/18 6/13/18 3/21/18 7/21/18 12/22/18 10/27/...             10  \n",
      "--------------------------------------------------------------------------------\n",
      "23 /32\n",
      "10\n"
     ]
    },
    {
     "name": "stderr",
     "output_type": "stream",
     "text": [
      "/anaconda3/envs/coding/lib/python3.6/site-packages/xgboost/core.py:587: FutureWarning: Series.base is deprecated and will be removed in a future version\n",
      "  if getattr(data, 'base', None) is not None and \\\n",
      "/anaconda3/envs/coding/lib/python3.6/site-packages/xgboost/core.py:588: FutureWarning: Series.base is deprecated and will be removed in a future version\n",
      "  data.base is not None and isinstance(data, np.ndarray) \\\n"
     ]
    },
    {
     "name": "stdout",
     "output_type": "stream",
     "text": [
      "9/6/18\n",
      "        MAE        MSE        R2  Residual Mean test_date data_tested  \\\n",
      "0  1.960729   6.455015  0.920950         0.0037    9/6/18       train   \n",
      "0  3.233780  19.166716  0.247097        -0.1676    9/6/18        test   \n",
      "\n",
      "                                         train_dates  number_sample  \n",
      "0  3/14/17 7/21/18 3/22/17 2/25/17 12/22/18 3/2/1...             10  \n",
      "0  3/14/17 7/21/18 3/22/17 2/25/17 12/22/18 3/2/1...             10  \n",
      "--------------------------------------------------------------------------------\n",
      "24 /32\n",
      "10\n"
     ]
    },
    {
     "name": "stderr",
     "output_type": "stream",
     "text": [
      "/anaconda3/envs/coding/lib/python3.6/site-packages/xgboost/core.py:587: FutureWarning: Series.base is deprecated and will be removed in a future version\n",
      "  if getattr(data, 'base', None) is not None and \\\n",
      "/anaconda3/envs/coding/lib/python3.6/site-packages/xgboost/core.py:588: FutureWarning: Series.base is deprecated and will be removed in a future version\n",
      "  data.base is not None and isinstance(data, np.ndarray) \\\n"
     ]
    },
    {
     "name": "stdout",
     "output_type": "stream",
     "text": [
      "9/10/18\n",
      "        MAE        MSE        R2  Residual Mean test_date data_tested  \\\n",
      "0  1.836082   5.862499  0.927745        -0.0053   9/10/18       train   \n",
      "0  3.875938  25.351670  0.043359         1.6713   9/10/18        test   \n",
      "\n",
      "                                         train_dates  number_sample  \n",
      "0  8/17/18 12/9/17 10/12/18 2/9/17 2/24/19 5/26/1...             10  \n",
      "0  8/17/18 12/9/17 10/12/18 2/9/17 2/24/19 5/26/1...             10  \n",
      "--------------------------------------------------------------------------------\n",
      "25 /32\n",
      "10\n"
     ]
    },
    {
     "name": "stderr",
     "output_type": "stream",
     "text": [
      "/anaconda3/envs/coding/lib/python3.6/site-packages/xgboost/core.py:587: FutureWarning: Series.base is deprecated and will be removed in a future version\n",
      "  if getattr(data, 'base', None) is not None and \\\n",
      "/anaconda3/envs/coding/lib/python3.6/site-packages/xgboost/core.py:588: FutureWarning: Series.base is deprecated and will be removed in a future version\n",
      "  data.base is not None and isinstance(data, np.ndarray) \\\n"
     ]
    },
    {
     "name": "stdout",
     "output_type": "stream",
     "text": [
      "9/26/18\n",
      "        MAE        MSE        R2  Residual Mean test_date data_tested  \\\n",
      "0  1.693969   4.940906  0.942878         0.0015   9/26/18       train   \n",
      "0  4.167878  27.660448 -0.224431         2.7545   9/26/18        test   \n",
      "\n",
      "                                         train_dates  number_sample  \n",
      "0  7/17/18 2/9/17 3/2/17 9/6/18 9/10/18 10/2/18 1...             10  \n",
      "0  7/17/18 2/9/17 3/2/17 9/6/18 9/10/18 10/2/18 1...             10  \n",
      "--------------------------------------------------------------------------------\n",
      "26 /32\n",
      "10\n"
     ]
    },
    {
     "name": "stderr",
     "output_type": "stream",
     "text": [
      "/anaconda3/envs/coding/lib/python3.6/site-packages/xgboost/core.py:587: FutureWarning: Series.base is deprecated and will be removed in a future version\n",
      "  if getattr(data, 'base', None) is not None and \\\n",
      "/anaconda3/envs/coding/lib/python3.6/site-packages/xgboost/core.py:588: FutureWarning: Series.base is deprecated and will be removed in a future version\n",
      "  data.base is not None and isinstance(data, np.ndarray) \\\n"
     ]
    },
    {
     "name": "stdout",
     "output_type": "stream",
     "text": [
      "10/2/18\n",
      "        MAE        MSE        R2  Residual Mean test_date data_tested  \\\n",
      "0  1.621090   4.447171  0.938779        -0.0008   10/2/18       train   \n",
      "0  4.444659  30.826307 -0.082367        -2.0540   10/2/18        test   \n",
      "\n",
      "                                         train_dates  number_sample  \n",
      "0  8/17/18 12/9/17 2/9/17 9/10/18 5/26/18 3/21/18...             10  \n",
      "0  8/17/18 12/9/17 2/9/17 9/10/18 5/26/18 3/21/18...             10  \n",
      "--------------------------------------------------------------------------------\n",
      "27 /32\n",
      "10\n"
     ]
    },
    {
     "name": "stderr",
     "output_type": "stream",
     "text": [
      "/anaconda3/envs/coding/lib/python3.6/site-packages/xgboost/core.py:587: FutureWarning: Series.base is deprecated and will be removed in a future version\n",
      "  if getattr(data, 'base', None) is not None and \\\n",
      "/anaconda3/envs/coding/lib/python3.6/site-packages/xgboost/core.py:588: FutureWarning: Series.base is deprecated and will be removed in a future version\n",
      "  data.base is not None and isinstance(data, np.ndarray) \\\n"
     ]
    },
    {
     "name": "stdout",
     "output_type": "stream",
     "text": [
      "10/12/18\n",
      "        MAE        MSE        R2  Residual Mean test_date data_tested  \\\n",
      "0  2.000994   6.767298  0.910401        -0.0063  10/12/18       train   \n",
      "0  5.382613  43.323504  0.341527        -2.7974  10/12/18        test   \n",
      "\n",
      "                                         train_dates  number_sample  \n",
      "0  7/13/17 9/26/18 8/17/18 6/19/17 10/27/18 2/13/...             10  \n",
      "0  7/13/17 9/26/18 8/17/18 6/19/17 10/27/18 2/13/...             10  \n",
      "--------------------------------------------------------------------------------\n",
      "28 /32\n",
      "10\n"
     ]
    },
    {
     "name": "stderr",
     "output_type": "stream",
     "text": [
      "/anaconda3/envs/coding/lib/python3.6/site-packages/xgboost/core.py:587: FutureWarning: Series.base is deprecated and will be removed in a future version\n",
      "  if getattr(data, 'base', None) is not None and \\\n",
      "/anaconda3/envs/coding/lib/python3.6/site-packages/xgboost/core.py:588: FutureWarning: Series.base is deprecated and will be removed in a future version\n",
      "  data.base is not None and isinstance(data, np.ndarray) \\\n"
     ]
    },
    {
     "name": "stdout",
     "output_type": "stream",
     "text": [
      "10/27/18\n",
      "        MAE        MSE        R2  Residual Mean test_date data_tested  \\\n",
      "0  1.800679   5.612996  0.893202        -0.0013  10/27/18       train   \n",
      "0  4.203714  29.769834  0.552307         0.8258  10/27/18        test   \n",
      "\n",
      "                                         train_dates  number_sample  \n",
      "0  6/19/17 3/7/18 10/29/17 7/21/18 9/10/18 9/4/18...             10  \n",
      "0  6/19/17 3/7/18 10/29/17 7/21/18 9/10/18 9/4/18...             10  \n",
      "--------------------------------------------------------------------------------\n",
      "29 /32\n",
      "10\n"
     ]
    },
    {
     "name": "stderr",
     "output_type": "stream",
     "text": [
      "/anaconda3/envs/coding/lib/python3.6/site-packages/xgboost/core.py:587: FutureWarning: Series.base is deprecated and will be removed in a future version\n",
      "  if getattr(data, 'base', None) is not None and \\\n",
      "/anaconda3/envs/coding/lib/python3.6/site-packages/xgboost/core.py:588: FutureWarning: Series.base is deprecated and will be removed in a future version\n",
      "  data.base is not None and isinstance(data, np.ndarray) \\\n"
     ]
    },
    {
     "name": "stdout",
     "output_type": "stream",
     "text": [
      "12/17/18\n",
      "        MAE        MSE        R2  Residual Mean test_date data_tested  \\\n",
      "0  1.885076   6.092700  0.924356        -0.0005  12/17/18       train   \n",
      "0  5.185347  45.084056  0.274486         1.9284  12/17/18        test   \n",
      "\n",
      "                                         train_dates  number_sample  \n",
      "0  10/27/18 10/12/18 3/22/17 8/17/18 10/2/18 7/17...             10  \n",
      "0  10/27/18 10/12/18 3/22/17 8/17/18 10/2/18 7/17...             10  \n",
      "--------------------------------------------------------------------------------\n",
      "30 /32\n",
      "10\n"
     ]
    },
    {
     "name": "stderr",
     "output_type": "stream",
     "text": [
      "/anaconda3/envs/coding/lib/python3.6/site-packages/xgboost/core.py:587: FutureWarning: Series.base is deprecated and will be removed in a future version\n",
      "  if getattr(data, 'base', None) is not None and \\\n",
      "/anaconda3/envs/coding/lib/python3.6/site-packages/xgboost/core.py:588: FutureWarning: Series.base is deprecated and will be removed in a future version\n",
      "  data.base is not None and isinstance(data, np.ndarray) \\\n"
     ]
    },
    {
     "name": "stdout",
     "output_type": "stream",
     "text": [
      "12/22/18\n",
      "        MAE        MSE        R2  Residual Mean test_date data_tested  \\\n",
      "0  1.795957   5.467937  0.932406        -0.0029  12/22/18       train   \n",
      "0  5.617977  49.378404  0.100235        -1.9234  12/22/18        test   \n",
      "\n",
      "                                         train_dates  number_sample  \n",
      "0  3/21/18 10/27/18 3/14/17 9/6/18 1/4/18 3/2/17 ...             10  \n",
      "0  3/21/18 10/27/18 3/14/17 9/6/18 1/4/18 3/2/17 ...             10  \n",
      "--------------------------------------------------------------------------------\n",
      "31 /32\n",
      "10\n"
     ]
    },
    {
     "name": "stderr",
     "output_type": "stream",
     "text": [
      "/anaconda3/envs/coding/lib/python3.6/site-packages/xgboost/core.py:587: FutureWarning: Series.base is deprecated and will be removed in a future version\n",
      "  if getattr(data, 'base', None) is not None and \\\n",
      "/anaconda3/envs/coding/lib/python3.6/site-packages/xgboost/core.py:588: FutureWarning: Series.base is deprecated and will be removed in a future version\n",
      "  data.base is not None and isinstance(data, np.ndarray) \\\n"
     ]
    },
    {
     "name": "stdout",
     "output_type": "stream",
     "text": [
      "2/24/19\n",
      "        MAE        MSE        R2  Residual Mean test_date data_tested  \\\n",
      "0  1.816909   5.662513  0.930226        -0.0016   2/24/19       train   \n",
      "0  5.761192  57.271697  0.422972         0.8290   2/24/19        test   \n",
      "\n",
      "                                         train_dates  number_sample  \n",
      "0  10/29/17 9/26/18 12/9/17 3/14/17 6/19/17 2/13/...             10  \n",
      "0  10/29/17 9/26/18 12/9/17 3/14/17 6/19/17 2/13/...             10  \n",
      "--------------------------------------------------------------------------------\n",
      "32 /32\n"
     ]
    }
   ],
   "source": [
    "table = pd.DataFrame()\n",
    "data = pd.DataFrame()\n",
    "count = 0\n",
    "for i in df['EXP'].unique():\n",
    "    t,d = rf_model2(i,10)\n",
    "    table = table.append(t)\n",
    "    data = data.append(d)\n",
    "    count += 1\n",
    "    print(count,'/32')"
   ]
  },
  {
   "cell_type": "code",
   "execution_count": 10,
   "metadata": {},
   "outputs": [],
   "source": [
    "#table.to_csv('10_sample_XGB_stats.csv')\n",
    "#data.to_csv('10_sample_XGB_data.csv')"
   ]
  },
  {
   "cell_type": "code",
   "execution_count": 11,
   "metadata": {},
   "outputs": [
    {
     "data": {
      "text/html": [
       "<div>\n",
       "<style scoped>\n",
       "    .dataframe tbody tr th:only-of-type {\n",
       "        vertical-align: middle;\n",
       "    }\n",
       "\n",
       "    .dataframe tbody tr th {\n",
       "        vertical-align: top;\n",
       "    }\n",
       "\n",
       "    .dataframe thead th {\n",
       "        text-align: right;\n",
       "    }\n",
       "</style>\n",
       "<table border=\"1\" class=\"dataframe\">\n",
       "  <thead>\n",
       "    <tr style=\"text-align: right;\">\n",
       "      <th></th>\n",
       "      <th>MAE</th>\n",
       "      <th>R2</th>\n",
       "      <th>Residual Mean</th>\n",
       "    </tr>\n",
       "    <tr>\n",
       "      <th>data_tested</th>\n",
       "      <th></th>\n",
       "      <th></th>\n",
       "      <th></th>\n",
       "    </tr>\n",
       "  </thead>\n",
       "  <tbody>\n",
       "    <tr>\n",
       "      <th>test</th>\n",
       "      <td>4.720789</td>\n",
       "      <td>0.067072</td>\n",
       "      <td>0.065509</td>\n",
       "    </tr>\n",
       "    <tr>\n",
       "      <th>train</th>\n",
       "      <td>1.770843</td>\n",
       "      <td>0.921747</td>\n",
       "      <td>-0.000369</td>\n",
       "    </tr>\n",
       "  </tbody>\n",
       "</table>\n",
       "</div>"
      ],
      "text/plain": [
       "                  MAE        R2  Residual Mean\n",
       "data_tested                                   \n",
       "test         4.720789  0.067072       0.065509\n",
       "train        1.770843  0.921747      -0.000369"
      ]
     },
     "execution_count": 11,
     "metadata": {},
     "output_type": "execute_result"
    }
   ],
   "source": [
    "table.groupby('data_tested').agg({'MAE':'mean', 'R2':'mean', 'Residual Mean':'mean'})"
   ]
  },
  {
   "cell_type": "code",
   "execution_count": 12,
   "metadata": {},
   "outputs": [
    {
     "data": {
      "text/plain": [
       "-0.025091928456275867"
      ]
     },
     "execution_count": 12,
     "metadata": {},
     "output_type": "execute_result"
    }
   ],
   "source": [
    "res = data['actual'] - data['pred']\n",
    "res.mean()"
   ]
  },
  {
   "cell_type": "markdown",
   "metadata": {},
   "source": [
    "### 15 Samples"
   ]
  },
  {
   "cell_type": "code",
   "execution_count": 13,
   "metadata": {},
   "outputs": [
    {
     "name": "stdout",
     "output_type": "stream",
     "text": [
      "15\n"
     ]
    },
    {
     "name": "stderr",
     "output_type": "stream",
     "text": [
      "/anaconda3/envs/coding/lib/python3.6/site-packages/xgboost/core.py:587: FutureWarning: Series.base is deprecated and will be removed in a future version\n",
      "  if getattr(data, 'base', None) is not None and \\\n",
      "/anaconda3/envs/coding/lib/python3.6/site-packages/xgboost/core.py:588: FutureWarning: Series.base is deprecated and will be removed in a future version\n",
      "  data.base is not None and isinstance(data, np.ndarray) \\\n"
     ]
    },
    {
     "name": "stdout",
     "output_type": "stream",
     "text": [
      "1/7/17\n",
      "        MAE        MSE        R2  Residual Mean test_date data_tested  \\\n",
      "0  2.009856   6.900102  0.892384         0.0025    1/7/17       train   \n",
      "0  2.784048  12.291409  0.583658         0.8713    1/7/17        test   \n",
      "\n",
      "                                         train_dates  number_sample  \n",
      "0  9/26/18 9/4/18 9/6/18 11/19/17 10/12/18 7/13/1...             15  \n",
      "0  9/26/18 9/4/18 9/6/18 11/19/17 10/12/18 7/13/1...             15  \n",
      "--------------------------------------------------------------------------------\n",
      "1 /32\n",
      "15\n"
     ]
    },
    {
     "name": "stderr",
     "output_type": "stream",
     "text": [
      "/anaconda3/envs/coding/lib/python3.6/site-packages/xgboost/core.py:587: FutureWarning: Series.base is deprecated and will be removed in a future version\n",
      "  if getattr(data, 'base', None) is not None and \\\n",
      "/anaconda3/envs/coding/lib/python3.6/site-packages/xgboost/core.py:588: FutureWarning: Series.base is deprecated and will be removed in a future version\n",
      "  data.base is not None and isinstance(data, np.ndarray) \\\n"
     ]
    },
    {
     "name": "stdout",
     "output_type": "stream",
     "text": [
      "2/9/17\n",
      "        MAE        MSE        R2  Residual Mean test_date data_tested  \\\n",
      "0  2.054708   7.189559  0.911929        -0.0049    2/9/17       train   \n",
      "0  3.705897  21.571960  0.542722        -0.2446    2/9/17        test   \n",
      "\n",
      "                                         train_dates  number_sample  \n",
      "0  9/10/18 10/29/17 5/26/18 7/21/18 9/26/18 10/12...             15  \n",
      "0  9/10/18 10/29/17 5/26/18 7/21/18 9/26/18 10/12...             15  \n",
      "--------------------------------------------------------------------------------\n",
      "2 /32\n",
      "15\n"
     ]
    },
    {
     "name": "stderr",
     "output_type": "stream",
     "text": [
      "/anaconda3/envs/coding/lib/python3.6/site-packages/xgboost/core.py:587: FutureWarning: Series.base is deprecated and will be removed in a future version\n",
      "  if getattr(data, 'base', None) is not None and \\\n",
      "/anaconda3/envs/coding/lib/python3.6/site-packages/xgboost/core.py:588: FutureWarning: Series.base is deprecated and will be removed in a future version\n",
      "  data.base is not None and isinstance(data, np.ndarray) \\\n"
     ]
    },
    {
     "name": "stdout",
     "output_type": "stream",
     "text": [
      "2/13/17\n",
      "        MAE        MSE        R2  Residual Mean test_date data_tested  \\\n",
      "0  2.046649   7.218671  0.897335        -0.0040   2/13/17       train   \n",
      "0  6.686653  72.197428  0.106161         4.1634   2/13/17        test   \n",
      "\n",
      "                                         train_dates  number_sample  \n",
      "0  2/24/19 9/10/18 2/9/17 12/17/18 8/17/18 7/17/1...             15  \n",
      "0  2/24/19 9/10/18 2/9/17 12/17/18 8/17/18 7/17/1...             15  \n",
      "--------------------------------------------------------------------------------\n",
      "3 /32\n",
      "15\n"
     ]
    },
    {
     "name": "stderr",
     "output_type": "stream",
     "text": [
      "/anaconda3/envs/coding/lib/python3.6/site-packages/xgboost/core.py:587: FutureWarning: Series.base is deprecated and will be removed in a future version\n",
      "  if getattr(data, 'base', None) is not None and \\\n",
      "/anaconda3/envs/coding/lib/python3.6/site-packages/xgboost/core.py:588: FutureWarning: Series.base is deprecated and will be removed in a future version\n",
      "  data.base is not None and isinstance(data, np.ndarray) \\\n"
     ]
    },
    {
     "name": "stdout",
     "output_type": "stream",
     "text": [
      "2/25/17\n",
      "        MAE        MSE        R2  Residual Mean test_date data_tested  \\\n",
      "0  1.926017   6.518436  0.916073         0.0002   2/25/17       train   \n",
      "0  4.270483  29.050807  0.231212        -0.4987   2/25/17        test   \n",
      "\n",
      "                                         train_dates  number_sample  \n",
      "0  9/4/18 6/13/18 3/22/17 11/19/17 5/26/18 5/15/1...             15  \n",
      "0  9/4/18 6/13/18 3/22/17 11/19/17 5/26/18 5/15/1...             15  \n",
      "--------------------------------------------------------------------------------\n",
      "4 /32\n",
      "15\n"
     ]
    },
    {
     "name": "stderr",
     "output_type": "stream",
     "text": [
      "/anaconda3/envs/coding/lib/python3.6/site-packages/xgboost/core.py:587: FutureWarning: Series.base is deprecated and will be removed in a future version\n",
      "  if getattr(data, 'base', None) is not None and \\\n",
      "/anaconda3/envs/coding/lib/python3.6/site-packages/xgboost/core.py:588: FutureWarning: Series.base is deprecated and will be removed in a future version\n",
      "  data.base is not None and isinstance(data, np.ndarray) \\\n"
     ]
    },
    {
     "name": "stdout",
     "output_type": "stream",
     "text": [
      "3/2/17\n",
      "        MAE        MSE        R2  Residual Mean test_date data_tested  \\\n",
      "0  2.119402   7.778896  0.892326        -0.0026    3/2/17       train   \n",
      "0  5.286485  44.223927  0.179263         3.5555    3/2/17        test   \n",
      "\n",
      "                                         train_dates  number_sample  \n",
      "0  7/17/18 9/4/18 3/22/17 10/27/18 9/6/18 8/17/18...             15  \n",
      "0  7/17/18 9/4/18 3/22/17 10/27/18 9/6/18 8/17/18...             15  \n",
      "--------------------------------------------------------------------------------\n",
      "5 /32\n",
      "15\n"
     ]
    },
    {
     "name": "stderr",
     "output_type": "stream",
     "text": [
      "/anaconda3/envs/coding/lib/python3.6/site-packages/xgboost/core.py:587: FutureWarning: Series.base is deprecated and will be removed in a future version\n",
      "  if getattr(data, 'base', None) is not None and \\\n",
      "/anaconda3/envs/coding/lib/python3.6/site-packages/xgboost/core.py:588: FutureWarning: Series.base is deprecated and will be removed in a future version\n",
      "  data.base is not None and isinstance(data, np.ndarray) \\\n"
     ]
    },
    {
     "name": "stdout",
     "output_type": "stream",
     "text": [
      "3/14/17\n",
      "       MAE        MSE        R2  Residual Mean test_date data_tested  \\\n",
      "0  1.91644   6.286220  0.880585        -0.0029   3/14/17       train   \n",
      "0  3.81935  24.593994  0.730845        -1.1570   3/14/17        test   \n",
      "\n",
      "                                         train_dates  number_sample  \n",
      "0  6/19/17 6/13/18 3/2/18 5/26/18 9/26/18 2/9/17 ...             15  \n",
      "0  6/19/17 6/13/18 3/2/18 5/26/18 9/26/18 2/9/17 ...             15  \n",
      "--------------------------------------------------------------------------------\n",
      "6 /32\n",
      "15\n"
     ]
    },
    {
     "name": "stderr",
     "output_type": "stream",
     "text": [
      "/anaconda3/envs/coding/lib/python3.6/site-packages/xgboost/core.py:587: FutureWarning: Series.base is deprecated and will be removed in a future version\n",
      "  if getattr(data, 'base', None) is not None and \\\n",
      "/anaconda3/envs/coding/lib/python3.6/site-packages/xgboost/core.py:588: FutureWarning: Series.base is deprecated and will be removed in a future version\n",
      "  data.base is not None and isinstance(data, np.ndarray) \\\n"
     ]
    },
    {
     "name": "stdout",
     "output_type": "stream",
     "text": [
      "3/22/17\n",
      "        MAE        MSE        R2  Residual Mean test_date data_tested  \\\n",
      "0  2.066543   7.448170  0.887438        -0.0032   3/22/17       train   \n",
      "0  5.401261  44.912714  0.220609        -0.9348   3/22/17        test   \n",
      "\n",
      "                                         train_dates  number_sample  \n",
      "0  2/9/17 10/29/17 9/6/18 10/12/18 10/2/18 12/17/...             15  \n",
      "0  2/9/17 10/29/17 9/6/18 10/12/18 10/2/18 12/17/...             15  \n",
      "--------------------------------------------------------------------------------\n",
      "7 /32\n",
      "15\n"
     ]
    },
    {
     "name": "stderr",
     "output_type": "stream",
     "text": [
      "/anaconda3/envs/coding/lib/python3.6/site-packages/xgboost/core.py:587: FutureWarning: Series.base is deprecated and will be removed in a future version\n",
      "  if getattr(data, 'base', None) is not None and \\\n",
      "/anaconda3/envs/coding/lib/python3.6/site-packages/xgboost/core.py:588: FutureWarning: Series.base is deprecated and will be removed in a future version\n",
      "  data.base is not None and isinstance(data, np.ndarray) \\\n"
     ]
    },
    {
     "name": "stdout",
     "output_type": "stream",
     "text": [
      "6/19/17\n",
      "        MAE        MSE        R2  Residual Mean test_date data_tested  \\\n",
      "0  2.134676   7.750087  0.895817         0.0019   6/19/17       train   \n",
      "0  3.791557  25.872211  0.489607         1.0692   6/19/17        test   \n",
      "\n",
      "                                         train_dates  number_sample  \n",
      "0  3/21/18 7/13/17 2/13/17 12/22/18 11/19/17 3/2/...             15  \n",
      "0  3/21/18 7/13/17 2/13/17 12/22/18 11/19/17 3/2/...             15  \n",
      "--------------------------------------------------------------------------------\n",
      "8 /32\n",
      "15\n"
     ]
    },
    {
     "name": "stderr",
     "output_type": "stream",
     "text": [
      "/anaconda3/envs/coding/lib/python3.6/site-packages/xgboost/core.py:587: FutureWarning: Series.base is deprecated and will be removed in a future version\n",
      "  if getattr(data, 'base', None) is not None and \\\n",
      "/anaconda3/envs/coding/lib/python3.6/site-packages/xgboost/core.py:588: FutureWarning: Series.base is deprecated and will be removed in a future version\n",
      "  data.base is not None and isinstance(data, np.ndarray) \\\n"
     ]
    },
    {
     "name": "stdout",
     "output_type": "stream",
     "text": [
      "7/13/17\n",
      "        MAE        MSE        R2  Residual Mean test_date data_tested  \\\n",
      "0  2.097230   7.614114  0.904852        -0.0022   7/13/17       train   \n",
      "0  3.385353  17.849289  0.311206        -0.8779   7/13/17        test   \n",
      "\n",
      "                                         train_dates  number_sample  \n",
      "0  2/25/17 12/17/18 3/2/18 1/4/18 3/21/18 2/9/17 ...             15  \n",
      "0  2/25/17 12/17/18 3/2/18 1/4/18 3/21/18 2/9/17 ...             15  \n",
      "--------------------------------------------------------------------------------\n",
      "9 /32\n",
      "15\n"
     ]
    },
    {
     "name": "stderr",
     "output_type": "stream",
     "text": [
      "/anaconda3/envs/coding/lib/python3.6/site-packages/xgboost/core.py:587: FutureWarning: Series.base is deprecated and will be removed in a future version\n",
      "  if getattr(data, 'base', None) is not None and \\\n",
      "/anaconda3/envs/coding/lib/python3.6/site-packages/xgboost/core.py:588: FutureWarning: Series.base is deprecated and will be removed in a future version\n",
      "  data.base is not None and isinstance(data, np.ndarray) \\\n"
     ]
    },
    {
     "name": "stdout",
     "output_type": "stream",
     "text": [
      "10/29/17\n",
      "        MAE        MSE        R2  Residual Mean test_date data_tested  \\\n",
      "0  2.067841   7.340909  0.892711        -0.0010  10/29/17       train   \n",
      "0  6.825242  71.646749 -0.103483        -2.7593  10/29/17        test   \n",
      "\n",
      "                                         train_dates  number_sample  \n",
      "0  5/15/18 5/26/18 6/19/17 6/13/18 12/22/18 1/4/1...             15  \n",
      "0  5/15/18 5/26/18 6/19/17 6/13/18 12/22/18 1/4/1...             15  \n",
      "--------------------------------------------------------------------------------\n",
      "10 /32\n",
      "15\n"
     ]
    },
    {
     "name": "stderr",
     "output_type": "stream",
     "text": [
      "/anaconda3/envs/coding/lib/python3.6/site-packages/xgboost/core.py:587: FutureWarning: Series.base is deprecated and will be removed in a future version\n",
      "  if getattr(data, 'base', None) is not None and \\\n",
      "/anaconda3/envs/coding/lib/python3.6/site-packages/xgboost/core.py:588: FutureWarning: Series.base is deprecated and will be removed in a future version\n",
      "  data.base is not None and isinstance(data, np.ndarray) \\\n"
     ]
    },
    {
     "name": "stdout",
     "output_type": "stream",
     "text": [
      "11/19/17\n",
      "        MAE        MSE        R2  Residual Mean test_date data_tested  \\\n",
      "0  1.981926   6.750899  0.875401        -0.0038  11/19/17       train   \n",
      "0  6.839199  72.457989 -0.008984         1.8040  11/19/17        test   \n",
      "\n",
      "                                         train_dates  number_sample  \n",
      "0  9/26/18 3/21/18 2/25/17 1/7/17 3/7/18 1/4/18 3...             15  \n",
      "0  9/26/18 3/21/18 2/25/17 1/7/17 3/7/18 1/4/18 3...             15  \n",
      "--------------------------------------------------------------------------------\n",
      "11 /32\n",
      "15\n"
     ]
    },
    {
     "name": "stderr",
     "output_type": "stream",
     "text": [
      "/anaconda3/envs/coding/lib/python3.6/site-packages/xgboost/core.py:587: FutureWarning: Series.base is deprecated and will be removed in a future version\n",
      "  if getattr(data, 'base', None) is not None and \\\n",
      "/anaconda3/envs/coding/lib/python3.6/site-packages/xgboost/core.py:588: FutureWarning: Series.base is deprecated and will be removed in a future version\n",
      "  data.base is not None and isinstance(data, np.ndarray) \\\n"
     ]
    },
    {
     "name": "stdout",
     "output_type": "stream",
     "text": [
      "12/9/17\n",
      "        MAE        MSE        R2  Residual Mean test_date data_tested  \\\n",
      "0  2.086405   7.559644  0.880627         0.0020   12/9/17       train   \n",
      "0  4.181605  23.072101 -0.785385        -3.8758   12/9/17        test   \n",
      "\n",
      "                                         train_dates  number_sample  \n",
      "0  10/2/18 10/12/18 12/22/18 2/25/17 7/13/17 8/17...             15  \n",
      "0  10/2/18 10/12/18 12/22/18 2/25/17 7/13/17 8/17...             15  \n",
      "--------------------------------------------------------------------------------\n",
      "12 /32\n",
      "15\n"
     ]
    },
    {
     "name": "stderr",
     "output_type": "stream",
     "text": [
      "/anaconda3/envs/coding/lib/python3.6/site-packages/xgboost/core.py:587: FutureWarning: Series.base is deprecated and will be removed in a future version\n",
      "  if getattr(data, 'base', None) is not None and \\\n",
      "/anaconda3/envs/coding/lib/python3.6/site-packages/xgboost/core.py:588: FutureWarning: Series.base is deprecated and will be removed in a future version\n",
      "  data.base is not None and isinstance(data, np.ndarray) \\\n"
     ]
    },
    {
     "name": "stdout",
     "output_type": "stream",
     "text": [
      "1/4/18\n",
      "        MAE        MSE        R2  Residual Mean test_date data_tested  \\\n",
      "0  2.017306   6.921084  0.909743        -0.0016    1/4/18       train   \n",
      "0  4.178622  31.360710  0.731803         1.5420    1/4/18        test   \n",
      "\n",
      "                                         train_dates  number_sample  \n",
      "0  12/22/18 12/9/17 12/17/18 3/14/17 3/2/18 3/2/1...             15  \n",
      "0  12/22/18 12/9/17 12/17/18 3/14/17 3/2/18 3/2/1...             15  \n",
      "--------------------------------------------------------------------------------\n",
      "13 /32\n",
      "15\n"
     ]
    },
    {
     "name": "stderr",
     "output_type": "stream",
     "text": [
      "/anaconda3/envs/coding/lib/python3.6/site-packages/xgboost/core.py:587: FutureWarning: Series.base is deprecated and will be removed in a future version\n",
      "  if getattr(data, 'base', None) is not None and \\\n",
      "/anaconda3/envs/coding/lib/python3.6/site-packages/xgboost/core.py:588: FutureWarning: Series.base is deprecated and will be removed in a future version\n",
      "  data.base is not None and isinstance(data, np.ndarray) \\\n"
     ]
    },
    {
     "name": "stdout",
     "output_type": "stream",
     "text": [
      "3/2/18\n",
      "        MAE        MSE        R2  Residual Mean test_date data_tested  \\\n",
      "0  2.141122   7.886871  0.888000         0.0016    3/2/18       train   \n",
      "0  4.974351  41.877422  0.394673        -0.2576    3/2/18        test   \n",
      "\n",
      "                                         train_dates  number_sample  \n",
      "0  3/7/18 10/12/18 3/2/17 11/19/17 9/10/18 5/15/1...             15  \n",
      "0  3/7/18 10/12/18 3/2/17 11/19/17 9/10/18 5/15/1...             15  \n",
      "--------------------------------------------------------------------------------\n",
      "14 /32\n",
      "15\n"
     ]
    },
    {
     "name": "stderr",
     "output_type": "stream",
     "text": [
      "/anaconda3/envs/coding/lib/python3.6/site-packages/xgboost/core.py:587: FutureWarning: Series.base is deprecated and will be removed in a future version\n",
      "  if getattr(data, 'base', None) is not None and \\\n",
      "/anaconda3/envs/coding/lib/python3.6/site-packages/xgboost/core.py:588: FutureWarning: Series.base is deprecated and will be removed in a future version\n",
      "  data.base is not None and isinstance(data, np.ndarray) \\\n"
     ]
    },
    {
     "name": "stdout",
     "output_type": "stream",
     "text": [
      "3/7/18\n",
      "        MAE        MSE        R2  Residual Mean test_date data_tested  \\\n",
      "0  1.979003   6.821300  0.892649         0.0034    3/7/18       train   \n",
      "0  3.487891  18.064055  0.287985        -1.5805    3/7/18        test   \n",
      "\n",
      "                                         train_dates  number_sample  \n",
      "0  7/13/17 10/27/18 10/29/17 5/26/18 9/4/18 7/21/...             15  \n",
      "0  7/13/17 10/27/18 10/29/17 5/26/18 9/4/18 7/21/...             15  \n",
      "--------------------------------------------------------------------------------\n",
      "15 /32\n",
      "15\n"
     ]
    },
    {
     "name": "stderr",
     "output_type": "stream",
     "text": [
      "/anaconda3/envs/coding/lib/python3.6/site-packages/xgboost/core.py:587: FutureWarning: Series.base is deprecated and will be removed in a future version\n",
      "  if getattr(data, 'base', None) is not None and \\\n",
      "/anaconda3/envs/coding/lib/python3.6/site-packages/xgboost/core.py:588: FutureWarning: Series.base is deprecated and will be removed in a future version\n",
      "  data.base is not None and isinstance(data, np.ndarray) \\\n"
     ]
    },
    {
     "name": "stdout",
     "output_type": "stream",
     "text": [
      "3/21/18\n",
      "        MAE        MSE        R2  Residual Mean test_date data_tested  \\\n",
      "0  2.119886   7.688368  0.900020        -0.0025   3/21/18       train   \n",
      "0  5.115955  39.977214 -0.327691        -3.9457   3/21/18        test   \n",
      "\n",
      "                                         train_dates  number_sample  \n",
      "0  5/15/18 12/22/18 7/17/18 10/2/18 9/26/18 7/21/...             15  \n",
      "0  5/15/18 12/22/18 7/17/18 10/2/18 9/26/18 7/21/...             15  \n",
      "--------------------------------------------------------------------------------\n",
      "16 /32\n",
      "15\n"
     ]
    },
    {
     "name": "stderr",
     "output_type": "stream",
     "text": [
      "/anaconda3/envs/coding/lib/python3.6/site-packages/xgboost/core.py:587: FutureWarning: Series.base is deprecated and will be removed in a future version\n",
      "  if getattr(data, 'base', None) is not None and \\\n",
      "/anaconda3/envs/coding/lib/python3.6/site-packages/xgboost/core.py:588: FutureWarning: Series.base is deprecated and will be removed in a future version\n",
      "  data.base is not None and isinstance(data, np.ndarray) \\\n"
     ]
    },
    {
     "name": "stdout",
     "output_type": "stream",
     "text": [
      "5/15/18\n",
      "        MAE        MSE        R2  Residual Mean test_date data_tested  \\\n",
      "0  2.057121   7.163940  0.904193        -0.0045   5/15/18       train   \n",
      "0  4.266916  36.192154  0.344405        -0.2098   5/15/18        test   \n",
      "\n",
      "                                         train_dates  number_sample  \n",
      "0  3/22/17 7/17/18 1/4/18 3/21/18 10/2/18 6/13/18...             15  \n",
      "0  3/22/17 7/17/18 1/4/18 3/21/18 10/2/18 6/13/18...             15  \n",
      "--------------------------------------------------------------------------------\n",
      "17 /32\n",
      "15\n"
     ]
    },
    {
     "name": "stderr",
     "output_type": "stream",
     "text": [
      "/anaconda3/envs/coding/lib/python3.6/site-packages/xgboost/core.py:587: FutureWarning: Series.base is deprecated and will be removed in a future version\n",
      "  if getattr(data, 'base', None) is not None and \\\n",
      "/anaconda3/envs/coding/lib/python3.6/site-packages/xgboost/core.py:588: FutureWarning: Series.base is deprecated and will be removed in a future version\n",
      "  data.base is not None and isinstance(data, np.ndarray) \\\n"
     ]
    },
    {
     "name": "stdout",
     "output_type": "stream",
     "text": [
      "5/26/18\n",
      "        MAE        MSE        R2  Residual Mean test_date data_tested  \\\n",
      "0  1.982970   6.847669  0.917529        -0.0038   5/26/18       train   \n",
      "0  3.682058  20.613587 -0.070175        -2.6756   5/26/18        test   \n",
      "\n",
      "                                         train_dates  number_sample  \n",
      "0  3/21/18 7/13/17 6/19/17 3/22/17 10/2/18 7/17/1...             15  \n",
      "0  3/21/18 7/13/17 6/19/17 3/22/17 10/2/18 7/17/1...             15  \n",
      "--------------------------------------------------------------------------------\n",
      "18 /32\n",
      "15\n"
     ]
    },
    {
     "name": "stderr",
     "output_type": "stream",
     "text": [
      "/anaconda3/envs/coding/lib/python3.6/site-packages/xgboost/core.py:587: FutureWarning: Series.base is deprecated and will be removed in a future version\n",
      "  if getattr(data, 'base', None) is not None and \\\n",
      "/anaconda3/envs/coding/lib/python3.6/site-packages/xgboost/core.py:588: FutureWarning: Series.base is deprecated and will be removed in a future version\n",
      "  data.base is not None and isinstance(data, np.ndarray) \\\n"
     ]
    },
    {
     "name": "stdout",
     "output_type": "stream",
     "text": [
      "6/13/18\n",
      "        MAE        MSE        R2  Residual Mean test_date data_tested  \\\n",
      "0  2.115190   7.629766  0.903647         0.0038   6/13/18       train   \n",
      "0  4.178395  29.378224 -0.962093        -1.5289   6/13/18        test   \n",
      "\n",
      "                                         train_dates  number_sample  \n",
      "0  3/7/18 10/12/18 10/27/18 1/4/18 8/17/18 12/9/1...             15  \n",
      "0  3/7/18 10/12/18 10/27/18 1/4/18 8/17/18 12/9/1...             15  \n",
      "--------------------------------------------------------------------------------\n",
      "19 /32\n",
      "15\n"
     ]
    },
    {
     "name": "stderr",
     "output_type": "stream",
     "text": [
      "/anaconda3/envs/coding/lib/python3.6/site-packages/xgboost/core.py:587: FutureWarning: Series.base is deprecated and will be removed in a future version\n",
      "  if getattr(data, 'base', None) is not None and \\\n",
      "/anaconda3/envs/coding/lib/python3.6/site-packages/xgboost/core.py:588: FutureWarning: Series.base is deprecated and will be removed in a future version\n",
      "  data.base is not None and isinstance(data, np.ndarray) \\\n"
     ]
    },
    {
     "name": "stdout",
     "output_type": "stream",
     "text": [
      "7/17/18\n",
      "        MAE        MSE        R2  Residual Mean test_date data_tested  \\\n",
      "0  1.980748   6.690137  0.904443         0.0028   7/17/18       train   \n",
      "0  3.151244  19.514204  0.359260         0.2990   7/17/18        test   \n",
      "\n",
      "                                         train_dates  number_sample  \n",
      "0  3/14/17 9/26/18 1/7/17 10/27/18 12/17/18 12/9/...             15  \n",
      "0  3/14/17 9/26/18 1/7/17 10/27/18 12/17/18 12/9/...             15  \n",
      "--------------------------------------------------------------------------------\n",
      "20 /32\n",
      "15\n"
     ]
    },
    {
     "name": "stderr",
     "output_type": "stream",
     "text": [
      "/anaconda3/envs/coding/lib/python3.6/site-packages/xgboost/core.py:587: FutureWarning: Series.base is deprecated and will be removed in a future version\n",
      "  if getattr(data, 'base', None) is not None and \\\n",
      "/anaconda3/envs/coding/lib/python3.6/site-packages/xgboost/core.py:588: FutureWarning: Series.base is deprecated and will be removed in a future version\n",
      "  data.base is not None and isinstance(data, np.ndarray) \\\n"
     ]
    },
    {
     "name": "stdout",
     "output_type": "stream",
     "text": [
      "7/21/18\n",
      "        MAE        MSE        R2  Residual Mean test_date data_tested  \\\n",
      "0  1.987065   6.772591  0.919091        -0.0026   7/21/18       train   \n",
      "0  4.534010  31.893665 -0.018437         1.7843   7/21/18        test   \n",
      "\n",
      "                                         train_dates  number_sample  \n",
      "0  3/7/18 12/9/17 5/15/18 9/10/18 9/26/18 10/27/1...             15  \n",
      "0  3/7/18 12/9/17 5/15/18 9/10/18 9/26/18 10/27/1...             15  \n",
      "--------------------------------------------------------------------------------\n",
      "21 /32\n",
      "15\n"
     ]
    },
    {
     "name": "stderr",
     "output_type": "stream",
     "text": [
      "/anaconda3/envs/coding/lib/python3.6/site-packages/xgboost/core.py:587: FutureWarning: Series.base is deprecated and will be removed in a future version\n",
      "  if getattr(data, 'base', None) is not None and \\\n",
      "/anaconda3/envs/coding/lib/python3.6/site-packages/xgboost/core.py:588: FutureWarning: Series.base is deprecated and will be removed in a future version\n",
      "  data.base is not None and isinstance(data, np.ndarray) \\\n"
     ]
    },
    {
     "name": "stdout",
     "output_type": "stream",
     "text": [
      "8/17/18\n",
      "        MAE        MSE        R2  Residual Mean test_date data_tested  \\\n",
      "0  1.935339   6.384796  0.891067         0.0017   8/17/18       train   \n",
      "0  3.930161  25.112009  0.280393        -1.4052   8/17/18        test   \n",
      "\n",
      "                                         train_dates  number_sample  \n",
      "0  3/21/18 3/14/17 9/6/18 2/24/19 1/4/18 2/9/17 7...             15  \n",
      "0  3/21/18 3/14/17 9/6/18 2/24/19 1/4/18 2/9/17 7...             15  \n",
      "--------------------------------------------------------------------------------\n",
      "22 /32\n",
      "15\n"
     ]
    },
    {
     "name": "stderr",
     "output_type": "stream",
     "text": [
      "/anaconda3/envs/coding/lib/python3.6/site-packages/xgboost/core.py:587: FutureWarning: Series.base is deprecated and will be removed in a future version\n",
      "  if getattr(data, 'base', None) is not None and \\\n",
      "/anaconda3/envs/coding/lib/python3.6/site-packages/xgboost/core.py:588: FutureWarning: Series.base is deprecated and will be removed in a future version\n",
      "  data.base is not None and isinstance(data, np.ndarray) \\\n"
     ]
    },
    {
     "name": "stdout",
     "output_type": "stream",
     "text": [
      "9/4/18\n",
      "        MAE       MSE        R2  Residual Mean test_date data_tested  \\\n",
      "0  2.168573  8.124453  0.896975         0.0012    9/4/18       train   \n",
      "0  2.245756  7.939561  0.279581         0.3574    9/4/18        test   \n",
      "\n",
      "                                         train_dates  number_sample  \n",
      "0  2/13/17 10/29/17 11/19/17 10/2/18 6/19/17 10/2...             15  \n",
      "0  2/13/17 10/29/17 11/19/17 10/2/18 6/19/17 10/2...             15  \n",
      "--------------------------------------------------------------------------------\n",
      "23 /32\n",
      "15\n"
     ]
    },
    {
     "name": "stderr",
     "output_type": "stream",
     "text": [
      "/anaconda3/envs/coding/lib/python3.6/site-packages/xgboost/core.py:587: FutureWarning: Series.base is deprecated and will be removed in a future version\n",
      "  if getattr(data, 'base', None) is not None and \\\n",
      "/anaconda3/envs/coding/lib/python3.6/site-packages/xgboost/core.py:588: FutureWarning: Series.base is deprecated and will be removed in a future version\n",
      "  data.base is not None and isinstance(data, np.ndarray) \\\n"
     ]
    },
    {
     "name": "stdout",
     "output_type": "stream",
     "text": [
      "9/6/18\n",
      "        MAE        MSE        R2  Residual Mean test_date data_tested  \\\n",
      "0  2.320735   9.230928  0.876459        -0.0062    9/6/18       train   \n",
      "0  2.900094  16.090641  0.367931        -0.1758    9/6/18        test   \n",
      "\n",
      "                                         train_dates  number_sample  \n",
      "0  2/9/17 2/25/17 8/17/18 6/19/17 2/13/17 10/2/18...             15  \n",
      "0  2/9/17 2/25/17 8/17/18 6/19/17 2/13/17 10/2/18...             15  \n",
      "--------------------------------------------------------------------------------\n",
      "24 /32\n",
      "15\n"
     ]
    },
    {
     "name": "stderr",
     "output_type": "stream",
     "text": [
      "/anaconda3/envs/coding/lib/python3.6/site-packages/xgboost/core.py:587: FutureWarning: Series.base is deprecated and will be removed in a future version\n",
      "  if getattr(data, 'base', None) is not None and \\\n",
      "/anaconda3/envs/coding/lib/python3.6/site-packages/xgboost/core.py:588: FutureWarning: Series.base is deprecated and will be removed in a future version\n",
      "  data.base is not None and isinstance(data, np.ndarray) \\\n"
     ]
    },
    {
     "name": "stdout",
     "output_type": "stream",
     "text": [
      "9/10/18\n",
      "        MAE        MSE        R2  Residual Mean test_date data_tested  \\\n",
      "0  2.041724   7.132771  0.896593         0.0054   9/10/18       train   \n",
      "0  4.003422  25.512194  0.037301         1.6137   9/10/18        test   \n",
      "\n",
      "                                         train_dates  number_sample  \n",
      "0  3/21/18 9/4/18 7/13/17 3/7/18 10/2/18 1/4/18 2...             15  \n",
      "0  3/21/18 9/4/18 7/13/17 3/7/18 10/2/18 1/4/18 2...             15  \n",
      "--------------------------------------------------------------------------------\n",
      "25 /32\n",
      "15\n"
     ]
    },
    {
     "name": "stderr",
     "output_type": "stream",
     "text": [
      "/anaconda3/envs/coding/lib/python3.6/site-packages/xgboost/core.py:587: FutureWarning: Series.base is deprecated and will be removed in a future version\n",
      "  if getattr(data, 'base', None) is not None and \\\n",
      "/anaconda3/envs/coding/lib/python3.6/site-packages/xgboost/core.py:588: FutureWarning: Series.base is deprecated and will be removed in a future version\n",
      "  data.base is not None and isinstance(data, np.ndarray) \\\n"
     ]
    },
    {
     "name": "stdout",
     "output_type": "stream",
     "text": [
      "9/26/18\n",
      "        MAE        MSE        R2  Residual Mean test_date data_tested  \\\n",
      "0  1.995659   6.859758  0.894524        -0.0003   9/26/18       train   \n",
      "0  3.832578  23.546190 -0.042307         2.2263   9/26/18        test   \n",
      "\n",
      "                                         train_dates  number_sample  \n",
      "0  5/26/18 2/24/19 6/19/17 9/6/18 10/29/17 12/17/...             15  \n",
      "0  5/26/18 2/24/19 6/19/17 9/6/18 10/29/17 12/17/...             15  \n",
      "--------------------------------------------------------------------------------\n",
      "26 /32\n",
      "15\n"
     ]
    },
    {
     "name": "stderr",
     "output_type": "stream",
     "text": [
      "/anaconda3/envs/coding/lib/python3.6/site-packages/xgboost/core.py:587: FutureWarning: Series.base is deprecated and will be removed in a future version\n",
      "  if getattr(data, 'base', None) is not None and \\\n",
      "/anaconda3/envs/coding/lib/python3.6/site-packages/xgboost/core.py:588: FutureWarning: Series.base is deprecated and will be removed in a future version\n",
      "  data.base is not None and isinstance(data, np.ndarray) \\\n"
     ]
    },
    {
     "name": "stdout",
     "output_type": "stream",
     "text": [
      "10/2/18\n",
      "        MAE        MSE        R2  Residual Mean test_date data_tested  \\\n",
      "0  2.008592   6.949204  0.916433         0.0009   10/2/18       train   \n",
      "0  3.972043  24.588183  0.136665        -0.6984   10/2/18        test   \n",
      "\n",
      "                                         train_dates  number_sample  \n",
      "0  10/29/17 3/2/17 3/14/17 12/22/18 12/9/17 6/13/...             15  \n",
      "0  10/29/17 3/2/17 3/14/17 12/22/18 12/9/17 6/13/...             15  \n",
      "--------------------------------------------------------------------------------\n",
      "27 /32\n",
      "15\n"
     ]
    },
    {
     "name": "stderr",
     "output_type": "stream",
     "text": [
      "/anaconda3/envs/coding/lib/python3.6/site-packages/xgboost/core.py:587: FutureWarning: Series.base is deprecated and will be removed in a future version\n",
      "  if getattr(data, 'base', None) is not None and \\\n",
      "/anaconda3/envs/coding/lib/python3.6/site-packages/xgboost/core.py:588: FutureWarning: Series.base is deprecated and will be removed in a future version\n",
      "  data.base is not None and isinstance(data, np.ndarray) \\\n"
     ]
    },
    {
     "name": "stdout",
     "output_type": "stream",
     "text": [
      "10/12/18\n",
      "        MAE        MSE        R2  Residual Mean test_date data_tested  \\\n",
      "0  2.091482   7.481627  0.914239        -0.0012  10/12/18       train   \n",
      "0  4.109089  27.263784  0.585618         0.7283  10/12/18        test   \n",
      "\n",
      "                                         train_dates  number_sample  \n",
      "0  6/13/18 3/2/17 10/27/18 9/26/18 2/24/19 3/14/1...             15  \n",
      "0  6/13/18 3/2/17 10/27/18 9/26/18 2/24/19 3/14/1...             15  \n",
      "--------------------------------------------------------------------------------\n",
      "28 /32\n",
      "15\n"
     ]
    },
    {
     "name": "stderr",
     "output_type": "stream",
     "text": [
      "/anaconda3/envs/coding/lib/python3.6/site-packages/xgboost/core.py:587: FutureWarning: Series.base is deprecated and will be removed in a future version\n",
      "  if getattr(data, 'base', None) is not None and \\\n",
      "/anaconda3/envs/coding/lib/python3.6/site-packages/xgboost/core.py:588: FutureWarning: Series.base is deprecated and will be removed in a future version\n",
      "  data.base is not None and isinstance(data, np.ndarray) \\\n"
     ]
    },
    {
     "name": "stdout",
     "output_type": "stream",
     "text": [
      "10/27/18\n",
      "        MAE        MSE        R2  Residual Mean test_date data_tested  \\\n",
      "0  2.152852   7.860702  0.889843         0.0026  10/27/18       train   \n",
      "0  4.238877  30.809154  0.536677         0.4407  10/27/18        test   \n",
      "\n",
      "                                         train_dates  number_sample  \n",
      "0  6/13/18 2/24/19 10/29/17 2/25/17 6/19/17 3/7/1...             15  \n",
      "0  6/13/18 2/24/19 10/29/17 2/25/17 6/19/17 3/7/1...             15  \n",
      "--------------------------------------------------------------------------------\n",
      "29 /32\n",
      "15\n"
     ]
    },
    {
     "name": "stderr",
     "output_type": "stream",
     "text": [
      "/anaconda3/envs/coding/lib/python3.6/site-packages/xgboost/core.py:587: FutureWarning: Series.base is deprecated and will be removed in a future version\n",
      "  if getattr(data, 'base', None) is not None and \\\n",
      "/anaconda3/envs/coding/lib/python3.6/site-packages/xgboost/core.py:588: FutureWarning: Series.base is deprecated and will be removed in a future version\n",
      "  data.base is not None and isinstance(data, np.ndarray) \\\n"
     ]
    },
    {
     "name": "stdout",
     "output_type": "stream",
     "text": [
      "12/17/18\n",
      "        MAE        MSE        R2  Residual Mean test_date data_tested  \\\n",
      "0  2.133942   7.720601  0.893356        -0.0019  12/17/18       train   \n",
      "0  4.598832  35.996113  0.420734         1.7425  12/17/18        test   \n",
      "\n",
      "                                         train_dates  number_sample  \n",
      "0  12/22/18 7/21/18 2/24/19 9/26/18 9/10/18 10/12...             15  \n",
      "0  12/22/18 7/21/18 2/24/19 9/26/18 9/10/18 10/12...             15  \n",
      "--------------------------------------------------------------------------------\n",
      "30 /32\n",
      "15\n"
     ]
    },
    {
     "name": "stderr",
     "output_type": "stream",
     "text": [
      "/anaconda3/envs/coding/lib/python3.6/site-packages/xgboost/core.py:587: FutureWarning: Series.base is deprecated and will be removed in a future version\n",
      "  if getattr(data, 'base', None) is not None and \\\n",
      "/anaconda3/envs/coding/lib/python3.6/site-packages/xgboost/core.py:588: FutureWarning: Series.base is deprecated and will be removed in a future version\n",
      "  data.base is not None and isinstance(data, np.ndarray) \\\n"
     ]
    },
    {
     "name": "stdout",
     "output_type": "stream",
     "text": [
      "12/22/18\n",
      "        MAE        MSE        R2  Residual Mean test_date data_tested  \\\n",
      "0  1.893636   6.270097  0.892797        -0.0001  12/22/18       train   \n",
      "0  5.488111  47.532818  0.133865        -0.3397  12/22/18        test   \n",
      "\n",
      "                                         train_dates  number_sample  \n",
      "0  2/25/17 3/21/18 6/19/17 7/21/18 1/7/17 5/26/18...             15  \n",
      "0  2/25/17 3/21/18 6/19/17 7/21/18 1/7/17 5/26/18...             15  \n",
      "--------------------------------------------------------------------------------\n",
      "31 /32\n",
      "15\n"
     ]
    },
    {
     "name": "stderr",
     "output_type": "stream",
     "text": [
      "/anaconda3/envs/coding/lib/python3.6/site-packages/xgboost/core.py:587: FutureWarning: Series.base is deprecated and will be removed in a future version\n",
      "  if getattr(data, 'base', None) is not None and \\\n",
      "/anaconda3/envs/coding/lib/python3.6/site-packages/xgboost/core.py:588: FutureWarning: Series.base is deprecated and will be removed in a future version\n",
      "  data.base is not None and isinstance(data, np.ndarray) \\\n"
     ]
    },
    {
     "name": "stdout",
     "output_type": "stream",
     "text": [
      "2/24/19\n",
      "        MAE        MSE        R2  Residual Mean test_date data_tested  \\\n",
      "0  2.078888   7.342101  0.889274         0.0018   2/24/19       train   \n",
      "0  5.621470  49.246335  0.503830        -1.4916   2/24/19        test   \n",
      "\n",
      "                                         train_dates  number_sample  \n",
      "0  9/26/18 10/2/18 1/4/18 3/7/18 2/9/17 2/13/17 6...             15  \n",
      "0  9/26/18 10/2/18 1/4/18 3/7/18 2/9/17 2/13/17 6...             15  \n",
      "--------------------------------------------------------------------------------\n",
      "32 /32\n"
     ]
    }
   ],
   "source": [
    "table = pd.DataFrame()\n",
    "data = pd.DataFrame()\n",
    "count = 0\n",
    "for i in df['EXP'].unique():\n",
    "    t,d = rf_model2(i,15)\n",
    "    table = table.append(t)\n",
    "    data = data.append(d)\n",
    "    count += 1\n",
    "    print(count,'/32')"
   ]
  },
  {
   "cell_type": "code",
   "execution_count": 14,
   "metadata": {},
   "outputs": [],
   "source": [
    "#table.to_csv('15_sample_XGB_stats.csv')\n",
    "#data.to_csv('15_sample_XGB_data.csv')"
   ]
  },
  {
   "cell_type": "code",
   "execution_count": 15,
   "metadata": {},
   "outputs": [
    {
     "data": {
      "text/html": [
       "<div>\n",
       "<style scoped>\n",
       "    .dataframe tbody tr th:only-of-type {\n",
       "        vertical-align: middle;\n",
       "    }\n",
       "\n",
       "    .dataframe tbody tr th {\n",
       "        vertical-align: top;\n",
       "    }\n",
       "\n",
       "    .dataframe thead th {\n",
       "        text-align: right;\n",
       "    }\n",
       "</style>\n",
       "<table border=\"1\" class=\"dataframe\">\n",
       "  <thead>\n",
       "    <tr style=\"text-align: right;\">\n",
       "      <th></th>\n",
       "      <th>MAE</th>\n",
       "      <th>R2</th>\n",
       "      <th>Residual Mean</th>\n",
       "    </tr>\n",
       "    <tr>\n",
       "      <th>data_tested</th>\n",
       "      <th></th>\n",
       "      <th></th>\n",
       "      <th></th>\n",
       "    </tr>\n",
       "  </thead>\n",
       "  <tbody>\n",
       "    <tr>\n",
       "      <th>test</th>\n",
       "      <td>4.358969</td>\n",
       "      <td>0.202420</td>\n",
       "      <td>-0.076853</td>\n",
       "    </tr>\n",
       "    <tr>\n",
       "      <th>train</th>\n",
       "      <td>2.053423</td>\n",
       "      <td>0.897449</td>\n",
       "      <td>-0.000547</td>\n",
       "    </tr>\n",
       "  </tbody>\n",
       "</table>\n",
       "</div>"
      ],
      "text/plain": [
       "                  MAE        R2  Residual Mean\n",
       "data_tested                                   \n",
       "test         4.358969  0.202420      -0.076853\n",
       "train        2.053423  0.897449      -0.000547"
      ]
     },
     "execution_count": 15,
     "metadata": {},
     "output_type": "execute_result"
    }
   ],
   "source": [
    "table.groupby('data_tested').agg({'MAE':'mean', 'R2':'mean', 'Residual Mean':'mean'})"
   ]
  },
  {
   "cell_type": "code",
   "execution_count": 16,
   "metadata": {},
   "outputs": [
    {
     "data": {
      "text/plain": [
       "-0.12989475670624498"
      ]
     },
     "execution_count": 16,
     "metadata": {},
     "output_type": "execute_result"
    }
   ],
   "source": [
    "res = data['actual'] - data['pred']\n",
    "res.mean()"
   ]
  },
  {
   "cell_type": "markdown",
   "metadata": {},
   "source": [
    "### 20 Samples"
   ]
  },
  {
   "cell_type": "code",
   "execution_count": 17,
   "metadata": {},
   "outputs": [
    {
     "name": "stdout",
     "output_type": "stream",
     "text": [
      "20\n"
     ]
    },
    {
     "name": "stderr",
     "output_type": "stream",
     "text": [
      "/anaconda3/envs/coding/lib/python3.6/site-packages/xgboost/core.py:587: FutureWarning: Series.base is deprecated and will be removed in a future version\n",
      "  if getattr(data, 'base', None) is not None and \\\n",
      "/anaconda3/envs/coding/lib/python3.6/site-packages/xgboost/core.py:588: FutureWarning: Series.base is deprecated and will be removed in a future version\n",
      "  data.base is not None and isinstance(data, np.ndarray) \\\n"
     ]
    },
    {
     "name": "stdout",
     "output_type": "stream",
     "text": [
      "1/7/17\n",
      "        MAE        MSE        R2  Residual Mean test_date data_tested  \\\n",
      "0  2.209770   8.495803  0.898983        -0.0033    1/7/17       train   \n",
      "0  3.066536  14.677407  0.502838         1.2692    1/7/17        test   \n",
      "\n",
      "                                         train_dates  number_sample  \n",
      "0  9/4/18 9/26/18 3/2/17 1/4/18 12/9/17 10/2/18 2...             20  \n",
      "0  9/4/18 9/26/18 3/2/17 1/4/18 12/9/17 10/2/18 2...             20  \n",
      "--------------------------------------------------------------------------------\n",
      "1 /32\n",
      "20\n"
     ]
    },
    {
     "name": "stderr",
     "output_type": "stream",
     "text": [
      "/anaconda3/envs/coding/lib/python3.6/site-packages/xgboost/core.py:587: FutureWarning: Series.base is deprecated and will be removed in a future version\n",
      "  if getattr(data, 'base', None) is not None and \\\n",
      "/anaconda3/envs/coding/lib/python3.6/site-packages/xgboost/core.py:588: FutureWarning: Series.base is deprecated and will be removed in a future version\n",
      "  data.base is not None and isinstance(data, np.ndarray) \\\n"
     ]
    },
    {
     "name": "stdout",
     "output_type": "stream",
     "text": [
      "2/9/17\n",
      "        MAE        MSE        R2  Residual Mean test_date data_tested  \\\n",
      "0  2.190780   8.282150  0.879614        -0.0028    2/9/17       train   \n",
      "0  3.458505  19.375227  0.589288         0.2983    2/9/17        test   \n",
      "\n",
      "                                         train_dates  number_sample  \n",
      "0  10/29/17 12/22/18 9/10/18 3/7/18 9/4/18 6/19/1...             20  \n",
      "0  10/29/17 12/22/18 9/10/18 3/7/18 9/4/18 6/19/1...             20  \n",
      "--------------------------------------------------------------------------------\n",
      "2 /32\n",
      "20\n"
     ]
    },
    {
     "name": "stderr",
     "output_type": "stream",
     "text": [
      "/anaconda3/envs/coding/lib/python3.6/site-packages/xgboost/core.py:587: FutureWarning: Series.base is deprecated and will be removed in a future version\n",
      "  if getattr(data, 'base', None) is not None and \\\n",
      "/anaconda3/envs/coding/lib/python3.6/site-packages/xgboost/core.py:588: FutureWarning: Series.base is deprecated and will be removed in a future version\n",
      "  data.base is not None and isinstance(data, np.ndarray) \\\n"
     ]
    },
    {
     "name": "stdout",
     "output_type": "stream",
     "text": [
      "2/13/17\n",
      "        MAE        MSE        R2  Residual Mean test_date data_tested  \\\n",
      "0  2.266042   8.780509  0.873436        -0.0046   2/13/17       train   \n",
      "0  7.566511  91.425935 -0.131897         6.2615   2/13/17        test   \n",
      "\n",
      "                                         train_dates  number_sample  \n",
      "0  8/17/18 5/15/18 7/21/18 3/2/18 1/4/18 1/7/17 3...             20  \n",
      "0  8/17/18 5/15/18 7/21/18 3/2/18 1/4/18 1/7/17 3...             20  \n",
      "--------------------------------------------------------------------------------\n",
      "3 /32\n",
      "20\n"
     ]
    },
    {
     "name": "stderr",
     "output_type": "stream",
     "text": [
      "/anaconda3/envs/coding/lib/python3.6/site-packages/xgboost/core.py:587: FutureWarning: Series.base is deprecated and will be removed in a future version\n",
      "  if getattr(data, 'base', None) is not None and \\\n",
      "/anaconda3/envs/coding/lib/python3.6/site-packages/xgboost/core.py:588: FutureWarning: Series.base is deprecated and will be removed in a future version\n",
      "  data.base is not None and isinstance(data, np.ndarray) \\\n"
     ]
    },
    {
     "name": "stdout",
     "output_type": "stream",
     "text": [
      "2/25/17\n",
      "        MAE        MSE        R2  Residual Mean test_date data_tested  \\\n",
      "0  2.190606   8.249188  0.888540        -0.0003   2/25/17       train   \n",
      "0  4.269177  29.491472  0.219551         0.3235   2/25/17        test   \n",
      "\n",
      "                                         train_dates  number_sample  \n",
      "0  9/10/18 5/15/18 1/4/18 6/13/18 7/13/17 7/21/18...             20  \n",
      "0  9/10/18 5/15/18 1/4/18 6/13/18 7/13/17 7/21/18...             20  \n",
      "--------------------------------------------------------------------------------\n",
      "4 /32\n",
      "20\n"
     ]
    },
    {
     "name": "stderr",
     "output_type": "stream",
     "text": [
      "/anaconda3/envs/coding/lib/python3.6/site-packages/xgboost/core.py:587: FutureWarning: Series.base is deprecated and will be removed in a future version\n",
      "  if getattr(data, 'base', None) is not None and \\\n",
      "/anaconda3/envs/coding/lib/python3.6/site-packages/xgboost/core.py:588: FutureWarning: Series.base is deprecated and will be removed in a future version\n",
      "  data.base is not None and isinstance(data, np.ndarray) \\\n"
     ]
    },
    {
     "name": "stdout",
     "output_type": "stream",
     "text": [
      "3/2/17\n",
      "        MAE        MSE        R2  Residual Mean test_date data_tested  \\\n",
      "0  2.321097   9.282166  0.877766         0.0005    3/2/17       train   \n",
      "0  5.544078  48.965934  0.091258         4.1415    3/2/17        test   \n",
      "\n",
      "                                         train_dates  number_sample  \n",
      "0  1/7/17 9/6/18 10/29/17 10/12/18 10/2/18 10/27/...             20  \n",
      "0  1/7/17 9/6/18 10/29/17 10/12/18 10/2/18 10/27/...             20  \n",
      "--------------------------------------------------------------------------------\n",
      "5 /32\n",
      "20\n"
     ]
    },
    {
     "name": "stderr",
     "output_type": "stream",
     "text": [
      "/anaconda3/envs/coding/lib/python3.6/site-packages/xgboost/core.py:587: FutureWarning: Series.base is deprecated and will be removed in a future version\n",
      "  if getattr(data, 'base', None) is not None and \\\n",
      "/anaconda3/envs/coding/lib/python3.6/site-packages/xgboost/core.py:588: FutureWarning: Series.base is deprecated and will be removed in a future version\n",
      "  data.base is not None and isinstance(data, np.ndarray) \\\n"
     ]
    },
    {
     "name": "stdout",
     "output_type": "stream",
     "text": [
      "3/14/17\n",
      "        MAE        MSE        R2  Residual Mean test_date data_tested  \\\n",
      "0  2.306940   9.165183  0.880273        -0.0046   3/14/17       train   \n",
      "0  3.762169  24.942319  0.727033        -0.6374   3/14/17        test   \n",
      "\n",
      "                                         train_dates  number_sample  \n",
      "0  3/7/18 9/4/18 7/13/17 9/10/18 3/22/17 3/2/18 3...             20  \n",
      "0  3/7/18 9/4/18 7/13/17 9/10/18 3/22/17 3/2/18 3...             20  \n",
      "--------------------------------------------------------------------------------\n",
      "6 /32\n",
      "20\n"
     ]
    },
    {
     "name": "stderr",
     "output_type": "stream",
     "text": [
      "/anaconda3/envs/coding/lib/python3.6/site-packages/xgboost/core.py:587: FutureWarning: Series.base is deprecated and will be removed in a future version\n",
      "  if getattr(data, 'base', None) is not None and \\\n",
      "/anaconda3/envs/coding/lib/python3.6/site-packages/xgboost/core.py:588: FutureWarning: Series.base is deprecated and will be removed in a future version\n",
      "  data.base is not None and isinstance(data, np.ndarray) \\\n"
     ]
    },
    {
     "name": "stdout",
     "output_type": "stream",
     "text": [
      "3/22/17\n",
      "        MAE        MSE       R2  Residual Mean test_date data_tested  \\\n",
      "0  2.185476   8.228962  0.88766        -0.0012   3/22/17       train   \n",
      "0  4.968365  39.858901  0.30831         0.3315   3/22/17        test   \n",
      "\n",
      "                                         train_dates  number_sample  \n",
      "0  11/19/17 3/7/18 9/10/18 9/6/18 10/2/18 3/2/18 ...             20  \n",
      "0  11/19/17 3/7/18 9/10/18 9/6/18 10/2/18 3/2/18 ...             20  \n",
      "--------------------------------------------------------------------------------\n",
      "7 /32\n",
      "20\n"
     ]
    },
    {
     "name": "stderr",
     "output_type": "stream",
     "text": [
      "/anaconda3/envs/coding/lib/python3.6/site-packages/xgboost/core.py:587: FutureWarning: Series.base is deprecated and will be removed in a future version\n",
      "  if getattr(data, 'base', None) is not None and \\\n",
      "/anaconda3/envs/coding/lib/python3.6/site-packages/xgboost/core.py:588: FutureWarning: Series.base is deprecated and will be removed in a future version\n",
      "  data.base is not None and isinstance(data, np.ndarray) \\\n"
     ]
    },
    {
     "name": "stdout",
     "output_type": "stream",
     "text": [
      "6/19/17\n",
      "        MAE       MSE        R2  Residual Mean test_date data_tested  \\\n",
      "0  2.094921   7.54168  0.896429         0.0017   6/19/17       train   \n",
      "0  3.794411  25.61187  0.494743         0.1021   6/19/17        test   \n",
      "\n",
      "                                         train_dates  number_sample  \n",
      "0  3/7/18 8/17/18 3/2/17 12/9/17 2/9/17 1/4/18 10...             20  \n",
      "0  3/7/18 8/17/18 3/2/17 12/9/17 2/9/17 1/4/18 10...             20  \n",
      "--------------------------------------------------------------------------------\n",
      "8 /32\n",
      "20\n"
     ]
    },
    {
     "name": "stderr",
     "output_type": "stream",
     "text": [
      "/anaconda3/envs/coding/lib/python3.6/site-packages/xgboost/core.py:587: FutureWarning: Series.base is deprecated and will be removed in a future version\n",
      "  if getattr(data, 'base', None) is not None and \\\n",
      "/anaconda3/envs/coding/lib/python3.6/site-packages/xgboost/core.py:588: FutureWarning: Series.base is deprecated and will be removed in a future version\n",
      "  data.base is not None and isinstance(data, np.ndarray) \\\n"
     ]
    },
    {
     "name": "stdout",
     "output_type": "stream",
     "text": [
      "7/13/17\n",
      "        MAE        MSE        R2  Residual Mean test_date data_tested  \\\n",
      "0  2.299484   9.019284  0.864433         0.0001   7/13/17       train   \n",
      "0  3.279014  16.683963  0.356175        -0.8737   7/13/17        test   \n",
      "\n",
      "                                         train_dates  number_sample  \n",
      "0  10/29/17 3/7/18 2/24/19 6/19/17 9/26/18 2/25/1...             20  \n",
      "0  10/29/17 3/7/18 2/24/19 6/19/17 9/26/18 2/25/1...             20  \n",
      "--------------------------------------------------------------------------------\n",
      "9 /32\n",
      "20\n"
     ]
    },
    {
     "name": "stderr",
     "output_type": "stream",
     "text": [
      "/anaconda3/envs/coding/lib/python3.6/site-packages/xgboost/core.py:587: FutureWarning: Series.base is deprecated and will be removed in a future version\n",
      "  if getattr(data, 'base', None) is not None and \\\n",
      "/anaconda3/envs/coding/lib/python3.6/site-packages/xgboost/core.py:588: FutureWarning: Series.base is deprecated and will be removed in a future version\n",
      "  data.base is not None and isinstance(data, np.ndarray) \\\n"
     ]
    },
    {
     "name": "stdout",
     "output_type": "stream",
     "text": [
      "10/29/17\n",
      "        MAE        MSE        R2  Residual Mean test_date data_tested  \\\n",
      "0  2.176519   8.140807  0.887163        -0.0018  10/29/17       train   \n",
      "0  6.445315  65.723335 -0.012252        -2.6353  10/29/17        test   \n",
      "\n",
      "                                         train_dates  number_sample  \n",
      "0  12/22/18 2/9/17 7/21/18 3/2/17 9/10/18 6/13/18...             20  \n",
      "0  12/22/18 2/9/17 7/21/18 3/2/17 9/10/18 6/13/18...             20  \n",
      "--------------------------------------------------------------------------------\n",
      "10 /32\n",
      "20\n"
     ]
    },
    {
     "name": "stderr",
     "output_type": "stream",
     "text": [
      "/anaconda3/envs/coding/lib/python3.6/site-packages/xgboost/core.py:587: FutureWarning: Series.base is deprecated and will be removed in a future version\n",
      "  if getattr(data, 'base', None) is not None and \\\n",
      "/anaconda3/envs/coding/lib/python3.6/site-packages/xgboost/core.py:588: FutureWarning: Series.base is deprecated and will be removed in a future version\n",
      "  data.base is not None and isinstance(data, np.ndarray) \\\n"
     ]
    },
    {
     "name": "stdout",
     "output_type": "stream",
     "text": [
      "11/19/17\n",
      "        MAE        MSE        R2  Residual Mean test_date data_tested  \\\n",
      "0  2.101860   7.642644  0.896610        -0.0002  11/19/17       train   \n",
      "0  4.990906  37.716648  0.474792        -0.1521  11/19/17        test   \n",
      "\n",
      "                                         train_dates  number_sample  \n",
      "0  2/24/19 9/4/18 3/22/17 12/22/18 6/13/18 10/12/...             20  \n",
      "0  2/24/19 9/4/18 3/22/17 12/22/18 6/13/18 10/12/...             20  \n",
      "--------------------------------------------------------------------------------\n",
      "11 /32\n",
      "20\n"
     ]
    },
    {
     "name": "stderr",
     "output_type": "stream",
     "text": [
      "/anaconda3/envs/coding/lib/python3.6/site-packages/xgboost/core.py:587: FutureWarning: Series.base is deprecated and will be removed in a future version\n",
      "  if getattr(data, 'base', None) is not None and \\\n",
      "/anaconda3/envs/coding/lib/python3.6/site-packages/xgboost/core.py:588: FutureWarning: Series.base is deprecated and will be removed in a future version\n",
      "  data.base is not None and isinstance(data, np.ndarray) \\\n"
     ]
    },
    {
     "name": "stdout",
     "output_type": "stream",
     "text": [
      "12/9/17\n",
      "        MAE        MSE        R2  Residual Mean test_date data_tested  \\\n",
      "0  2.107208   7.612145  0.878733        -0.0014   12/9/17       train   \n",
      "0  3.561301  17.014886 -0.316660        -3.1492   12/9/17        test   \n",
      "\n",
      "                                         train_dates  number_sample  \n",
      "0  12/17/18 6/19/17 8/17/18 1/7/17 5/26/18 10/2/1...             20  \n",
      "0  12/17/18 6/19/17 8/17/18 1/7/17 5/26/18 10/2/1...             20  \n",
      "--------------------------------------------------------------------------------\n",
      "12 /32\n",
      "20\n"
     ]
    },
    {
     "name": "stderr",
     "output_type": "stream",
     "text": [
      "/anaconda3/envs/coding/lib/python3.6/site-packages/xgboost/core.py:587: FutureWarning: Series.base is deprecated and will be removed in a future version\n",
      "  if getattr(data, 'base', None) is not None and \\\n",
      "/anaconda3/envs/coding/lib/python3.6/site-packages/xgboost/core.py:588: FutureWarning: Series.base is deprecated and will be removed in a future version\n",
      "  data.base is not None and isinstance(data, np.ndarray) \\\n"
     ]
    },
    {
     "name": "stdout",
     "output_type": "stream",
     "text": [
      "1/4/18\n",
      "        MAE        MSE        R2  Residual Mean test_date data_tested  \\\n",
      "0  2.166533   8.121675  0.892772        -0.0019    1/4/18       train   \n",
      "0  4.233820  31.753592  0.728443         1.9770    1/4/18        test   \n",
      "\n",
      "                                         train_dates  number_sample  \n",
      "0  11/19/17 12/9/17 7/13/17 10/29/17 1/7/17 2/13/...             20  \n",
      "0  11/19/17 12/9/17 7/13/17 10/29/17 1/7/17 2/13/...             20  \n",
      "--------------------------------------------------------------------------------\n",
      "13 /32\n",
      "20\n"
     ]
    },
    {
     "name": "stderr",
     "output_type": "stream",
     "text": [
      "/anaconda3/envs/coding/lib/python3.6/site-packages/xgboost/core.py:587: FutureWarning: Series.base is deprecated and will be removed in a future version\n",
      "  if getattr(data, 'base', None) is not None and \\\n",
      "/anaconda3/envs/coding/lib/python3.6/site-packages/xgboost/core.py:588: FutureWarning: Series.base is deprecated and will be removed in a future version\n",
      "  data.base is not None and isinstance(data, np.ndarray) \\\n"
     ]
    },
    {
     "name": "stdout",
     "output_type": "stream",
     "text": [
      "3/2/18\n",
      "        MAE        MSE        R2  Residual Mean test_date data_tested  \\\n",
      "0  2.276838   8.869573  0.870139        -0.0002    3/2/18       train   \n",
      "0  4.795338  38.106568  0.449180        -1.2609    3/2/18        test   \n",
      "\n",
      "                                         train_dates  number_sample  \n",
      "0  8/17/18 5/15/18 9/6/18 9/26/18 2/25/17 3/7/18 ...             20  \n",
      "0  8/17/18 5/15/18 9/6/18 9/26/18 2/25/17 3/7/18 ...             20  \n",
      "--------------------------------------------------------------------------------\n",
      "14 /32\n",
      "20\n"
     ]
    },
    {
     "name": "stderr",
     "output_type": "stream",
     "text": [
      "/anaconda3/envs/coding/lib/python3.6/site-packages/xgboost/core.py:587: FutureWarning: Series.base is deprecated and will be removed in a future version\n",
      "  if getattr(data, 'base', None) is not None and \\\n",
      "/anaconda3/envs/coding/lib/python3.6/site-packages/xgboost/core.py:588: FutureWarning: Series.base is deprecated and will be removed in a future version\n",
      "  data.base is not None and isinstance(data, np.ndarray) \\\n"
     ]
    },
    {
     "name": "stdout",
     "output_type": "stream",
     "text": [
      "3/7/18\n",
      "        MAE        MSE        R2  Residual Mean test_date data_tested  \\\n",
      "0  2.313806   9.322665  0.883140         0.0000    3/7/18       train   \n",
      "0  3.354152  17.240470  0.320448        -1.0231    3/7/18        test   \n",
      "\n",
      "                                         train_dates  number_sample  \n",
      "0  7/21/18 10/2/18 6/13/18 9/10/18 9/4/18 1/4/18 ...             20  \n",
      "0  7/21/18 10/2/18 6/13/18 9/10/18 9/4/18 1/4/18 ...             20  \n",
      "--------------------------------------------------------------------------------\n",
      "15 /32\n",
      "20\n"
     ]
    },
    {
     "name": "stderr",
     "output_type": "stream",
     "text": [
      "/anaconda3/envs/coding/lib/python3.6/site-packages/xgboost/core.py:587: FutureWarning: Series.base is deprecated and will be removed in a future version\n",
      "  if getattr(data, 'base', None) is not None and \\\n",
      "/anaconda3/envs/coding/lib/python3.6/site-packages/xgboost/core.py:588: FutureWarning: Series.base is deprecated and will be removed in a future version\n",
      "  data.base is not None and isinstance(data, np.ndarray) \\\n"
     ]
    },
    {
     "name": "stdout",
     "output_type": "stream",
     "text": [
      "3/21/18\n",
      "        MAE        MSE        R2  Residual Mean test_date data_tested  \\\n",
      "0  2.336163   9.456910  0.890756        -0.0018   3/21/18       train   \n",
      "0  4.915946  36.047677 -0.197187        -3.7816   3/21/18        test   \n",
      "\n",
      "                                         train_dates  number_sample  \n",
      "0  9/10/18 1/7/17 7/13/17 2/13/17 3/14/17 11/19/1...             20  \n",
      "0  9/10/18 1/7/17 7/13/17 2/13/17 3/14/17 11/19/1...             20  \n",
      "--------------------------------------------------------------------------------\n",
      "16 /32\n",
      "20\n"
     ]
    },
    {
     "name": "stderr",
     "output_type": "stream",
     "text": [
      "/anaconda3/envs/coding/lib/python3.6/site-packages/xgboost/core.py:587: FutureWarning: Series.base is deprecated and will be removed in a future version\n",
      "  if getattr(data, 'base', None) is not None and \\\n",
      "/anaconda3/envs/coding/lib/python3.6/site-packages/xgboost/core.py:588: FutureWarning: Series.base is deprecated and will be removed in a future version\n",
      "  data.base is not None and isinstance(data, np.ndarray) \\\n"
     ]
    },
    {
     "name": "stdout",
     "output_type": "stream",
     "text": [
      "5/15/18\n",
      "        MAE        MSE        R2  Residual Mean test_date data_tested  \\\n",
      "0  2.183932   8.242662  0.885162         0.0061   5/15/18       train   \n",
      "0  4.080775  33.405218  0.394888        -1.1312   5/15/18        test   \n",
      "\n",
      "                                         train_dates  number_sample  \n",
      "0  1/4/18 12/17/18 9/26/18 3/22/17 6/13/18 3/21/1...             20  \n",
      "0  1/4/18 12/17/18 9/26/18 3/22/17 6/13/18 3/21/1...             20  \n",
      "--------------------------------------------------------------------------------\n",
      "17 /32\n",
      "20\n"
     ]
    },
    {
     "name": "stderr",
     "output_type": "stream",
     "text": [
      "/anaconda3/envs/coding/lib/python3.6/site-packages/xgboost/core.py:587: FutureWarning: Series.base is deprecated and will be removed in a future version\n",
      "  if getattr(data, 'base', None) is not None and \\\n",
      "/anaconda3/envs/coding/lib/python3.6/site-packages/xgboost/core.py:588: FutureWarning: Series.base is deprecated and will be removed in a future version\n",
      "  data.base is not None and isinstance(data, np.ndarray) \\\n"
     ]
    },
    {
     "name": "stdout",
     "output_type": "stream",
     "text": [
      "5/26/18\n",
      "        MAE        MSE        R2  Residual Mean test_date data_tested  \\\n",
      "0  2.183124   8.363078  0.887915         0.0031   5/26/18       train   \n",
      "0  3.555345  20.282599 -0.052991        -2.0082   5/26/18        test   \n",
      "\n",
      "                                         train_dates  number_sample  \n",
      "0  3/22/17 2/25/17 2/9/17 7/17/18 12/22/18 10/27/...             20  \n",
      "0  3/22/17 2/25/17 2/9/17 7/17/18 12/22/18 10/27/...             20  \n",
      "--------------------------------------------------------------------------------\n",
      "18 /32\n",
      "20\n"
     ]
    },
    {
     "name": "stderr",
     "output_type": "stream",
     "text": [
      "/anaconda3/envs/coding/lib/python3.6/site-packages/xgboost/core.py:587: FutureWarning: Series.base is deprecated and will be removed in a future version\n",
      "  if getattr(data, 'base', None) is not None and \\\n",
      "/anaconda3/envs/coding/lib/python3.6/site-packages/xgboost/core.py:588: FutureWarning: Series.base is deprecated and will be removed in a future version\n",
      "  data.base is not None and isinstance(data, np.ndarray) \\\n"
     ]
    },
    {
     "name": "stdout",
     "output_type": "stream",
     "text": [
      "6/13/18\n",
      "        MAE        MSE        R2  Residual Mean test_date data_tested  \\\n",
      "0  2.240186   8.737058  0.884161         0.0004   6/13/18       train   \n",
      "0  3.492419  20.470995 -0.367203        -0.8808   6/13/18        test   \n",
      "\n",
      "                                         train_dates  number_sample  \n",
      "0  9/10/18 10/27/18 3/21/18 10/29/17 3/14/17 9/4/...             20  \n",
      "0  9/10/18 10/27/18 3/21/18 10/29/17 3/14/17 9/4/...             20  \n",
      "--------------------------------------------------------------------------------\n",
      "19 /32\n",
      "20\n"
     ]
    },
    {
     "name": "stderr",
     "output_type": "stream",
     "text": [
      "/anaconda3/envs/coding/lib/python3.6/site-packages/xgboost/core.py:587: FutureWarning: Series.base is deprecated and will be removed in a future version\n",
      "  if getattr(data, 'base', None) is not None and \\\n",
      "/anaconda3/envs/coding/lib/python3.6/site-packages/xgboost/core.py:588: FutureWarning: Series.base is deprecated and will be removed in a future version\n",
      "  data.base is not None and isinstance(data, np.ndarray) \\\n"
     ]
    },
    {
     "name": "stdout",
     "output_type": "stream",
     "text": [
      "7/17/18\n",
      "        MAE        MSE        R2  Residual Mean test_date data_tested  \\\n",
      "0  2.302118   9.097755  0.877046        -0.0012   7/17/18       train   \n",
      "0  2.967198  18.128163  0.404770         0.3276   7/17/18        test   \n",
      "\n",
      "                                         train_dates  number_sample  \n",
      "0  9/10/18 6/13/18 3/7/18 12/17/18 8/17/18 10/27/...             20  \n",
      "0  9/10/18 6/13/18 3/7/18 12/17/18 8/17/18 10/27/...             20  \n",
      "--------------------------------------------------------------------------------\n",
      "20 /32\n",
      "20\n"
     ]
    },
    {
     "name": "stderr",
     "output_type": "stream",
     "text": [
      "/anaconda3/envs/coding/lib/python3.6/site-packages/xgboost/core.py:587: FutureWarning: Series.base is deprecated and will be removed in a future version\n",
      "  if getattr(data, 'base', None) is not None and \\\n",
      "/anaconda3/envs/coding/lib/python3.6/site-packages/xgboost/core.py:588: FutureWarning: Series.base is deprecated and will be removed in a future version\n",
      "  data.base is not None and isinstance(data, np.ndarray) \\\n"
     ]
    },
    {
     "name": "stdout",
     "output_type": "stream",
     "text": [
      "7/21/18\n",
      "        MAE       MSE        R2  Residual Mean test_date data_tested  \\\n",
      "0  2.137423   7.85444  0.894722         0.0029   7/21/18       train   \n",
      "0  4.771200  35.65056 -0.138403         3.0961   7/21/18        test   \n",
      "\n",
      "                                         train_dates  number_sample  \n",
      "0  10/29/17 1/7/17 3/14/17 3/22/17 2/24/19 3/21/1...             20  \n",
      "0  10/29/17 1/7/17 3/14/17 3/22/17 2/24/19 3/21/1...             20  \n",
      "--------------------------------------------------------------------------------\n",
      "21 /32\n",
      "20\n"
     ]
    },
    {
     "name": "stderr",
     "output_type": "stream",
     "text": [
      "/anaconda3/envs/coding/lib/python3.6/site-packages/xgboost/core.py:587: FutureWarning: Series.base is deprecated and will be removed in a future version\n",
      "  if getattr(data, 'base', None) is not None and \\\n",
      "/anaconda3/envs/coding/lib/python3.6/site-packages/xgboost/core.py:588: FutureWarning: Series.base is deprecated and will be removed in a future version\n",
      "  data.base is not None and isinstance(data, np.ndarray) \\\n"
     ]
    },
    {
     "name": "stdout",
     "output_type": "stream",
     "text": [
      "8/17/18\n",
      "        MAE        MSE        R2  Residual Mean test_date data_tested  \\\n",
      "0  2.311936   9.170051  0.878135         0.0006   8/17/18       train   \n",
      "0  3.637360  23.472067  0.327387         0.4638   8/17/18        test   \n",
      "\n",
      "                                         train_dates  number_sample  \n",
      "0  9/26/18 9/10/18 3/2/17 12/17/18 2/13/17 10/29/...             20  \n",
      "0  9/26/18 9/10/18 3/2/17 12/17/18 2/13/17 10/29/...             20  \n",
      "--------------------------------------------------------------------------------\n",
      "22 /32\n",
      "20\n"
     ]
    },
    {
     "name": "stderr",
     "output_type": "stream",
     "text": [
      "/anaconda3/envs/coding/lib/python3.6/site-packages/xgboost/core.py:587: FutureWarning: Series.base is deprecated and will be removed in a future version\n",
      "  if getattr(data, 'base', None) is not None and \\\n",
      "/anaconda3/envs/coding/lib/python3.6/site-packages/xgboost/core.py:588: FutureWarning: Series.base is deprecated and will be removed in a future version\n",
      "  data.base is not None and isinstance(data, np.ndarray) \\\n"
     ]
    },
    {
     "name": "stdout",
     "output_type": "stream",
     "text": [
      "9/4/18\n",
      "       MAE       MSE        R2  Residual Mean test_date data_tested  \\\n",
      "0  2.24559  8.847867  0.881435        -0.0002    9/4/18       train   \n",
      "0  1.96726  6.101027  0.446406         0.3707    9/4/18        test   \n",
      "\n",
      "                                         train_dates  number_sample  \n",
      "0  10/2/18 9/10/18 1/4/18 7/17/18 7/13/17 8/17/18...             20  \n",
      "0  10/2/18 9/10/18 1/4/18 7/17/18 7/13/17 8/17/18...             20  \n",
      "--------------------------------------------------------------------------------\n",
      "23 /32\n",
      "20\n"
     ]
    },
    {
     "name": "stderr",
     "output_type": "stream",
     "text": [
      "/anaconda3/envs/coding/lib/python3.6/site-packages/xgboost/core.py:587: FutureWarning: Series.base is deprecated and will be removed in a future version\n",
      "  if getattr(data, 'base', None) is not None and \\\n",
      "/anaconda3/envs/coding/lib/python3.6/site-packages/xgboost/core.py:588: FutureWarning: Series.base is deprecated and will be removed in a future version\n",
      "  data.base is not None and isinstance(data, np.ndarray) \\\n"
     ]
    },
    {
     "name": "stdout",
     "output_type": "stream",
     "text": [
      "9/6/18\n",
      "        MAE        MSE        R2  Residual Mean test_date data_tested  \\\n",
      "0  2.251093   8.570192  0.890672         0.0017    9/6/18       train   \n",
      "0  2.764239  15.673366  0.384322         0.1224    9/6/18        test   \n",
      "\n",
      "                                         train_dates  number_sample  \n",
      "0  7/21/18 3/14/17 10/29/17 12/17/18 7/17/18 8/17...             20  \n",
      "0  7/21/18 3/14/17 10/29/17 12/17/18 7/17/18 8/17...             20  \n",
      "--------------------------------------------------------------------------------\n",
      "24 /32\n",
      "20\n"
     ]
    },
    {
     "name": "stderr",
     "output_type": "stream",
     "text": [
      "/anaconda3/envs/coding/lib/python3.6/site-packages/xgboost/core.py:587: FutureWarning: Series.base is deprecated and will be removed in a future version\n",
      "  if getattr(data, 'base', None) is not None and \\\n",
      "/anaconda3/envs/coding/lib/python3.6/site-packages/xgboost/core.py:588: FutureWarning: Series.base is deprecated and will be removed in a future version\n",
      "  data.base is not None and isinstance(data, np.ndarray) \\\n"
     ]
    },
    {
     "name": "stdout",
     "output_type": "stream",
     "text": [
      "9/10/18\n",
      "        MAE        MSE        R2  Residual Mean test_date data_tested  \\\n",
      "0  2.237265   8.620916  0.858880         0.0020   9/10/18       train   \n",
      "0  3.709814  23.596656  0.109584         1.6378   9/10/18        test   \n",
      "\n",
      "                                         train_dates  number_sample  \n",
      "0  10/27/18 7/17/18 10/12/18 1/4/18 7/21/18 2/9/1...             20  \n",
      "0  10/27/18 7/17/18 10/12/18 1/4/18 7/21/18 2/9/1...             20  \n",
      "--------------------------------------------------------------------------------\n",
      "25 /32\n",
      "20\n"
     ]
    },
    {
     "name": "stderr",
     "output_type": "stream",
     "text": [
      "/anaconda3/envs/coding/lib/python3.6/site-packages/xgboost/core.py:587: FutureWarning: Series.base is deprecated and will be removed in a future version\n",
      "  if getattr(data, 'base', None) is not None and \\\n",
      "/anaconda3/envs/coding/lib/python3.6/site-packages/xgboost/core.py:588: FutureWarning: Series.base is deprecated and will be removed in a future version\n",
      "  data.base is not None and isinstance(data, np.ndarray) \\\n"
     ]
    },
    {
     "name": "stdout",
     "output_type": "stream",
     "text": [
      "9/26/18\n",
      "        MAE        MSE        R2  Residual Mean test_date data_tested  \\\n",
      "0  2.183685   8.288014  0.885349         0.0015   9/26/18       train   \n",
      "0  3.858855  23.893019 -0.057660         1.8347   9/26/18        test   \n",
      "\n",
      "                                         train_dates  number_sample  \n",
      "0  9/6/18 3/7/18 10/29/17 10/27/18 5/15/18 3/2/17...             20  \n",
      "0  9/6/18 3/7/18 10/29/17 10/27/18 5/15/18 3/2/17...             20  \n",
      "--------------------------------------------------------------------------------\n",
      "26 /32\n",
      "20\n"
     ]
    },
    {
     "name": "stderr",
     "output_type": "stream",
     "text": [
      "/anaconda3/envs/coding/lib/python3.6/site-packages/xgboost/core.py:587: FutureWarning: Series.base is deprecated and will be removed in a future version\n",
      "  if getattr(data, 'base', None) is not None and \\\n",
      "/anaconda3/envs/coding/lib/python3.6/site-packages/xgboost/core.py:588: FutureWarning: Series.base is deprecated and will be removed in a future version\n",
      "  data.base is not None and isinstance(data, np.ndarray) \\\n"
     ]
    },
    {
     "name": "stdout",
     "output_type": "stream",
     "text": [
      "10/2/18\n",
      "        MAE        MSE        R2  Residual Mean test_date data_tested  \\\n",
      "0  2.097775   7.662965  0.886562        -0.0005   10/2/18       train   \n",
      "0  4.314473  29.031595 -0.019352        -1.6577   10/2/18        test   \n",
      "\n",
      "                                         train_dates  number_sample  \n",
      "0  7/21/18 5/15/18 9/26/18 3/14/17 1/4/18 10/27/1...             20  \n",
      "0  7/21/18 5/15/18 9/26/18 3/14/17 1/4/18 10/27/1...             20  \n",
      "--------------------------------------------------------------------------------\n",
      "27 /32\n",
      "20\n"
     ]
    },
    {
     "name": "stderr",
     "output_type": "stream",
     "text": [
      "/anaconda3/envs/coding/lib/python3.6/site-packages/xgboost/core.py:587: FutureWarning: Series.base is deprecated and will be removed in a future version\n",
      "  if getattr(data, 'base', None) is not None and \\\n",
      "/anaconda3/envs/coding/lib/python3.6/site-packages/xgboost/core.py:588: FutureWarning: Series.base is deprecated and will be removed in a future version\n",
      "  data.base is not None and isinstance(data, np.ndarray) \\\n"
     ]
    },
    {
     "name": "stdout",
     "output_type": "stream",
     "text": [
      "10/12/18\n",
      "        MAE        MSE        R2  Residual Mean test_date data_tested  \\\n",
      "0  2.190480   8.210838  0.881694         0.0018  10/12/18       train   \n",
      "0  4.211346  28.474795  0.567212         0.9827  10/12/18        test   \n",
      "\n",
      "                                         train_dates  number_sample  \n",
      "0  3/14/17 2/25/17 1/7/17 9/26/18 3/21/18 3/22/17...             20  \n",
      "0  3/14/17 2/25/17 1/7/17 9/26/18 3/21/18 3/22/17...             20  \n",
      "--------------------------------------------------------------------------------\n",
      "28 /32\n",
      "20\n"
     ]
    },
    {
     "name": "stderr",
     "output_type": "stream",
     "text": [
      "/anaconda3/envs/coding/lib/python3.6/site-packages/xgboost/core.py:587: FutureWarning: Series.base is deprecated and will be removed in a future version\n",
      "  if getattr(data, 'base', None) is not None and \\\n",
      "/anaconda3/envs/coding/lib/python3.6/site-packages/xgboost/core.py:588: FutureWarning: Series.base is deprecated and will be removed in a future version\n",
      "  data.base is not None and isinstance(data, np.ndarray) \\\n"
     ]
    },
    {
     "name": "stdout",
     "output_type": "stream",
     "text": [
      "10/27/18\n",
      "        MAE        MSE        R2  Residual Mean test_date data_tested  \\\n",
      "0  2.104381   7.670853  0.905623         0.0060  10/27/18       train   \n",
      "0  4.162479  28.698048  0.568425        -0.0555  10/27/18        test   \n",
      "\n",
      "                                         train_dates  number_sample  \n",
      "0  2/9/17 1/7/17 9/26/18 12/9/17 7/17/18 9/4/18 9...             20  \n",
      "0  2/9/17 1/7/17 9/26/18 12/9/17 7/17/18 9/4/18 9...             20  \n",
      "--------------------------------------------------------------------------------\n",
      "29 /32\n",
      "20\n"
     ]
    },
    {
     "name": "stderr",
     "output_type": "stream",
     "text": [
      "/anaconda3/envs/coding/lib/python3.6/site-packages/xgboost/core.py:587: FutureWarning: Series.base is deprecated and will be removed in a future version\n",
      "  if getattr(data, 'base', None) is not None and \\\n",
      "/anaconda3/envs/coding/lib/python3.6/site-packages/xgboost/core.py:588: FutureWarning: Series.base is deprecated and will be removed in a future version\n",
      "  data.base is not None and isinstance(data, np.ndarray) \\\n"
     ]
    },
    {
     "name": "stdout",
     "output_type": "stream",
     "text": [
      "12/17/18\n",
      "        MAE        MSE        R2  Residual Mean test_date data_tested  \\\n",
      "0  2.095600   7.594650  0.895838         0.0002  12/17/18       train   \n",
      "0  4.534687  33.925307  0.454058         0.8745  12/17/18        test   \n",
      "\n",
      "                                         train_dates  number_sample  \n",
      "0  1/4/18 5/26/18 3/14/17 3/21/18 2/13/17 12/22/1...             20  \n",
      "0  1/4/18 5/26/18 3/14/17 3/21/18 2/13/17 12/22/1...             20  \n",
      "--------------------------------------------------------------------------------\n",
      "30 /32\n",
      "20\n"
     ]
    },
    {
     "name": "stderr",
     "output_type": "stream",
     "text": [
      "/anaconda3/envs/coding/lib/python3.6/site-packages/xgboost/core.py:587: FutureWarning: Series.base is deprecated and will be removed in a future version\n",
      "  if getattr(data, 'base', None) is not None and \\\n",
      "/anaconda3/envs/coding/lib/python3.6/site-packages/xgboost/core.py:588: FutureWarning: Series.base is deprecated and will be removed in a future version\n",
      "  data.base is not None and isinstance(data, np.ndarray) \\\n"
     ]
    },
    {
     "name": "stdout",
     "output_type": "stream",
     "text": [
      "12/22/18\n",
      "        MAE        MSE        R2  Residual Mean test_date data_tested  \\\n",
      "0  2.115453   7.786222  0.892574        -0.0004  12/22/18       train   \n",
      "0  4.620923  32.809627  0.402148         0.6716  12/22/18        test   \n",
      "\n",
      "                                         train_dates  number_sample  \n",
      "0  1/7/17 3/14/17 10/12/18 9/4/18 7/17/18 3/7/18 ...             20  \n",
      "0  1/7/17 3/14/17 10/12/18 9/4/18 7/17/18 3/7/18 ...             20  \n",
      "--------------------------------------------------------------------------------\n",
      "31 /32\n",
      "20\n"
     ]
    },
    {
     "name": "stderr",
     "output_type": "stream",
     "text": [
      "/anaconda3/envs/coding/lib/python3.6/site-packages/xgboost/core.py:587: FutureWarning: Series.base is deprecated and will be removed in a future version\n",
      "  if getattr(data, 'base', None) is not None and \\\n",
      "/anaconda3/envs/coding/lib/python3.6/site-packages/xgboost/core.py:588: FutureWarning: Series.base is deprecated and will be removed in a future version\n",
      "  data.base is not None and isinstance(data, np.ndarray) \\\n"
     ]
    },
    {
     "name": "stdout",
     "output_type": "stream",
     "text": [
      "2/24/19\n",
      "        MAE        MSE        R2  Residual Mean test_date data_tested  \\\n",
      "0  2.158136   7.969725  0.895840        -0.0009   2/24/19       train   \n",
      "0  5.954072  56.316296  0.432598        -2.2944   2/24/19        test   \n",
      "\n",
      "                                         train_dates  number_sample  \n",
      "0  2/13/17 3/2/17 6/19/17 3/2/18 9/4/18 3/14/17 6...             20  \n",
      "0  2/13/17 3/2/17 6/19/17 3/2/18 9/4/18 3/14/17 6...             20  \n",
      "--------------------------------------------------------------------------------\n",
      "32 /32\n"
     ]
    }
   ],
   "source": [
    "table = pd.DataFrame()\n",
    "data = pd.DataFrame()\n",
    "count = 0\n",
    "for i in df['EXP'].unique():\n",
    "    t,d = rf_model2(i,20)\n",
    "    table = table.append(t)\n",
    "    data = data.append(d)\n",
    "    count += 1\n",
    "    print(count,'/32')"
   ]
  },
  {
   "cell_type": "code",
   "execution_count": 18,
   "metadata": {},
   "outputs": [],
   "source": [
    "#table.to_csv('20_sample_XGB_stats.csv')\n",
    "#data.to_csv('20_sample_XGB_data.csv')"
   ]
  },
  {
   "cell_type": "code",
   "execution_count": 19,
   "metadata": {},
   "outputs": [
    {
     "data": {
      "text/html": [
       "<div>\n",
       "<style scoped>\n",
       "    .dataframe tbody tr th:only-of-type {\n",
       "        vertical-align: middle;\n",
       "    }\n",
       "\n",
       "    .dataframe tbody tr th {\n",
       "        vertical-align: top;\n",
       "    }\n",
       "\n",
       "    .dataframe thead th {\n",
       "        text-align: right;\n",
       "    }\n",
       "</style>\n",
       "<table border=\"1\" class=\"dataframe\">\n",
       "  <thead>\n",
       "    <tr style=\"text-align: right;\">\n",
       "      <th></th>\n",
       "      <th>MAE</th>\n",
       "      <th>R2</th>\n",
       "      <th>Residual Mean</th>\n",
       "    </tr>\n",
       "    <tr>\n",
       "      <th>data_tested</th>\n",
       "      <th></th>\n",
       "      <th></th>\n",
       "      <th></th>\n",
       "    </tr>\n",
       "  </thead>\n",
       "  <tbody>\n",
       "    <tr>\n",
       "      <th>test</th>\n",
       "      <td>4.206500</td>\n",
       "      <td>0.264383</td>\n",
       "      <td>0.110794</td>\n",
       "    </tr>\n",
       "    <tr>\n",
       "      <th>train</th>\n",
       "      <td>2.205694</td>\n",
       "      <td>0.885252</td>\n",
       "      <td>0.000041</td>\n",
       "    </tr>\n",
       "  </tbody>\n",
       "</table>\n",
       "</div>"
      ],
      "text/plain": [
       "                  MAE        R2  Residual Mean\n",
       "data_tested                                   \n",
       "test         4.206500  0.264383       0.110794\n",
       "train        2.205694  0.885252       0.000041"
      ]
     },
     "execution_count": 19,
     "metadata": {},
     "output_type": "execute_result"
    }
   ],
   "source": [
    "table.groupby('data_tested').agg({'MAE':'mean', 'R2':'mean', 'Residual Mean':'mean'})"
   ]
  },
  {
   "cell_type": "code",
   "execution_count": 20,
   "metadata": {},
   "outputs": [
    {
     "data": {
      "text/plain": [
       "0.041527097089895174"
      ]
     },
     "execution_count": 20,
     "metadata": {},
     "output_type": "execute_result"
    }
   ],
   "source": [
    "res = data['actual'] - data['pred']\n",
    "res.mean()"
   ]
  },
  {
   "cell_type": "markdown",
   "metadata": {},
   "source": [
    "### Samples 25"
   ]
  },
  {
   "cell_type": "code",
   "execution_count": 21,
   "metadata": {},
   "outputs": [
    {
     "name": "stdout",
     "output_type": "stream",
     "text": [
      "25\n"
     ]
    },
    {
     "name": "stderr",
     "output_type": "stream",
     "text": [
      "/anaconda3/envs/coding/lib/python3.6/site-packages/xgboost/core.py:587: FutureWarning: Series.base is deprecated and will be removed in a future version\n",
      "  if getattr(data, 'base', None) is not None and \\\n",
      "/anaconda3/envs/coding/lib/python3.6/site-packages/xgboost/core.py:588: FutureWarning: Series.base is deprecated and will be removed in a future version\n",
      "  data.base is not None and isinstance(data, np.ndarray) \\\n"
     ]
    },
    {
     "name": "stdout",
     "output_type": "stream",
     "text": [
      "1/7/17\n",
      "        MAE        MSE        R2  Residual Mean test_date data_tested  \\\n",
      "0  2.320189   9.363363  0.882486         0.0062    1/7/17       train   \n",
      "0  2.818212  12.478459  0.577322         1.1294    1/7/17        test   \n",
      "\n",
      "                                         train_dates  number_sample  \n",
      "0  3/22/17 9/4/18 6/19/17 5/26/18 5/15/18 7/13/17...             25  \n",
      "0  3/22/17 9/4/18 6/19/17 5/26/18 5/15/18 7/13/17...             25  \n",
      "--------------------------------------------------------------------------------\n",
      "1 /32\n",
      "25\n"
     ]
    },
    {
     "name": "stderr",
     "output_type": "stream",
     "text": [
      "/anaconda3/envs/coding/lib/python3.6/site-packages/xgboost/core.py:587: FutureWarning: Series.base is deprecated and will be removed in a future version\n",
      "  if getattr(data, 'base', None) is not None and \\\n",
      "/anaconda3/envs/coding/lib/python3.6/site-packages/xgboost/core.py:588: FutureWarning: Series.base is deprecated and will be removed in a future version\n",
      "  data.base is not None and isinstance(data, np.ndarray) \\\n"
     ]
    },
    {
     "name": "stdout",
     "output_type": "stream",
     "text": [
      "2/9/17\n",
      "        MAE        MSE        R2  Residual Mean test_date data_tested  \\\n",
      "0  2.196972   8.295900  0.882447         0.0009    2/9/17       train   \n",
      "0  3.599829  20.434654  0.566830        -1.0828    2/9/17        test   \n",
      "\n",
      "                                         train_dates  number_sample  \n",
      "0  10/2/18 9/6/18 3/21/18 3/22/17 9/10/18 9/26/18...             25  \n",
      "0  10/2/18 9/6/18 3/21/18 3/22/17 9/10/18 9/26/18...             25  \n",
      "--------------------------------------------------------------------------------\n",
      "2 /32\n",
      "25\n"
     ]
    },
    {
     "name": "stderr",
     "output_type": "stream",
     "text": [
      "/anaconda3/envs/coding/lib/python3.6/site-packages/xgboost/core.py:587: FutureWarning: Series.base is deprecated and will be removed in a future version\n",
      "  if getattr(data, 'base', None) is not None and \\\n",
      "/anaconda3/envs/coding/lib/python3.6/site-packages/xgboost/core.py:588: FutureWarning: Series.base is deprecated and will be removed in a future version\n",
      "  data.base is not None and isinstance(data, np.ndarray) \\\n"
     ]
    },
    {
     "name": "stdout",
     "output_type": "stream",
     "text": [
      "2/13/17\n",
      "        MAE        MSE        R2  Residual Mean test_date data_tested  \\\n",
      "0  2.335664   9.484839  0.868156         0.0002   2/13/17       train   \n",
      "0  6.605805  72.224162  0.105830         4.5476   2/13/17        test   \n",
      "\n",
      "                                         train_dates  number_sample  \n",
      "0  10/2/18 7/21/18 3/22/17 6/19/17 12/22/18 2/9/1...             25  \n",
      "0  10/2/18 7/21/18 3/22/17 6/19/17 12/22/18 2/9/1...             25  \n",
      "--------------------------------------------------------------------------------\n",
      "3 /32\n",
      "25\n"
     ]
    },
    {
     "name": "stderr",
     "output_type": "stream",
     "text": [
      "/anaconda3/envs/coding/lib/python3.6/site-packages/xgboost/core.py:587: FutureWarning: Series.base is deprecated and will be removed in a future version\n",
      "  if getattr(data, 'base', None) is not None and \\\n",
      "/anaconda3/envs/coding/lib/python3.6/site-packages/xgboost/core.py:588: FutureWarning: Series.base is deprecated and will be removed in a future version\n",
      "  data.base is not None and isinstance(data, np.ndarray) \\\n"
     ]
    },
    {
     "name": "stdout",
     "output_type": "stream",
     "text": [
      "2/25/17\n",
      "        MAE        MSE        R2  Residual Mean test_date data_tested  \\\n",
      "0  2.368040   9.711512  0.879858         0.0060   2/25/17       train   \n",
      "0  4.227856  29.177349  0.227863         0.5872   2/25/17        test   \n",
      "\n",
      "                                         train_dates  number_sample  \n",
      "0  7/21/18 8/17/18 2/9/17 7/13/17 6/13/18 9/6/18 ...             25  \n",
      "0  7/21/18 8/17/18 2/9/17 7/13/17 6/13/18 9/6/18 ...             25  \n",
      "--------------------------------------------------------------------------------\n",
      "4 /32\n",
      "25\n"
     ]
    },
    {
     "name": "stderr",
     "output_type": "stream",
     "text": [
      "/anaconda3/envs/coding/lib/python3.6/site-packages/xgboost/core.py:587: FutureWarning: Series.base is deprecated and will be removed in a future version\n",
      "  if getattr(data, 'base', None) is not None and \\\n",
      "/anaconda3/envs/coding/lib/python3.6/site-packages/xgboost/core.py:588: FutureWarning: Series.base is deprecated and will be removed in a future version\n",
      "  data.base is not None and isinstance(data, np.ndarray) \\\n"
     ]
    },
    {
     "name": "stdout",
     "output_type": "stream",
     "text": [
      "3/2/17\n",
      "        MAE        MSE        R2  Residual Mean test_date data_tested  \\\n",
      "0  2.274163   8.977970  0.860638        -0.0052    3/2/17       train   \n",
      "0  6.171192  58.918652 -0.093451         4.7289    3/2/17        test   \n",
      "\n",
      "                                         train_dates  number_sample  \n",
      "0  9/26/18 7/13/17 6/19/17 6/13/18 3/2/18 8/17/18...             25  \n",
      "0  9/26/18 7/13/17 6/19/17 6/13/18 3/2/18 8/17/18...             25  \n",
      "--------------------------------------------------------------------------------\n",
      "5 /32\n",
      "25\n"
     ]
    },
    {
     "name": "stderr",
     "output_type": "stream",
     "text": [
      "/anaconda3/envs/coding/lib/python3.6/site-packages/xgboost/core.py:587: FutureWarning: Series.base is deprecated and will be removed in a future version\n",
      "  if getattr(data, 'base', None) is not None and \\\n",
      "/anaconda3/envs/coding/lib/python3.6/site-packages/xgboost/core.py:588: FutureWarning: Series.base is deprecated and will be removed in a future version\n",
      "  data.base is not None and isinstance(data, np.ndarray) \\\n"
     ]
    },
    {
     "name": "stdout",
     "output_type": "stream",
     "text": [
      "3/14/17\n",
      "        MAE        MSE        R2  Residual Mean test_date data_tested  \\\n",
      "0  2.444635  10.295303  0.857246         0.0007   3/14/17       train   \n",
      "0  3.767657  26.206206  0.713201        -0.7411   3/14/17        test   \n",
      "\n",
      "                                         train_dates  number_sample  \n",
      "0  1/4/18 10/2/18 12/22/18 2/25/17 9/6/18 11/19/1...             25  \n",
      "0  1/4/18 10/2/18 12/22/18 2/25/17 9/6/18 11/19/1...             25  \n",
      "--------------------------------------------------------------------------------\n",
      "6 /32\n",
      "25\n"
     ]
    },
    {
     "name": "stderr",
     "output_type": "stream",
     "text": [
      "/anaconda3/envs/coding/lib/python3.6/site-packages/xgboost/core.py:587: FutureWarning: Series.base is deprecated and will be removed in a future version\n",
      "  if getattr(data, 'base', None) is not None and \\\n",
      "/anaconda3/envs/coding/lib/python3.6/site-packages/xgboost/core.py:588: FutureWarning: Series.base is deprecated and will be removed in a future version\n",
      "  data.base is not None and isinstance(data, np.ndarray) \\\n"
     ]
    },
    {
     "name": "stdout",
     "output_type": "stream",
     "text": [
      "3/22/17\n",
      "        MAE        MSE        R2  Residual Mean test_date data_tested  \\\n",
      "0  2.306536   9.203578  0.877581        -0.0014   3/22/17       train   \n",
      "0  5.009395  39.532892  0.313967        -1.1476   3/22/17        test   \n",
      "\n",
      "                                         train_dates  number_sample  \n",
      "0  12/9/17 11/19/17 5/15/18 9/6/18 12/17/18 2/24/...             25  \n",
      "0  12/9/17 11/19/17 5/15/18 9/6/18 12/17/18 2/24/...             25  \n",
      "--------------------------------------------------------------------------------\n",
      "7 /32\n",
      "25\n"
     ]
    },
    {
     "name": "stderr",
     "output_type": "stream",
     "text": [
      "/anaconda3/envs/coding/lib/python3.6/site-packages/xgboost/core.py:587: FutureWarning: Series.base is deprecated and will be removed in a future version\n",
      "  if getattr(data, 'base', None) is not None and \\\n",
      "/anaconda3/envs/coding/lib/python3.6/site-packages/xgboost/core.py:588: FutureWarning: Series.base is deprecated and will be removed in a future version\n",
      "  data.base is not None and isinstance(data, np.ndarray) \\\n"
     ]
    },
    {
     "name": "stdout",
     "output_type": "stream",
     "text": [
      "6/19/17\n",
      "        MAE        MSE        R2  Residual Mean test_date data_tested  \\\n",
      "0  2.342120   9.596661  0.882371        -0.0007   6/19/17       train   \n",
      "0  3.675268  25.680888  0.493382         0.6921   6/19/17        test   \n",
      "\n",
      "                                         train_dates  number_sample  \n",
      "0  7/13/17 1/4/18 3/2/17 2/25/17 12/9/17 1/7/17 3...             25  \n",
      "0  7/13/17 1/4/18 3/2/17 2/25/17 12/9/17 1/7/17 3...             25  \n",
      "--------------------------------------------------------------------------------\n",
      "8 /32\n",
      "25\n"
     ]
    },
    {
     "name": "stderr",
     "output_type": "stream",
     "text": [
      "/anaconda3/envs/coding/lib/python3.6/site-packages/xgboost/core.py:587: FutureWarning: Series.base is deprecated and will be removed in a future version\n",
      "  if getattr(data, 'base', None) is not None and \\\n",
      "/anaconda3/envs/coding/lib/python3.6/site-packages/xgboost/core.py:588: FutureWarning: Series.base is deprecated and will be removed in a future version\n",
      "  data.base is not None and isinstance(data, np.ndarray) \\\n"
     ]
    },
    {
     "name": "stdout",
     "output_type": "stream",
     "text": [
      "7/13/17\n",
      "        MAE        MSE        R2  Residual Mean test_date data_tested  \\\n",
      "0  2.351563   9.539167  0.863291         0.0013   7/13/17       train   \n",
      "0  3.209036  16.194878  0.375049        -0.7517   7/13/17        test   \n",
      "\n",
      "                                         train_dates  number_sample  \n",
      "0  3/21/18 12/17/18 5/26/18 3/22/17 10/12/18 9/6/...             25  \n",
      "0  3/21/18 12/17/18 5/26/18 3/22/17 10/12/18 9/6/...             25  \n",
      "--------------------------------------------------------------------------------\n",
      "9 /32\n",
      "25\n"
     ]
    },
    {
     "name": "stderr",
     "output_type": "stream",
     "text": [
      "/anaconda3/envs/coding/lib/python3.6/site-packages/xgboost/core.py:587: FutureWarning: Series.base is deprecated and will be removed in a future version\n",
      "  if getattr(data, 'base', None) is not None and \\\n",
      "/anaconda3/envs/coding/lib/python3.6/site-packages/xgboost/core.py:588: FutureWarning: Series.base is deprecated and will be removed in a future version\n",
      "  data.base is not None and isinstance(data, np.ndarray) \\\n"
     ]
    },
    {
     "name": "stdout",
     "output_type": "stream",
     "text": [
      "10/29/17\n",
      "        MAE        MSE        R2  Residual Mean test_date data_tested  \\\n",
      "0  2.299566   9.169092  0.881745         0.0002  10/29/17       train   \n",
      "0  7.108269  77.201199 -0.189031        -3.5403  10/29/17        test   \n",
      "\n",
      "                                         train_dates  number_sample  \n",
      "0  5/15/18 2/9/17 12/17/18 1/7/17 3/2/18 3/2/17 1...             25  \n",
      "0  5/15/18 2/9/17 12/17/18 1/7/17 3/2/18 3/2/17 1...             25  \n",
      "--------------------------------------------------------------------------------\n",
      "10 /32\n",
      "25\n"
     ]
    },
    {
     "name": "stderr",
     "output_type": "stream",
     "text": [
      "/anaconda3/envs/coding/lib/python3.6/site-packages/xgboost/core.py:587: FutureWarning: Series.base is deprecated and will be removed in a future version\n",
      "  if getattr(data, 'base', None) is not None and \\\n",
      "/anaconda3/envs/coding/lib/python3.6/site-packages/xgboost/core.py:588: FutureWarning: Series.base is deprecated and will be removed in a future version\n",
      "  data.base is not None and isinstance(data, np.ndarray) \\\n"
     ]
    },
    {
     "name": "stdout",
     "output_type": "stream",
     "text": [
      "11/19/17\n",
      "        MAE        MSE        R2  Residual Mean test_date data_tested  \\\n",
      "0  2.339334   9.409825  0.876067         0.0022  11/19/17       train   \n",
      "0  5.114302  40.663804  0.433753         0.4897  11/19/17        test   \n",
      "\n",
      "                                         train_dates  number_sample  \n",
      "0  2/25/17 10/27/18 1/7/17 10/29/17 12/17/18 3/14...             25  \n",
      "0  2/25/17 10/27/18 1/7/17 10/29/17 12/17/18 3/14...             25  \n",
      "--------------------------------------------------------------------------------\n",
      "11 /32\n",
      "25\n"
     ]
    },
    {
     "name": "stderr",
     "output_type": "stream",
     "text": [
      "/anaconda3/envs/coding/lib/python3.6/site-packages/xgboost/core.py:587: FutureWarning: Series.base is deprecated and will be removed in a future version\n",
      "  if getattr(data, 'base', None) is not None and \\\n",
      "/anaconda3/envs/coding/lib/python3.6/site-packages/xgboost/core.py:588: FutureWarning: Series.base is deprecated and will be removed in a future version\n",
      "  data.base is not None and isinstance(data, np.ndarray) \\\n"
     ]
    },
    {
     "name": "stdout",
     "output_type": "stream",
     "text": [
      "12/9/17\n",
      "        MAE        MSE        R2  Residual Mean test_date data_tested  \\\n",
      "0  2.348208   9.565874  0.874890        -0.0007   12/9/17       train   \n",
      "0  2.686949  10.578325  0.181419        -1.7788   12/9/17        test   \n",
      "\n",
      "                                         train_dates  number_sample  \n",
      "0  3/21/18 1/4/18 12/22/18 3/2/18 6/19/17 2/25/17...             25  \n",
      "0  3/21/18 1/4/18 12/22/18 3/2/18 6/19/17 2/25/17...             25  \n",
      "--------------------------------------------------------------------------------\n",
      "12 /32\n",
      "25\n"
     ]
    },
    {
     "name": "stderr",
     "output_type": "stream",
     "text": [
      "/anaconda3/envs/coding/lib/python3.6/site-packages/xgboost/core.py:587: FutureWarning: Series.base is deprecated and will be removed in a future version\n",
      "  if getattr(data, 'base', None) is not None and \\\n",
      "/anaconda3/envs/coding/lib/python3.6/site-packages/xgboost/core.py:588: FutureWarning: Series.base is deprecated and will be removed in a future version\n",
      "  data.base is not None and isinstance(data, np.ndarray) \\\n"
     ]
    },
    {
     "name": "stdout",
     "output_type": "stream",
     "text": [
      "1/4/18\n",
      "        MAE        MSE        R2  Residual Mean test_date data_tested  \\\n",
      "0  2.322900   9.362131  0.856998         0.0017    1/4/18       train   \n",
      "0  4.113994  31.793058  0.728106         2.1024    1/4/18        test   \n",
      "\n",
      "                                         train_dates  number_sample  \n",
      "0  6/13/18 7/13/17 2/24/19 8/17/18 9/10/18 9/26/1...             25  \n",
      "0  6/13/18 7/13/17 2/24/19 8/17/18 9/10/18 9/26/1...             25  \n",
      "--------------------------------------------------------------------------------\n",
      "13 /32\n",
      "25\n"
     ]
    },
    {
     "name": "stderr",
     "output_type": "stream",
     "text": [
      "/anaconda3/envs/coding/lib/python3.6/site-packages/xgboost/core.py:587: FutureWarning: Series.base is deprecated and will be removed in a future version\n",
      "  if getattr(data, 'base', None) is not None and \\\n",
      "/anaconda3/envs/coding/lib/python3.6/site-packages/xgboost/core.py:588: FutureWarning: Series.base is deprecated and will be removed in a future version\n",
      "  data.base is not None and isinstance(data, np.ndarray) \\\n"
     ]
    },
    {
     "name": "stdout",
     "output_type": "stream",
     "text": [
      "3/2/18\n",
      "        MAE        MSE        R2  Residual Mean test_date data_tested  \\\n",
      "0  2.362946   9.621062  0.876224         0.0018    3/2/18       train   \n",
      "0  4.929176  39.306255  0.431839        -2.1042    3/2/18        test   \n",
      "\n",
      "                                         train_dates  number_sample  \n",
      "0  1/4/18 6/13/18 11/19/17 9/6/18 2/25/17 5/15/18...             25  \n",
      "0  1/4/18 6/13/18 11/19/17 9/6/18 2/25/17 5/15/18...             25  \n",
      "--------------------------------------------------------------------------------\n",
      "14 /32\n",
      "25\n"
     ]
    },
    {
     "name": "stderr",
     "output_type": "stream",
     "text": [
      "/anaconda3/envs/coding/lib/python3.6/site-packages/xgboost/core.py:587: FutureWarning: Series.base is deprecated and will be removed in a future version\n",
      "  if getattr(data, 'base', None) is not None and \\\n",
      "/anaconda3/envs/coding/lib/python3.6/site-packages/xgboost/core.py:588: FutureWarning: Series.base is deprecated and will be removed in a future version\n",
      "  data.base is not None and isinstance(data, np.ndarray) \\\n"
     ]
    },
    {
     "name": "stdout",
     "output_type": "stream",
     "text": [
      "3/7/18\n",
      "        MAE        MSE        R2  Residual Mean test_date data_tested  \\\n",
      "0  2.361424   9.688202  0.876613         0.0023    3/7/18       train   \n",
      "0  3.138628  15.046852  0.406912        -0.6416    3/7/18        test   \n",
      "\n",
      "                                         train_dates  number_sample  \n",
      "0  3/2/18 11/19/17 8/17/18 12/17/18 3/14/17 10/2/...             25  \n",
      "0  3/2/18 11/19/17 8/17/18 12/17/18 3/14/17 10/2/...             25  \n",
      "--------------------------------------------------------------------------------\n",
      "15 /32\n",
      "25\n"
     ]
    },
    {
     "name": "stderr",
     "output_type": "stream",
     "text": [
      "/anaconda3/envs/coding/lib/python3.6/site-packages/xgboost/core.py:587: FutureWarning: Series.base is deprecated and will be removed in a future version\n",
      "  if getattr(data, 'base', None) is not None and \\\n",
      "/anaconda3/envs/coding/lib/python3.6/site-packages/xgboost/core.py:588: FutureWarning: Series.base is deprecated and will be removed in a future version\n",
      "  data.base is not None and isinstance(data, np.ndarray) \\\n"
     ]
    },
    {
     "name": "stdout",
     "output_type": "stream",
     "text": [
      "3/21/18\n",
      "        MAE        MSE        R2  Residual Mean test_date data_tested  \\\n",
      "0  2.325954   9.381444  0.878580         0.0015   3/21/18       train   \n",
      "0  4.721490  34.786591 -0.155305        -3.3110   3/21/18        test   \n",
      "\n",
      "                                         train_dates  number_sample  \n",
      "0  3/7/18 7/21/18 6/13/18 6/19/17 12/17/18 3/14/1...             25  \n",
      "0  3/7/18 7/21/18 6/13/18 6/19/17 12/17/18 3/14/1...             25  \n",
      "--------------------------------------------------------------------------------\n",
      "16 /32\n",
      "25\n"
     ]
    },
    {
     "name": "stderr",
     "output_type": "stream",
     "text": [
      "/anaconda3/envs/coding/lib/python3.6/site-packages/xgboost/core.py:587: FutureWarning: Series.base is deprecated and will be removed in a future version\n",
      "  if getattr(data, 'base', None) is not None and \\\n",
      "/anaconda3/envs/coding/lib/python3.6/site-packages/xgboost/core.py:588: FutureWarning: Series.base is deprecated and will be removed in a future version\n",
      "  data.base is not None and isinstance(data, np.ndarray) \\\n"
     ]
    },
    {
     "name": "stdout",
     "output_type": "stream",
     "text": [
      "5/15/18\n",
      "        MAE        MSE        R2  Residual Mean test_date data_tested  \\\n",
      "0  2.320837   9.256482  0.873872        -0.0002   5/15/18       train   \n",
      "0  4.315804  36.541904  0.338069        -0.5812   5/15/18        test   \n",
      "\n",
      "                                         train_dates  number_sample  \n",
      "0  9/10/18 3/21/18 9/4/18 2/9/17 12/22/18 5/26/18...             25  \n",
      "0  9/10/18 3/21/18 9/4/18 2/9/17 12/22/18 5/26/18...             25  \n",
      "--------------------------------------------------------------------------------\n",
      "17 /32\n",
      "25\n"
     ]
    },
    {
     "name": "stderr",
     "output_type": "stream",
     "text": [
      "/anaconda3/envs/coding/lib/python3.6/site-packages/xgboost/core.py:587: FutureWarning: Series.base is deprecated and will be removed in a future version\n",
      "  if getattr(data, 'base', None) is not None and \\\n",
      "/anaconda3/envs/coding/lib/python3.6/site-packages/xgboost/core.py:588: FutureWarning: Series.base is deprecated and will be removed in a future version\n",
      "  data.base is not None and isinstance(data, np.ndarray) \\\n"
     ]
    },
    {
     "name": "stdout",
     "output_type": "stream",
     "text": [
      "5/26/18\n",
      "        MAE        MSE        R2  Residual Mean test_date data_tested  \\\n",
      "0  2.393971   9.962459  0.876091         0.0039   5/26/18       train   \n",
      "0  3.334593  17.610959  0.085710        -1.8188   5/26/18        test   \n",
      "\n",
      "                                         train_dates  number_sample  \n",
      "0  1/4/18 3/14/17 10/29/17 2/25/17 6/13/18 2/24/1...             25  \n",
      "0  1/4/18 3/14/17 10/29/17 2/25/17 6/13/18 2/24/1...             25  \n",
      "--------------------------------------------------------------------------------\n",
      "18 /32\n",
      "25\n"
     ]
    },
    {
     "name": "stderr",
     "output_type": "stream",
     "text": [
      "/anaconda3/envs/coding/lib/python3.6/site-packages/xgboost/core.py:587: FutureWarning: Series.base is deprecated and will be removed in a future version\n",
      "  if getattr(data, 'base', None) is not None and \\\n",
      "/anaconda3/envs/coding/lib/python3.6/site-packages/xgboost/core.py:588: FutureWarning: Series.base is deprecated and will be removed in a future version\n",
      "  data.base is not None and isinstance(data, np.ndarray) \\\n"
     ]
    },
    {
     "name": "stdout",
     "output_type": "stream",
     "text": [
      "6/13/18\n",
      "        MAE        MSE        R2  Residual Mean test_date data_tested  \\\n",
      "0  2.208591   8.449134  0.878951         0.0024   6/13/18       train   \n",
      "0  3.256008  17.557686 -0.172631        -0.8043   6/13/18        test   \n",
      "\n",
      "                                         train_dates  number_sample  \n",
      "0  3/14/17 12/9/17 2/25/17 7/17/18 9/26/18 7/21/1...             25  \n",
      "0  3/14/17 12/9/17 2/25/17 7/17/18 9/26/18 7/21/1...             25  \n",
      "--------------------------------------------------------------------------------\n",
      "19 /32\n",
      "25\n"
     ]
    },
    {
     "name": "stderr",
     "output_type": "stream",
     "text": [
      "/anaconda3/envs/coding/lib/python3.6/site-packages/xgboost/core.py:587: FutureWarning: Series.base is deprecated and will be removed in a future version\n",
      "  if getattr(data, 'base', None) is not None and \\\n",
      "/anaconda3/envs/coding/lib/python3.6/site-packages/xgboost/core.py:588: FutureWarning: Series.base is deprecated and will be removed in a future version\n",
      "  data.base is not None and isinstance(data, np.ndarray) \\\n"
     ]
    },
    {
     "name": "stdout",
     "output_type": "stream",
     "text": [
      "7/17/18\n",
      "        MAE        MSE        R2  Residual Mean test_date data_tested  \\\n",
      "0  2.305516   9.217079  0.883097         0.0051   7/17/18       train   \n",
      "0  2.906577  18.180916  0.403038         1.0322   7/17/18        test   \n",
      "\n",
      "                                         train_dates  number_sample  \n",
      "0  2/24/19 5/15/18 9/4/18 1/4/18 3/21/18 7/21/18 ...             25  \n",
      "0  2/24/19 5/15/18 9/4/18 1/4/18 3/21/18 7/21/18 ...             25  \n",
      "--------------------------------------------------------------------------------\n",
      "20 /32\n",
      "25\n"
     ]
    },
    {
     "name": "stderr",
     "output_type": "stream",
     "text": [
      "/anaconda3/envs/coding/lib/python3.6/site-packages/xgboost/core.py:587: FutureWarning: Series.base is deprecated and will be removed in a future version\n",
      "  if getattr(data, 'base', None) is not None and \\\n",
      "/anaconda3/envs/coding/lib/python3.6/site-packages/xgboost/core.py:588: FutureWarning: Series.base is deprecated and will be removed in a future version\n",
      "  data.base is not None and isinstance(data, np.ndarray) \\\n"
     ]
    },
    {
     "name": "stdout",
     "output_type": "stream",
     "text": [
      "7/21/18\n",
      "        MAE        MSE        R2  Residual Mean test_date data_tested  \\\n",
      "0  2.319495   9.225419  0.874392         0.0013   7/21/18       train   \n",
      "0  4.274660  29.017269  0.073413         1.8081   7/21/18        test   \n",
      "\n",
      "                                         train_dates  number_sample  \n",
      "0  3/22/17 3/14/17 9/6/18 10/29/17 10/12/18 2/9/1...             25  \n",
      "0  3/22/17 3/14/17 9/6/18 10/29/17 10/12/18 2/9/1...             25  \n",
      "--------------------------------------------------------------------------------\n",
      "21 /32\n",
      "25\n"
     ]
    },
    {
     "name": "stderr",
     "output_type": "stream",
     "text": [
      "/anaconda3/envs/coding/lib/python3.6/site-packages/xgboost/core.py:587: FutureWarning: Series.base is deprecated and will be removed in a future version\n",
      "  if getattr(data, 'base', None) is not None and \\\n",
      "/anaconda3/envs/coding/lib/python3.6/site-packages/xgboost/core.py:588: FutureWarning: Series.base is deprecated and will be removed in a future version\n",
      "  data.base is not None and isinstance(data, np.ndarray) \\\n"
     ]
    },
    {
     "name": "stdout",
     "output_type": "stream",
     "text": [
      "8/17/18\n",
      "        MAE        MSE        R2  Residual Mean test_date data_tested  \\\n",
      "0  2.273518   8.907006  0.872497         0.0002   8/17/18       train   \n",
      "0  3.818466  25.291766  0.275242        -0.0520   8/17/18        test   \n",
      "\n",
      "                                         train_dates  number_sample  \n",
      "0  10/29/17 3/22/17 3/7/18 10/12/18 1/4/18 9/6/18...             25  \n",
      "0  10/29/17 3/22/17 3/7/18 10/12/18 1/4/18 9/6/18...             25  \n",
      "--------------------------------------------------------------------------------\n",
      "22 /32\n",
      "25\n"
     ]
    },
    {
     "name": "stderr",
     "output_type": "stream",
     "text": [
      "/anaconda3/envs/coding/lib/python3.6/site-packages/xgboost/core.py:587: FutureWarning: Series.base is deprecated and will be removed in a future version\n",
      "  if getattr(data, 'base', None) is not None and \\\n",
      "/anaconda3/envs/coding/lib/python3.6/site-packages/xgboost/core.py:588: FutureWarning: Series.base is deprecated and will be removed in a future version\n",
      "  data.base is not None and isinstance(data, np.ndarray) \\\n"
     ]
    },
    {
     "name": "stdout",
     "output_type": "stream",
     "text": [
      "9/4/18\n",
      "        MAE        MSE        R2  Residual Mean test_date data_tested  \\\n",
      "0  2.420736  10.153275  0.870605         0.0005    9/4/18       train   \n",
      "0  2.437704   9.288638  0.157168         1.2057    9/4/18        test   \n",
      "\n",
      "                                         train_dates  number_sample  \n",
      "0  3/2/17 3/14/17 2/25/17 10/27/18 3/2/18 5/26/18...             25  \n",
      "0  3/2/17 3/14/17 2/25/17 10/27/18 3/2/18 5/26/18...             25  \n",
      "--------------------------------------------------------------------------------\n",
      "23 /32\n",
      "25\n"
     ]
    },
    {
     "name": "stderr",
     "output_type": "stream",
     "text": [
      "/anaconda3/envs/coding/lib/python3.6/site-packages/xgboost/core.py:587: FutureWarning: Series.base is deprecated and will be removed in a future version\n",
      "  if getattr(data, 'base', None) is not None and \\\n",
      "/anaconda3/envs/coding/lib/python3.6/site-packages/xgboost/core.py:588: FutureWarning: Series.base is deprecated and will be removed in a future version\n",
      "  data.base is not None and isinstance(data, np.ndarray) \\\n"
     ]
    },
    {
     "name": "stdout",
     "output_type": "stream",
     "text": [
      "9/6/18\n",
      "        MAE        MSE        R2  Residual Mean test_date data_tested  \\\n",
      "0  2.325891   9.344825  0.866281        -0.0022    9/6/18       train   \n",
      "0  2.774667  15.367413  0.396340        -0.0623    9/6/18        test   \n",
      "\n",
      "                                         train_dates  number_sample  \n",
      "0  10/29/17 1/7/17 10/2/18 9/26/18 2/9/17 12/17/1...             25  \n",
      "0  10/29/17 1/7/17 10/2/18 9/26/18 2/9/17 12/17/1...             25  \n",
      "--------------------------------------------------------------------------------\n",
      "24 /32\n",
      "25\n"
     ]
    },
    {
     "name": "stderr",
     "output_type": "stream",
     "text": [
      "/anaconda3/envs/coding/lib/python3.6/site-packages/xgboost/core.py:587: FutureWarning: Series.base is deprecated and will be removed in a future version\n",
      "  if getattr(data, 'base', None) is not None and \\\n",
      "/anaconda3/envs/coding/lib/python3.6/site-packages/xgboost/core.py:588: FutureWarning: Series.base is deprecated and will be removed in a future version\n",
      "  data.base is not None and isinstance(data, np.ndarray) \\\n"
     ]
    },
    {
     "name": "stdout",
     "output_type": "stream",
     "text": [
      "9/10/18\n",
      "        MAE        MSE        R2  Residual Mean test_date data_tested  \\\n",
      "0  2.320602   9.276785  0.874952         0.0027   9/10/18       train   \n",
      "0  3.590766  21.430253  0.191333         1.4886   9/10/18        test   \n",
      "\n",
      "                                         train_dates  number_sample  \n",
      "0  1/4/18 2/24/19 6/13/18 3/22/17 9/26/18 3/14/17...             25  \n",
      "0  1/4/18 2/24/19 6/13/18 3/22/17 9/26/18 3/14/17...             25  \n",
      "--------------------------------------------------------------------------------\n",
      "25 /32\n",
      "25\n"
     ]
    },
    {
     "name": "stderr",
     "output_type": "stream",
     "text": [
      "/anaconda3/envs/coding/lib/python3.6/site-packages/xgboost/core.py:587: FutureWarning: Series.base is deprecated and will be removed in a future version\n",
      "  if getattr(data, 'base', None) is not None and \\\n",
      "/anaconda3/envs/coding/lib/python3.6/site-packages/xgboost/core.py:588: FutureWarning: Series.base is deprecated and will be removed in a future version\n",
      "  data.base is not None and isinstance(data, np.ndarray) \\\n"
     ]
    },
    {
     "name": "stdout",
     "output_type": "stream",
     "text": [
      "9/26/18\n",
      "        MAE        MSE        R2  Residual Mean test_date data_tested  \\\n",
      "0  2.230055   8.623094  0.887535         0.0017   9/26/18       train   \n",
      "0  3.746348  22.500579  0.003978         1.5636   9/26/18        test   \n",
      "\n",
      "                                         train_dates  number_sample  \n",
      "0  11/19/17 9/10/18 12/9/17 1/7/17 6/13/18 7/13/1...             25  \n",
      "0  11/19/17 9/10/18 12/9/17 1/7/17 6/13/18 7/13/1...             25  \n",
      "--------------------------------------------------------------------------------\n",
      "26 /32\n",
      "25\n"
     ]
    },
    {
     "name": "stderr",
     "output_type": "stream",
     "text": [
      "/anaconda3/envs/coding/lib/python3.6/site-packages/xgboost/core.py:587: FutureWarning: Series.base is deprecated and will be removed in a future version\n",
      "  if getattr(data, 'base', None) is not None and \\\n",
      "/anaconda3/envs/coding/lib/python3.6/site-packages/xgboost/core.py:588: FutureWarning: Series.base is deprecated and will be removed in a future version\n",
      "  data.base is not None and isinstance(data, np.ndarray) \\\n"
     ]
    },
    {
     "name": "stdout",
     "output_type": "stream",
     "text": [
      "10/2/18\n",
      "        MAE        MSE        R2  Residual Mean test_date data_tested  \\\n",
      "0  2.274057   9.038704  0.881085         0.0012   10/2/18       train   \n",
      "0  4.165513  27.481585  0.035072        -1.6636   10/2/18        test   \n",
      "\n",
      "                                         train_dates  number_sample  \n",
      "0  12/9/17 6/19/17 6/13/18 9/4/18 10/27/18 3/2/18...             25  \n",
      "0  12/9/17 6/19/17 6/13/18 9/4/18 10/27/18 3/2/18...             25  \n",
      "--------------------------------------------------------------------------------\n",
      "27 /32\n",
      "25\n"
     ]
    },
    {
     "name": "stderr",
     "output_type": "stream",
     "text": [
      "/anaconda3/envs/coding/lib/python3.6/site-packages/xgboost/core.py:587: FutureWarning: Series.base is deprecated and will be removed in a future version\n",
      "  if getattr(data, 'base', None) is not None and \\\n",
      "/anaconda3/envs/coding/lib/python3.6/site-packages/xgboost/core.py:588: FutureWarning: Series.base is deprecated and will be removed in a future version\n",
      "  data.base is not None and isinstance(data, np.ndarray) \\\n"
     ]
    },
    {
     "name": "stdout",
     "output_type": "stream",
     "text": [
      "10/12/18\n",
      "        MAE        MSE        R2  Residual Mean test_date data_tested  \\\n",
      "0  2.314706   9.318622  0.880165         0.0038  10/12/18       train   \n",
      "0  4.262476  28.631362  0.564832         0.8303  10/12/18        test   \n",
      "\n",
      "                                         train_dates  number_sample  \n",
      "0  3/22/17 9/10/18 2/24/19 10/2/18 7/17/18 2/13/1...             25  \n",
      "0  3/22/17 9/10/18 2/24/19 10/2/18 7/17/18 2/13/1...             25  \n",
      "--------------------------------------------------------------------------------\n",
      "28 /32\n",
      "25\n"
     ]
    },
    {
     "name": "stderr",
     "output_type": "stream",
     "text": [
      "/anaconda3/envs/coding/lib/python3.6/site-packages/xgboost/core.py:587: FutureWarning: Series.base is deprecated and will be removed in a future version\n",
      "  if getattr(data, 'base', None) is not None and \\\n",
      "/anaconda3/envs/coding/lib/python3.6/site-packages/xgboost/core.py:588: FutureWarning: Series.base is deprecated and will be removed in a future version\n",
      "  data.base is not None and isinstance(data, np.ndarray) \\\n"
     ]
    },
    {
     "name": "stdout",
     "output_type": "stream",
     "text": [
      "10/27/18\n",
      "        MAE        MSE        R2  Residual Mean test_date data_tested  \\\n",
      "0  2.334180   9.458716  0.872547         0.0015  10/27/18       train   \n",
      "0  4.346842  30.882947  0.535567         0.9740  10/27/18        test   \n",
      "\n",
      "                                         train_dates  number_sample  \n",
      "0  9/6/18 5/15/18 3/2/17 9/10/18 2/9/17 7/13/17 3...             25  \n",
      "0  9/6/18 5/15/18 3/2/17 9/10/18 2/9/17 7/13/17 3...             25  \n",
      "--------------------------------------------------------------------------------\n",
      "29 /32\n",
      "25\n"
     ]
    },
    {
     "name": "stderr",
     "output_type": "stream",
     "text": [
      "/anaconda3/envs/coding/lib/python3.6/site-packages/xgboost/core.py:587: FutureWarning: Series.base is deprecated and will be removed in a future version\n",
      "  if getattr(data, 'base', None) is not None and \\\n",
      "/anaconda3/envs/coding/lib/python3.6/site-packages/xgboost/core.py:588: FutureWarning: Series.base is deprecated and will be removed in a future version\n",
      "  data.base is not None and isinstance(data, np.ndarray) \\\n"
     ]
    },
    {
     "name": "stdout",
     "output_type": "stream",
     "text": [
      "12/17/18\n",
      "        MAE        MSE        R2  Residual Mean test_date data_tested  \\\n",
      "0  2.357504   9.537863  0.856733         0.0001  12/17/18       train   \n",
      "0  4.570402  34.231102  0.449137         1.1634  12/17/18        test   \n",
      "\n",
      "                                         train_dates  number_sample  \n",
      "0  3/14/17 6/19/17 11/19/17 5/15/18 12/22/18 1/7/...             25  \n",
      "0  3/14/17 6/19/17 11/19/17 5/15/18 12/22/18 1/7/...             25  \n",
      "--------------------------------------------------------------------------------\n",
      "30 /32\n",
      "25\n"
     ]
    },
    {
     "name": "stderr",
     "output_type": "stream",
     "text": [
      "/anaconda3/envs/coding/lib/python3.6/site-packages/xgboost/core.py:587: FutureWarning: Series.base is deprecated and will be removed in a future version\n",
      "  if getattr(data, 'base', None) is not None and \\\n",
      "/anaconda3/envs/coding/lib/python3.6/site-packages/xgboost/core.py:588: FutureWarning: Series.base is deprecated and will be removed in a future version\n",
      "  data.base is not None and isinstance(data, np.ndarray) \\\n"
     ]
    },
    {
     "name": "stdout",
     "output_type": "stream",
     "text": [
      "12/22/18\n",
      "        MAE        MSE        R2  Residual Mean test_date data_tested  \\\n",
      "0  2.185330   8.279074  0.875905         0.0025  12/22/18       train   \n",
      "0  4.415142  30.178561  0.450091         0.5210  12/22/18        test   \n",
      "\n",
      "                                         train_dates  number_sample  \n",
      "0  10/27/18 1/4/18 9/10/18 3/7/18 12/9/17 9/4/18 ...             25  \n",
      "0  10/27/18 1/4/18 9/10/18 3/7/18 12/9/17 9/4/18 ...             25  \n",
      "--------------------------------------------------------------------------------\n",
      "31 /32\n",
      "25\n"
     ]
    },
    {
     "name": "stderr",
     "output_type": "stream",
     "text": [
      "/anaconda3/envs/coding/lib/python3.6/site-packages/xgboost/core.py:587: FutureWarning: Series.base is deprecated and will be removed in a future version\n",
      "  if getattr(data, 'base', None) is not None and \\\n",
      "/anaconda3/envs/coding/lib/python3.6/site-packages/xgboost/core.py:588: FutureWarning: Series.base is deprecated and will be removed in a future version\n",
      "  data.base is not None and isinstance(data, np.ndarray) \\\n"
     ]
    },
    {
     "name": "stdout",
     "output_type": "stream",
     "text": [
      "2/24/19\n",
      "        MAE        MSE        R2  Residual Mean test_date data_tested  \\\n",
      "0  2.364502   9.595022  0.867885        -0.0007   2/24/19       train   \n",
      "0  6.154267  60.792304  0.387501        -2.3719   2/24/19        test   \n",
      "\n",
      "                                         train_dates  number_sample  \n",
      "0  9/10/18 8/17/18 3/21/18 3/2/18 9/26/18 7/21/18...             25  \n",
      "0  9/10/18 8/17/18 3/21/18 3/2/18 9/26/18 7/21/18...             25  \n",
      "--------------------------------------------------------------------------------\n",
      "32 /32\n"
     ]
    }
   ],
   "source": [
    "table = pd.DataFrame()\n",
    "data = pd.DataFrame()\n",
    "count = 0\n",
    "for i in df['EXP'].unique():\n",
    "    t,d = rf_model2(i,25)\n",
    "    table = table.append(t)\n",
    "    data = data.append(d)\n",
    "    count += 1\n",
    "    print(count,'/32')"
   ]
  },
  {
   "cell_type": "code",
   "execution_count": 22,
   "metadata": {},
   "outputs": [],
   "source": [
    "#table.to_csv('25_sample_XGB_stats.csv')\n",
    "#data.to_csv('25_sample_XGB_data.csv')"
   ]
  },
  {
   "cell_type": "code",
   "execution_count": 23,
   "metadata": {},
   "outputs": [
    {
     "data": {
      "text/html": [
       "<div>\n",
       "<style scoped>\n",
       "    .dataframe tbody tr th:only-of-type {\n",
       "        vertical-align: middle;\n",
       "    }\n",
       "\n",
       "    .dataframe tbody tr th {\n",
       "        vertical-align: top;\n",
       "    }\n",
       "\n",
       "    .dataframe thead th {\n",
       "        text-align: right;\n",
       "    }\n",
       "</style>\n",
       "<table border=\"1\" class=\"dataframe\">\n",
       "  <thead>\n",
       "    <tr style=\"text-align: right;\">\n",
       "      <th></th>\n",
       "      <th>MAE</th>\n",
       "      <th>R2</th>\n",
       "      <th>Residual Mean</th>\n",
       "    </tr>\n",
       "    <tr>\n",
       "      <th>data_tested</th>\n",
       "      <th></th>\n",
       "      <th></th>\n",
       "      <th></th>\n",
       "    </tr>\n",
       "  </thead>\n",
       "  <tbody>\n",
       "    <tr>\n",
       "      <th>test</th>\n",
       "      <td>4.164603</td>\n",
       "      <td>0.290361</td>\n",
       "      <td>0.075344</td>\n",
       "    </tr>\n",
       "    <tr>\n",
       "      <th>train</th>\n",
       "      <td>2.320303</td>\n",
       "      <td>0.873993</td>\n",
       "      <td>0.001275</td>\n",
       "    </tr>\n",
       "  </tbody>\n",
       "</table>\n",
       "</div>"
      ],
      "text/plain": [
       "                  MAE        R2  Residual Mean\n",
       "data_tested                                   \n",
       "test         4.164603  0.290361       0.075344\n",
       "train        2.320303  0.873993       0.001275"
      ]
     },
     "execution_count": 23,
     "metadata": {},
     "output_type": "execute_result"
    }
   ],
   "source": [
    "table.groupby('data_tested').agg({'MAE':'mean', 'R2':'mean', 'Residual Mean':'mean'})"
   ]
  },
  {
   "cell_type": "code",
   "execution_count": 24,
   "metadata": {},
   "outputs": [
    {
     "data": {
      "text/plain": [
       "0.022984543286979436"
      ]
     },
     "execution_count": 24,
     "metadata": {},
     "output_type": "execute_result"
    }
   ],
   "source": [
    "res = data['actual'] - data['pred']\n",
    "res.mean()"
   ]
  },
  {
   "cell_type": "markdown",
   "metadata": {},
   "source": [
    "### 30 Samples "
   ]
  },
  {
   "cell_type": "code",
   "execution_count": 25,
   "metadata": {},
   "outputs": [
    {
     "name": "stdout",
     "output_type": "stream",
     "text": [
      "30\n"
     ]
    },
    {
     "name": "stderr",
     "output_type": "stream",
     "text": [
      "/anaconda3/envs/coding/lib/python3.6/site-packages/xgboost/core.py:587: FutureWarning: Series.base is deprecated and will be removed in a future version\n",
      "  if getattr(data, 'base', None) is not None and \\\n",
      "/anaconda3/envs/coding/lib/python3.6/site-packages/xgboost/core.py:588: FutureWarning: Series.base is deprecated and will be removed in a future version\n",
      "  data.base is not None and isinstance(data, np.ndarray) \\\n"
     ]
    },
    {
     "name": "stdout",
     "output_type": "stream",
     "text": [
      "1/7/17\n",
      "        MAE        MSE        R2  Residual Mean test_date data_tested  \\\n",
      "0  2.457562  10.469138  0.860387         0.0038    1/7/17       train   \n",
      "0  2.844239  12.728281  0.568860         1.1870    1/7/17        test   \n",
      "\n",
      "                                         train_dates  number_sample  \n",
      "0  10/2/18 12/22/18 6/13/18 5/15/18 1/4/18 2/9/17...             30  \n",
      "0  10/2/18 12/22/18 6/13/18 5/15/18 1/4/18 2/9/17...             30  \n",
      "--------------------------------------------------------------------------------\n",
      "1 /32\n",
      "30\n"
     ]
    },
    {
     "name": "stderr",
     "output_type": "stream",
     "text": [
      "/anaconda3/envs/coding/lib/python3.6/site-packages/xgboost/core.py:587: FutureWarning: Series.base is deprecated and will be removed in a future version\n",
      "  if getattr(data, 'base', None) is not None and \\\n",
      "/anaconda3/envs/coding/lib/python3.6/site-packages/xgboost/core.py:588: FutureWarning: Series.base is deprecated and will be removed in a future version\n",
      "  data.base is not None and isinstance(data, np.ndarray) \\\n"
     ]
    },
    {
     "name": "stdout",
     "output_type": "stream",
     "text": [
      "2/9/17\n",
      "        MAE        MSE        R2  Residual Mean test_date data_tested  \\\n",
      "0  2.442085  10.306441  0.863906         0.0059    2/9/17       train   \n",
      "0  3.637721  20.856422  0.557890        -1.1957    2/9/17        test   \n",
      "\n",
      "                                         train_dates  number_sample  \n",
      "0  2/13/17 9/10/18 12/17/18 10/2/18 2/25/17 5/26/...             30  \n",
      "0  2/13/17 9/10/18 12/17/18 10/2/18 2/25/17 5/26/...             30  \n",
      "--------------------------------------------------------------------------------\n",
      "2 /32\n",
      "30\n"
     ]
    },
    {
     "name": "stderr",
     "output_type": "stream",
     "text": [
      "/anaconda3/envs/coding/lib/python3.6/site-packages/xgboost/core.py:587: FutureWarning: Series.base is deprecated and will be removed in a future version\n",
      "  if getattr(data, 'base', None) is not None and \\\n",
      "/anaconda3/envs/coding/lib/python3.6/site-packages/xgboost/core.py:588: FutureWarning: Series.base is deprecated and will be removed in a future version\n",
      "  data.base is not None and isinstance(data, np.ndarray) \\\n"
     ]
    },
    {
     "name": "stdout",
     "output_type": "stream",
     "text": [
      "2/13/17\n",
      "        MAE        MSE        R2  Residual Mean test_date data_tested  \\\n",
      "0  2.398297   9.924875  0.860237        -0.0011   2/13/17       train   \n",
      "0  6.540937  69.481479  0.139786         4.5715   2/13/17        test   \n",
      "\n",
      "                                         train_dates  number_sample  \n",
      "0  3/22/17 7/13/17 3/2/18 1/4/18 10/12/18 3/21/18...             30  \n",
      "0  3/22/17 7/13/17 3/2/18 1/4/18 10/12/18 3/21/18...             30  \n",
      "--------------------------------------------------------------------------------\n",
      "3 /32\n",
      "30\n"
     ]
    },
    {
     "name": "stderr",
     "output_type": "stream",
     "text": [
      "/anaconda3/envs/coding/lib/python3.6/site-packages/xgboost/core.py:587: FutureWarning: Series.base is deprecated and will be removed in a future version\n",
      "  if getattr(data, 'base', None) is not None and \\\n",
      "/anaconda3/envs/coding/lib/python3.6/site-packages/xgboost/core.py:588: FutureWarning: Series.base is deprecated and will be removed in a future version\n",
      "  data.base is not None and isinstance(data, np.ndarray) \\\n"
     ]
    },
    {
     "name": "stdout",
     "output_type": "stream",
     "text": [
      "2/25/17\n",
      "        MAE        MSE        R2  Residual Mean test_date data_tested  \\\n",
      "0  2.422804  10.187373  0.865467         0.0068   2/25/17       train   \n",
      "0  4.318611  29.713362  0.213679         0.0311   2/25/17        test   \n",
      "\n",
      "                                         train_dates  number_sample  \n",
      "0  3/7/18 9/10/18 9/26/18 7/17/18 12/17/18 9/6/18...             30  \n",
      "0  3/7/18 9/10/18 9/26/18 7/17/18 12/17/18 9/6/18...             30  \n",
      "--------------------------------------------------------------------------------\n",
      "4 /32\n",
      "30\n"
     ]
    },
    {
     "name": "stderr",
     "output_type": "stream",
     "text": [
      "/anaconda3/envs/coding/lib/python3.6/site-packages/xgboost/core.py:587: FutureWarning: Series.base is deprecated and will be removed in a future version\n",
      "  if getattr(data, 'base', None) is not None and \\\n",
      "/anaconda3/envs/coding/lib/python3.6/site-packages/xgboost/core.py:588: FutureWarning: Series.base is deprecated and will be removed in a future version\n",
      "  data.base is not None and isinstance(data, np.ndarray) \\\n"
     ]
    },
    {
     "name": "stdout",
     "output_type": "stream",
     "text": [
      "3/2/17\n",
      "        MAE        MSE        R2  Residual Mean test_date data_tested  \\\n",
      "0  2.414825  10.104077  0.853934        -0.0035    3/2/17       train   \n",
      "0  4.945769  38.778010  0.280332         3.2427    3/2/17        test   \n",
      "\n",
      "                                         train_dates  number_sample  \n",
      "0  9/26/18 5/26/18 8/17/18 12/22/18 12/9/17 7/21/...             30  \n",
      "0  9/26/18 5/26/18 8/17/18 12/22/18 12/9/17 7/21/...             30  \n",
      "--------------------------------------------------------------------------------\n",
      "5 /32\n",
      "30\n"
     ]
    },
    {
     "name": "stderr",
     "output_type": "stream",
     "text": [
      "/anaconda3/envs/coding/lib/python3.6/site-packages/xgboost/core.py:587: FutureWarning: Series.base is deprecated and will be removed in a future version\n",
      "  if getattr(data, 'base', None) is not None and \\\n",
      "/anaconda3/envs/coding/lib/python3.6/site-packages/xgboost/core.py:588: FutureWarning: Series.base is deprecated and will be removed in a future version\n",
      "  data.base is not None and isinstance(data, np.ndarray) \\\n"
     ]
    },
    {
     "name": "stdout",
     "output_type": "stream",
     "text": [
      "3/14/17\n",
      "        MAE        MSE        R2  Residual Mean test_date data_tested  \\\n",
      "0  2.415425  10.136161  0.861019        -0.0020   3/14/17       train   \n",
      "0  3.899302  27.397668  0.700162        -0.9655   3/14/17        test   \n",
      "\n",
      "                                         train_dates  number_sample  \n",
      "0  10/2/18 11/19/17 7/17/18 6/13/18 10/27/18 10/2...             30  \n",
      "0  10/2/18 11/19/17 7/17/18 6/13/18 10/27/18 10/2...             30  \n",
      "--------------------------------------------------------------------------------\n",
      "6 /32\n",
      "30\n"
     ]
    },
    {
     "name": "stderr",
     "output_type": "stream",
     "text": [
      "/anaconda3/envs/coding/lib/python3.6/site-packages/xgboost/core.py:587: FutureWarning: Series.base is deprecated and will be removed in a future version\n",
      "  if getattr(data, 'base', None) is not None and \\\n",
      "/anaconda3/envs/coding/lib/python3.6/site-packages/xgboost/core.py:588: FutureWarning: Series.base is deprecated and will be removed in a future version\n",
      "  data.base is not None and isinstance(data, np.ndarray) \\\n"
     ]
    },
    {
     "name": "stdout",
     "output_type": "stream",
     "text": [
      "3/22/17\n",
      "        MAE        MSE        R2  Residual Mean test_date data_tested  \\\n",
      "0  2.426875  10.186688  0.859050         0.0045   3/22/17       train   \n",
      "0  4.946494  38.541755  0.331167        -1.3018   3/22/17        test   \n",
      "\n",
      "                                         train_dates  number_sample  \n",
      "0  3/14/17 2/24/19 7/13/17 3/2/18 2/13/17 12/22/1...             30  \n",
      "0  3/14/17 2/24/19 7/13/17 3/2/18 2/13/17 12/22/1...             30  \n",
      "--------------------------------------------------------------------------------\n",
      "7 /32\n",
      "30\n"
     ]
    },
    {
     "name": "stderr",
     "output_type": "stream",
     "text": [
      "/anaconda3/envs/coding/lib/python3.6/site-packages/xgboost/core.py:587: FutureWarning: Series.base is deprecated and will be removed in a future version\n",
      "  if getattr(data, 'base', None) is not None and \\\n",
      "/anaconda3/envs/coding/lib/python3.6/site-packages/xgboost/core.py:588: FutureWarning: Series.base is deprecated and will be removed in a future version\n",
      "  data.base is not None and isinstance(data, np.ndarray) \\\n"
     ]
    },
    {
     "name": "stdout",
     "output_type": "stream",
     "text": [
      "6/19/17\n",
      "        MAE        MSE        R2  Residual Mean test_date data_tested  \\\n",
      "0  2.423962  10.173627  0.866779         0.0041   6/19/17       train   \n",
      "0  3.672123  24.486577  0.516942         0.2027   6/19/17        test   \n",
      "\n",
      "                                         train_dates  number_sample  \n",
      "0  9/10/18 1/7/17 9/4/18 7/13/17 7/21/18 10/29/17...             30  \n",
      "0  9/10/18 1/7/17 9/4/18 7/13/17 7/21/18 10/29/17...             30  \n",
      "--------------------------------------------------------------------------------\n",
      "8 /32\n",
      "30\n"
     ]
    },
    {
     "name": "stderr",
     "output_type": "stream",
     "text": [
      "/anaconda3/envs/coding/lib/python3.6/site-packages/xgboost/core.py:587: FutureWarning: Series.base is deprecated and will be removed in a future version\n",
      "  if getattr(data, 'base', None) is not None and \\\n",
      "/anaconda3/envs/coding/lib/python3.6/site-packages/xgboost/core.py:588: FutureWarning: Series.base is deprecated and will be removed in a future version\n",
      "  data.base is not None and isinstance(data, np.ndarray) \\\n"
     ]
    },
    {
     "name": "stdout",
     "output_type": "stream",
     "text": [
      "7/13/17\n",
      "        MAE        MSE        R2  Residual Mean test_date data_tested  \\\n",
      "0  2.441385  10.286616  0.863423         0.0017   7/13/17       train   \n",
      "0  3.244499  16.860658  0.349357        -0.5755   7/13/17        test   \n",
      "\n",
      "                                         train_dates  number_sample  \n",
      "0  3/21/18 2/9/17 9/26/18 2/13/17 1/7/17 3/2/18 1...             30  \n",
      "0  3/21/18 2/9/17 9/26/18 2/13/17 1/7/17 3/2/18 1...             30  \n",
      "--------------------------------------------------------------------------------\n",
      "9 /32\n",
      "30\n"
     ]
    },
    {
     "name": "stderr",
     "output_type": "stream",
     "text": [
      "/anaconda3/envs/coding/lib/python3.6/site-packages/xgboost/core.py:587: FutureWarning: Series.base is deprecated and will be removed in a future version\n",
      "  if getattr(data, 'base', None) is not None and \\\n",
      "/anaconda3/envs/coding/lib/python3.6/site-packages/xgboost/core.py:588: FutureWarning: Series.base is deprecated and will be removed in a future version\n",
      "  data.base is not None and isinstance(data, np.ndarray) \\\n"
     ]
    },
    {
     "name": "stdout",
     "output_type": "stream",
     "text": [
      "10/29/17\n",
      "        MAE        MSE        R2  Residual Mean test_date data_tested  \\\n",
      "0  2.363447   9.657512  0.861821         0.0023  10/29/17       train   \n",
      "0  6.725327  71.651395 -0.103555        -2.3036  10/29/17        test   \n",
      "\n",
      "                                         train_dates  number_sample  \n",
      "0  1/7/17 6/19/17 12/9/17 10/12/18 5/15/18 9/26/1...             30  \n",
      "0  1/7/17 6/19/17 12/9/17 10/12/18 5/15/18 9/26/1...             30  \n",
      "--------------------------------------------------------------------------------\n",
      "10 /32\n",
      "30\n"
     ]
    },
    {
     "name": "stderr",
     "output_type": "stream",
     "text": [
      "/anaconda3/envs/coding/lib/python3.6/site-packages/xgboost/core.py:587: FutureWarning: Series.base is deprecated and will be removed in a future version\n",
      "  if getattr(data, 'base', None) is not None and \\\n",
      "/anaconda3/envs/coding/lib/python3.6/site-packages/xgboost/core.py:588: FutureWarning: Series.base is deprecated and will be removed in a future version\n",
      "  data.base is not None and isinstance(data, np.ndarray) \\\n"
     ]
    },
    {
     "name": "stdout",
     "output_type": "stream",
     "text": [
      "11/19/17\n",
      "        MAE        MSE        R2  Residual Mean test_date data_tested  \\\n",
      "0  2.401267  10.030907  0.865066        -0.0018  11/19/17       train   \n",
      "0  4.975282  37.458482  0.478387        -0.6285  11/19/17        test   \n",
      "\n",
      "                                         train_dates  number_sample  \n",
      "0  9/26/18 1/7/17 7/13/17 12/17/18 6/13/18 3/22/1...             30  \n",
      "0  9/26/18 1/7/17 7/13/17 12/17/18 6/13/18 3/22/1...             30  \n",
      "--------------------------------------------------------------------------------\n",
      "11 /32\n",
      "30\n"
     ]
    },
    {
     "name": "stderr",
     "output_type": "stream",
     "text": [
      "/anaconda3/envs/coding/lib/python3.6/site-packages/xgboost/core.py:587: FutureWarning: Series.base is deprecated and will be removed in a future version\n",
      "  if getattr(data, 'base', None) is not None and \\\n",
      "/anaconda3/envs/coding/lib/python3.6/site-packages/xgboost/core.py:588: FutureWarning: Series.base is deprecated and will be removed in a future version\n",
      "  data.base is not None and isinstance(data, np.ndarray) \\\n"
     ]
    },
    {
     "name": "stdout",
     "output_type": "stream",
     "text": [
      "12/9/17\n",
      "        MAE        MSE        R2  Residual Mean test_date data_tested  \\\n",
      "0  2.488345  10.660723  0.858661         0.0006   12/9/17       train   \n",
      "0  2.418755   8.653146  0.330395        -1.3137   12/9/17        test   \n",
      "\n",
      "                                         train_dates  number_sample  \n",
      "0  2/9/17 12/22/18 7/17/18 5/15/18 2/25/17 1/4/18...             30  \n",
      "0  2/9/17 12/22/18 7/17/18 5/15/18 2/25/17 1/4/18...             30  \n",
      "--------------------------------------------------------------------------------\n",
      "12 /32\n",
      "30\n"
     ]
    },
    {
     "name": "stderr",
     "output_type": "stream",
     "text": [
      "/anaconda3/envs/coding/lib/python3.6/site-packages/xgboost/core.py:587: FutureWarning: Series.base is deprecated and will be removed in a future version\n",
      "  if getattr(data, 'base', None) is not None and \\\n",
      "/anaconda3/envs/coding/lib/python3.6/site-packages/xgboost/core.py:588: FutureWarning: Series.base is deprecated and will be removed in a future version\n",
      "  data.base is not None and isinstance(data, np.ndarray) \\\n"
     ]
    },
    {
     "name": "stdout",
     "output_type": "stream",
     "text": [
      "1/4/18\n",
      "        MAE        MSE        R2  Residual Mean test_date data_tested  \\\n",
      "0  2.425619  10.191443  0.858980         0.0008    1/4/18       train   \n",
      "0  4.140861  30.317358  0.740726         1.6335    1/4/18        test   \n",
      "\n",
      "                                         train_dates  number_sample  \n",
      "0  3/2/18 12/17/18 2/13/17 6/19/17 3/7/18 2/24/19...             30  \n",
      "0  3/2/18 12/17/18 2/13/17 6/19/17 3/7/18 2/24/19...             30  \n",
      "--------------------------------------------------------------------------------\n",
      "13 /32\n",
      "30\n"
     ]
    },
    {
     "name": "stderr",
     "output_type": "stream",
     "text": [
      "/anaconda3/envs/coding/lib/python3.6/site-packages/xgboost/core.py:587: FutureWarning: Series.base is deprecated and will be removed in a future version\n",
      "  if getattr(data, 'base', None) is not None and \\\n",
      "/anaconda3/envs/coding/lib/python3.6/site-packages/xgboost/core.py:588: FutureWarning: Series.base is deprecated and will be removed in a future version\n",
      "  data.base is not None and isinstance(data, np.ndarray) \\\n"
     ]
    },
    {
     "name": "stdout",
     "output_type": "stream",
     "text": [
      "3/2/18\n",
      "        MAE        MSE        R2  Residual Mean test_date data_tested  \\\n",
      "0  2.429427  10.237933  0.858476         0.0048    3/2/18       train   \n",
      "0  4.821383  39.604531  0.427527        -0.3490    3/2/18        test   \n",
      "\n",
      "                                         train_dates  number_sample  \n",
      "0  9/10/18 10/2/18 2/24/19 12/22/18 10/27/18 12/9...             30  \n",
      "0  9/10/18 10/2/18 2/24/19 12/22/18 10/27/18 12/9...             30  \n",
      "--------------------------------------------------------------------------------\n",
      "14 /32\n",
      "30\n"
     ]
    },
    {
     "name": "stderr",
     "output_type": "stream",
     "text": [
      "/anaconda3/envs/coding/lib/python3.6/site-packages/xgboost/core.py:587: FutureWarning: Series.base is deprecated and will be removed in a future version\n",
      "  if getattr(data, 'base', None) is not None and \\\n",
      "/anaconda3/envs/coding/lib/python3.6/site-packages/xgboost/core.py:588: FutureWarning: Series.base is deprecated and will be removed in a future version\n",
      "  data.base is not None and isinstance(data, np.ndarray) \\\n"
     ]
    },
    {
     "name": "stdout",
     "output_type": "stream",
     "text": [
      "3/7/18\n",
      "        MAE        MSE        R2  Residual Mean test_date data_tested  \\\n",
      "0  2.497892  10.779654  0.857539         0.0037    3/7/18       train   \n",
      "0  3.188201  15.770599  0.378384        -0.2580    3/7/18        test   \n",
      "\n",
      "                                         train_dates  number_sample  \n",
      "0  10/2/18 11/19/17 5/15/18 5/26/18 10/12/18 3/2/...             30  \n",
      "0  10/2/18 11/19/17 5/15/18 5/26/18 10/12/18 3/2/...             30  \n",
      "--------------------------------------------------------------------------------\n",
      "15 /32\n",
      "30\n"
     ]
    },
    {
     "name": "stderr",
     "output_type": "stream",
     "text": [
      "/anaconda3/envs/coding/lib/python3.6/site-packages/xgboost/core.py:587: FutureWarning: Series.base is deprecated and will be removed in a future version\n",
      "  if getattr(data, 'base', None) is not None and \\\n",
      "/anaconda3/envs/coding/lib/python3.6/site-packages/xgboost/core.py:588: FutureWarning: Series.base is deprecated and will be removed in a future version\n",
      "  data.base is not None and isinstance(data, np.ndarray) \\\n"
     ]
    },
    {
     "name": "stdout",
     "output_type": "stream",
     "text": [
      "3/21/18\n",
      "        MAE        MSE        R2  Residual Mean test_date data_tested  \\\n",
      "0  2.466339  10.518487  0.860661         0.0031   3/21/18       train   \n",
      "0  4.571947  32.839391 -0.090636        -2.9059   3/21/18        test   \n",
      "\n",
      "                                         train_dates  number_sample  \n",
      "0  10/27/18 2/9/17 9/26/18 3/22/17 7/13/17 6/13/1...             30  \n",
      "0  10/27/18 2/9/17 9/26/18 3/22/17 7/13/17 6/13/1...             30  \n",
      "--------------------------------------------------------------------------------\n",
      "16 /32\n",
      "30\n"
     ]
    },
    {
     "name": "stderr",
     "output_type": "stream",
     "text": [
      "/anaconda3/envs/coding/lib/python3.6/site-packages/xgboost/core.py:587: FutureWarning: Series.base is deprecated and will be removed in a future version\n",
      "  if getattr(data, 'base', None) is not None and \\\n",
      "/anaconda3/envs/coding/lib/python3.6/site-packages/xgboost/core.py:588: FutureWarning: Series.base is deprecated and will be removed in a future version\n",
      "  data.base is not None and isinstance(data, np.ndarray) \\\n"
     ]
    },
    {
     "name": "stdout",
     "output_type": "stream",
     "text": [
      "5/15/18\n",
      "        MAE        MSE        R2  Residual Mean test_date data_tested  \\\n",
      "0  2.424284  10.090349  0.865511        -0.0000   5/15/18       train   \n",
      "0  4.012492  33.067579  0.401004        -0.4696   5/15/18        test   \n",
      "\n",
      "                                         train_dates  number_sample  \n",
      "0  10/29/17 10/2/18 2/25/17 12/9/17 5/26/18 3/22/...             30  \n",
      "0  10/29/17 10/2/18 2/25/17 12/9/17 5/26/18 3/22/...             30  \n",
      "--------------------------------------------------------------------------------\n",
      "17 /32\n",
      "30\n"
     ]
    },
    {
     "name": "stderr",
     "output_type": "stream",
     "text": [
      "/anaconda3/envs/coding/lib/python3.6/site-packages/xgboost/core.py:587: FutureWarning: Series.base is deprecated and will be removed in a future version\n",
      "  if getattr(data, 'base', None) is not None and \\\n",
      "/anaconda3/envs/coding/lib/python3.6/site-packages/xgboost/core.py:588: FutureWarning: Series.base is deprecated and will be removed in a future version\n",
      "  data.base is not None and isinstance(data, np.ndarray) \\\n"
     ]
    },
    {
     "name": "stdout",
     "output_type": "stream",
     "text": [
      "5/26/18\n",
      "        MAE        MSE        R2  Residual Mean test_date data_tested  \\\n",
      "0  2.402001  10.009907  0.858734         0.0067   5/26/18       train   \n",
      "0  3.428978  18.439700  0.042685        -2.0000   5/26/18        test   \n",
      "\n",
      "                                         train_dates  number_sample  \n",
      "0  3/2/18 9/10/18 9/4/18 7/17/18 12/22/18 12/9/17...             30  \n",
      "0  3/2/18 9/10/18 9/4/18 7/17/18 12/22/18 12/9/17...             30  \n",
      "--------------------------------------------------------------------------------\n",
      "18 /32\n",
      "30\n"
     ]
    },
    {
     "name": "stderr",
     "output_type": "stream",
     "text": [
      "/anaconda3/envs/coding/lib/python3.6/site-packages/xgboost/core.py:587: FutureWarning: Series.base is deprecated and will be removed in a future version\n",
      "  if getattr(data, 'base', None) is not None and \\\n",
      "/anaconda3/envs/coding/lib/python3.6/site-packages/xgboost/core.py:588: FutureWarning: Series.base is deprecated and will be removed in a future version\n",
      "  data.base is not None and isinstance(data, np.ndarray) \\\n"
     ]
    },
    {
     "name": "stdout",
     "output_type": "stream",
     "text": [
      "6/13/18\n",
      "        MAE        MSE        R2  Residual Mean test_date data_tested  \\\n",
      "0  2.399576   9.977465  0.865859        -0.0007   6/13/18       train   \n",
      "0  3.169865  16.403106 -0.095520        -0.0501   6/13/18        test   \n",
      "\n",
      "                                         train_dates  number_sample  \n",
      "0  3/14/17 12/17/18 3/2/18 10/29/17 10/27/18 6/19...             30  \n",
      "0  3/14/17 12/17/18 3/2/18 10/29/17 10/27/18 6/19...             30  \n",
      "--------------------------------------------------------------------------------\n",
      "19 /32\n",
      "30\n"
     ]
    },
    {
     "name": "stderr",
     "output_type": "stream",
     "text": [
      "/anaconda3/envs/coding/lib/python3.6/site-packages/xgboost/core.py:587: FutureWarning: Series.base is deprecated and will be removed in a future version\n",
      "  if getattr(data, 'base', None) is not None and \\\n",
      "/anaconda3/envs/coding/lib/python3.6/site-packages/xgboost/core.py:588: FutureWarning: Series.base is deprecated and will be removed in a future version\n",
      "  data.base is not None and isinstance(data, np.ndarray) \\\n"
     ]
    },
    {
     "name": "stdout",
     "output_type": "stream",
     "text": [
      "7/17/18\n",
      "        MAE        MSE        R2  Residual Mean test_date data_tested  \\\n",
      "0  2.454488  10.391528  0.857766         0.0013   7/17/18       train   \n",
      "0  2.881805  17.245302  0.433758         0.3949   7/17/18        test   \n",
      "\n",
      "                                         train_dates  number_sample  \n",
      "0  1/7/17 9/26/18 3/22/17 9/4/18 2/24/19 6/19/17 ...             30  \n",
      "0  1/7/17 9/26/18 3/22/17 9/4/18 2/24/19 6/19/17 ...             30  \n",
      "--------------------------------------------------------------------------------\n",
      "20 /32\n",
      "30\n"
     ]
    },
    {
     "name": "stderr",
     "output_type": "stream",
     "text": [
      "/anaconda3/envs/coding/lib/python3.6/site-packages/xgboost/core.py:587: FutureWarning: Series.base is deprecated and will be removed in a future version\n",
      "  if getattr(data, 'base', None) is not None and \\\n",
      "/anaconda3/envs/coding/lib/python3.6/site-packages/xgboost/core.py:588: FutureWarning: Series.base is deprecated and will be removed in a future version\n",
      "  data.base is not None and isinstance(data, np.ndarray) \\\n"
     ]
    },
    {
     "name": "stdout",
     "output_type": "stream",
     "text": [
      "7/21/18\n",
      "        MAE        MSE        R2  Residual Mean test_date data_tested  \\\n",
      "0  2.417416  10.124623  0.865628        -0.0020   7/21/18       train   \n",
      "0  3.857491  24.683534  0.211799         0.9755   7/21/18        test   \n",
      "\n",
      "                                         train_dates  number_sample  \n",
      "0  9/6/18 7/17/18 5/15/18 12/9/17 7/13/17 9/4/18 ...             30  \n",
      "0  9/6/18 7/17/18 5/15/18 12/9/17 7/13/17 9/4/18 ...             30  \n",
      "--------------------------------------------------------------------------------\n",
      "21 /32\n",
      "30\n"
     ]
    },
    {
     "name": "stderr",
     "output_type": "stream",
     "text": [
      "/anaconda3/envs/coding/lib/python3.6/site-packages/xgboost/core.py:587: FutureWarning: Series.base is deprecated and will be removed in a future version\n",
      "  if getattr(data, 'base', None) is not None and \\\n",
      "/anaconda3/envs/coding/lib/python3.6/site-packages/xgboost/core.py:588: FutureWarning: Series.base is deprecated and will be removed in a future version\n",
      "  data.base is not None and isinstance(data, np.ndarray) \\\n"
     ]
    },
    {
     "name": "stdout",
     "output_type": "stream",
     "text": [
      "8/17/18\n",
      "        MAE        MSE        R2  Residual Mean test_date data_tested  \\\n",
      "0  2.473106  10.482726  0.859485         0.0016   8/17/18       train   \n",
      "0  3.667696  23.634301  0.322738        -0.1771   8/17/18        test   \n",
      "\n",
      "                                         train_dates  number_sample  \n",
      "0  2/13/17 3/2/18 3/21/18 5/15/18 7/13/17 9/4/18 ...             30  \n",
      "0  2/13/17 3/2/18 3/21/18 5/15/18 7/13/17 9/4/18 ...             30  \n",
      "--------------------------------------------------------------------------------\n",
      "22 /32\n",
      "30\n"
     ]
    },
    {
     "name": "stderr",
     "output_type": "stream",
     "text": [
      "/anaconda3/envs/coding/lib/python3.6/site-packages/xgboost/core.py:587: FutureWarning: Series.base is deprecated and will be removed in a future version\n",
      "  if getattr(data, 'base', None) is not None and \\\n",
      "/anaconda3/envs/coding/lib/python3.6/site-packages/xgboost/core.py:588: FutureWarning: Series.base is deprecated and will be removed in a future version\n",
      "  data.base is not None and isinstance(data, np.ndarray) \\\n"
     ]
    },
    {
     "name": "stdout",
     "output_type": "stream",
     "text": [
      "9/4/18\n",
      "        MAE        MSE        R2  Residual Mean test_date data_tested  \\\n",
      "0  2.464113  10.443648  0.859856         0.0005    9/4/18       train   \n",
      "0  1.931189   5.774347  0.476048        -0.4357    9/4/18        test   \n",
      "\n",
      "                                         train_dates  number_sample  \n",
      "0  12/22/18 6/13/18 3/7/18 7/13/17 3/22/17 5/26/1...             30  \n",
      "0  12/22/18 6/13/18 3/7/18 7/13/17 3/22/17 5/26/1...             30  \n",
      "--------------------------------------------------------------------------------\n",
      "23 /32\n",
      "30\n"
     ]
    },
    {
     "name": "stderr",
     "output_type": "stream",
     "text": [
      "/anaconda3/envs/coding/lib/python3.6/site-packages/xgboost/core.py:587: FutureWarning: Series.base is deprecated and will be removed in a future version\n",
      "  if getattr(data, 'base', None) is not None and \\\n",
      "/anaconda3/envs/coding/lib/python3.6/site-packages/xgboost/core.py:588: FutureWarning: Series.base is deprecated and will be removed in a future version\n",
      "  data.base is not None and isinstance(data, np.ndarray) \\\n"
     ]
    },
    {
     "name": "stdout",
     "output_type": "stream",
     "text": [
      "9/6/18\n",
      "        MAE        MSE        R2  Residual Mean test_date data_tested  \\\n",
      "0  2.445169  10.295078  0.861187        -0.0029    9/6/18       train   \n",
      "0  2.658880  14.792584  0.418921         0.2669    9/6/18        test   \n",
      "\n",
      "                                         train_dates  number_sample  \n",
      "0  3/14/17 8/17/18 6/19/17 3/7/18 1/4/18 2/13/17 ...             30  \n",
      "0  3/14/17 8/17/18 6/19/17 3/7/18 1/4/18 2/13/17 ...             30  \n",
      "--------------------------------------------------------------------------------\n",
      "24 /32\n",
      "30\n"
     ]
    },
    {
     "name": "stderr",
     "output_type": "stream",
     "text": [
      "/anaconda3/envs/coding/lib/python3.6/site-packages/xgboost/core.py:587: FutureWarning: Series.base is deprecated and will be removed in a future version\n",
      "  if getattr(data, 'base', None) is not None and \\\n",
      "/anaconda3/envs/coding/lib/python3.6/site-packages/xgboost/core.py:588: FutureWarning: Series.base is deprecated and will be removed in a future version\n",
      "  data.base is not None and isinstance(data, np.ndarray) \\\n"
     ]
    },
    {
     "name": "stdout",
     "output_type": "stream",
     "text": [
      "9/10/18\n",
      "        MAE        MSE        R2  Residual Mean test_date data_tested  \\\n",
      "0  2.413458  10.094371  0.858642         0.0012   9/10/18       train   \n",
      "0  3.516595  21.284580  0.196830         1.0637   9/10/18        test   \n",
      "\n",
      "                                         train_dates  number_sample  \n",
      "0  12/22/18 7/17/18 1/4/18 7/21/18 7/13/17 2/9/17...             30  \n",
      "0  12/22/18 7/17/18 1/4/18 7/21/18 7/13/17 2/9/17...             30  \n",
      "--------------------------------------------------------------------------------\n",
      "25 /32\n",
      "30\n"
     ]
    },
    {
     "name": "stderr",
     "output_type": "stream",
     "text": [
      "/anaconda3/envs/coding/lib/python3.6/site-packages/xgboost/core.py:587: FutureWarning: Series.base is deprecated and will be removed in a future version\n",
      "  if getattr(data, 'base', None) is not None and \\\n",
      "/anaconda3/envs/coding/lib/python3.6/site-packages/xgboost/core.py:588: FutureWarning: Series.base is deprecated and will be removed in a future version\n",
      "  data.base is not None and isinstance(data, np.ndarray) \\\n"
     ]
    },
    {
     "name": "stdout",
     "output_type": "stream",
     "text": [
      "9/26/18\n",
      "        MAE        MSE        R2  Residual Mean test_date data_tested  \\\n",
      "0  2.412261  10.092509  0.867987         0.0036   9/26/18       train   \n",
      "0  3.891788  24.124230 -0.067895         1.9524   9/26/18        test   \n",
      "\n",
      "                                         train_dates  number_sample  \n",
      "0  10/2/18 9/4/18 10/27/18 6/19/17 3/14/17 12/17/...             30  \n",
      "0  10/2/18 9/4/18 10/27/18 6/19/17 3/14/17 12/17/...             30  \n",
      "--------------------------------------------------------------------------------\n",
      "26 /32\n",
      "30\n"
     ]
    },
    {
     "name": "stderr",
     "output_type": "stream",
     "text": [
      "/anaconda3/envs/coding/lib/python3.6/site-packages/xgboost/core.py:587: FutureWarning: Series.base is deprecated and will be removed in a future version\n",
      "  if getattr(data, 'base', None) is not None and \\\n",
      "/anaconda3/envs/coding/lib/python3.6/site-packages/xgboost/core.py:588: FutureWarning: Series.base is deprecated and will be removed in a future version\n",
      "  data.base is not None and isinstance(data, np.ndarray) \\\n"
     ]
    },
    {
     "name": "stdout",
     "output_type": "stream",
     "text": [
      "10/2/18\n",
      "        MAE        MSE        R2  Residual Mean test_date data_tested  \\\n",
      "0  2.370976   9.730884  0.870397        -0.0014   10/2/18       train   \n",
      "0  4.258645  27.659716  0.028817        -1.9558   10/2/18        test   \n",
      "\n",
      "                                         train_dates  number_sample  \n",
      "0  6/19/17 9/10/18 11/19/17 2/13/17 1/4/18 3/14/1...             30  \n",
      "0  6/19/17 9/10/18 11/19/17 2/13/17 1/4/18 3/14/1...             30  \n",
      "--------------------------------------------------------------------------------\n",
      "27 /32\n",
      "30\n"
     ]
    },
    {
     "name": "stderr",
     "output_type": "stream",
     "text": [
      "/anaconda3/envs/coding/lib/python3.6/site-packages/xgboost/core.py:587: FutureWarning: Series.base is deprecated and will be removed in a future version\n",
      "  if getattr(data, 'base', None) is not None and \\\n",
      "/anaconda3/envs/coding/lib/python3.6/site-packages/xgboost/core.py:588: FutureWarning: Series.base is deprecated and will be removed in a future version\n",
      "  data.base is not None and isinstance(data, np.ndarray) \\\n"
     ]
    },
    {
     "name": "stdout",
     "output_type": "stream",
     "text": [
      "10/12/18\n",
      "        MAE        MSE        R2  Residual Mean test_date data_tested  \\\n",
      "0  2.416937  10.100361  0.865559        -0.0005  10/12/18       train   \n",
      "0  4.472513  30.638564  0.534325        -0.2394  10/12/18        test   \n",
      "\n",
      "                                         train_dates  number_sample  \n",
      "0  3/2/18 9/10/18 3/22/17 12/17/18 10/27/18 10/29...             30  \n",
      "0  3/2/18 9/10/18 3/22/17 12/17/18 10/27/18 10/29...             30  \n",
      "--------------------------------------------------------------------------------\n",
      "28 /32\n",
      "30\n"
     ]
    },
    {
     "name": "stderr",
     "output_type": "stream",
     "text": [
      "/anaconda3/envs/coding/lib/python3.6/site-packages/xgboost/core.py:587: FutureWarning: Series.base is deprecated and will be removed in a future version\n",
      "  if getattr(data, 'base', None) is not None and \\\n",
      "/anaconda3/envs/coding/lib/python3.6/site-packages/xgboost/core.py:588: FutureWarning: Series.base is deprecated and will be removed in a future version\n",
      "  data.base is not None and isinstance(data, np.ndarray) \\\n"
     ]
    },
    {
     "name": "stdout",
     "output_type": "stream",
     "text": [
      "10/27/18\n",
      "        MAE        MSE        R2  Residual Mean test_date data_tested  \\\n",
      "0  2.443757  10.375522  0.861171         0.0017  10/27/18       train   \n",
      "0  3.910022  25.689679  0.613666         0.7555  10/27/18        test   \n",
      "\n",
      "                                         train_dates  number_sample  \n",
      "0  10/29/17 1/4/18 5/15/18 9/10/18 8/17/18 3/14/1...             30  \n",
      "0  10/29/17 1/4/18 5/15/18 9/10/18 8/17/18 3/14/1...             30  \n",
      "--------------------------------------------------------------------------------\n",
      "29 /32\n",
      "30\n"
     ]
    },
    {
     "name": "stderr",
     "output_type": "stream",
     "text": [
      "/anaconda3/envs/coding/lib/python3.6/site-packages/xgboost/core.py:587: FutureWarning: Series.base is deprecated and will be removed in a future version\n",
      "  if getattr(data, 'base', None) is not None and \\\n",
      "/anaconda3/envs/coding/lib/python3.6/site-packages/xgboost/core.py:588: FutureWarning: Series.base is deprecated and will be removed in a future version\n",
      "  data.base is not None and isinstance(data, np.ndarray) \\\n"
     ]
    },
    {
     "name": "stdout",
     "output_type": "stream",
     "text": [
      "12/17/18\n",
      "        MAE        MSE        R2  Residual Mean test_date data_tested  \\\n",
      "0  2.432083  10.260085  0.862073         0.0032  12/17/18       train   \n",
      "0  4.255255  29.477987  0.525627         0.6585  12/17/18        test   \n",
      "\n",
      "                                         train_dates  number_sample  \n",
      "0  10/2/18 10/29/17 3/22/17 2/13/17 2/24/19 3/2/1...             30  \n",
      "0  10/2/18 10/29/17 3/22/17 2/13/17 2/24/19 3/2/1...             30  \n",
      "--------------------------------------------------------------------------------\n",
      "30 /32\n",
      "30\n"
     ]
    },
    {
     "name": "stderr",
     "output_type": "stream",
     "text": [
      "/anaconda3/envs/coding/lib/python3.6/site-packages/xgboost/core.py:587: FutureWarning: Series.base is deprecated and will be removed in a future version\n",
      "  if getattr(data, 'base', None) is not None and \\\n",
      "/anaconda3/envs/coding/lib/python3.6/site-packages/xgboost/core.py:588: FutureWarning: Series.base is deprecated and will be removed in a future version\n",
      "  data.base is not None and isinstance(data, np.ndarray) \\\n"
     ]
    },
    {
     "name": "stdout",
     "output_type": "stream",
     "text": [
      "12/22/18\n",
      "        MAE       MSE        R2  Residual Mean test_date data_tested  \\\n",
      "0  2.425626  10.15709  0.863526         0.0005  12/22/18       train   \n",
      "0  4.169786  27.67812  0.495654        -0.2654  12/22/18        test   \n",
      "\n",
      "                                         train_dates  number_sample  \n",
      "0  3/7/18 7/21/18 5/15/18 3/2/17 10/29/17 9/26/18...             30  \n",
      "0  3/7/18 7/21/18 5/15/18 3/2/17 10/29/17 9/26/18...             30  \n",
      "--------------------------------------------------------------------------------\n",
      "31 /32\n",
      "30\n"
     ]
    },
    {
     "name": "stderr",
     "output_type": "stream",
     "text": [
      "/anaconda3/envs/coding/lib/python3.6/site-packages/xgboost/core.py:587: FutureWarning: Series.base is deprecated and will be removed in a future version\n",
      "  if getattr(data, 'base', None) is not None and \\\n",
      "/anaconda3/envs/coding/lib/python3.6/site-packages/xgboost/core.py:588: FutureWarning: Series.base is deprecated and will be removed in a future version\n",
      "  data.base is not None and isinstance(data, np.ndarray) \\\n"
     ]
    },
    {
     "name": "stdout",
     "output_type": "stream",
     "text": [
      "2/24/19\n",
      "        MAE        MSE        R2  Residual Mean test_date data_tested  \\\n",
      "0  2.378014   9.803600  0.857731        -0.0024   2/24/19       train   \n",
      "0  5.840580  53.741277  0.458542        -1.5570   2/24/19        test   \n",
      "\n",
      "                                         train_dates  number_sample  \n",
      "0  1/7/17 1/4/18 3/22/17 10/12/18 9/6/18 5/15/18 ...             30  \n",
      "0  1/7/17 1/4/18 3/22/17 10/12/18 9/6/18 5/15/18 ...             30  \n",
      "--------------------------------------------------------------------------------\n",
      "32 /32\n"
     ]
    }
   ],
   "source": [
    "table = pd.DataFrame()\n",
    "data = pd.DataFrame()\n",
    "count = 0\n",
    "for i in df['EXP'].unique():\n",
    "    t,d = rf_model2(i,30)\n",
    "    table = table.append(t)\n",
    "    data = data.append(d)\n",
    "    count += 1\n",
    "    print(count,'/32')"
   ]
  },
  {
   "cell_type": "code",
   "execution_count": 26,
   "metadata": {},
   "outputs": [],
   "source": [
    "#table.to_csv('30_sample_XGB_stats.csv')\n",
    "#data.to_csv('30_sample_XGB_data.csv')"
   ]
  },
  {
   "cell_type": "code",
   "execution_count": 27,
   "metadata": {},
   "outputs": [
    {
     "data": {
      "text/html": [
       "<div>\n",
       "<style scoped>\n",
       "    .dataframe tbody tr th:only-of-type {\n",
       "        vertical-align: middle;\n",
       "    }\n",
       "\n",
       "    .dataframe tbody tr th {\n",
       "        vertical-align: top;\n",
       "    }\n",
       "\n",
       "    .dataframe thead th {\n",
       "        text-align: right;\n",
       "    }\n",
       "</style>\n",
       "<table border=\"1\" class=\"dataframe\">\n",
       "  <thead>\n",
       "    <tr style=\"text-align: right;\">\n",
       "      <th></th>\n",
       "      <th>MAE</th>\n",
       "      <th>R2</th>\n",
       "      <th>Residual Mean</th>\n",
       "    </tr>\n",
       "    <tr>\n",
       "      <th>data_tested</th>\n",
       "      <th></th>\n",
       "      <th></th>\n",
       "      <th></th>\n",
       "    </tr>\n",
       "  </thead>\n",
       "  <tbody>\n",
       "    <tr>\n",
       "      <th>test</th>\n",
       "      <td>4.025470</td>\n",
       "      <td>0.338013</td>\n",
       "      <td>-0.062856</td>\n",
       "    </tr>\n",
       "    <tr>\n",
       "      <th>train</th>\n",
       "      <td>2.427776</td>\n",
       "      <td>0.861766</td>\n",
       "      <td>0.001378</td>\n",
       "    </tr>\n",
       "  </tbody>\n",
       "</table>\n",
       "</div>"
      ],
      "text/plain": [
       "                  MAE        R2  Residual Mean\n",
       "data_tested                                   \n",
       "test         4.025470  0.338013      -0.062856\n",
       "train        2.427776  0.861766       0.001378"
      ]
     },
     "execution_count": 27,
     "metadata": {},
     "output_type": "execute_result"
    }
   ],
   "source": [
    "table.groupby('data_tested').agg({'MAE':'mean', 'R2':'mean', 'Residual Mean':'mean'})"
   ]
  },
  {
   "cell_type": "code",
   "execution_count": 28,
   "metadata": {},
   "outputs": [
    {
     "data": {
      "text/plain": [
       "-0.0997783277667618"
      ]
     },
     "execution_count": 28,
     "metadata": {},
     "output_type": "execute_result"
    }
   ],
   "source": [
    "res = data['actual'] - data['pred']\n",
    "res.mean()"
   ]
  },
  {
   "cell_type": "code",
   "execution_count": null,
   "metadata": {},
   "outputs": [],
   "source": []
  }
 ],
 "metadata": {
  "kernelspec": {
   "display_name": "Python 3",
   "language": "python",
   "name": "python3"
  },
  "language_info": {
   "codemirror_mode": {
    "name": "ipython",
    "version": 3
   },
   "file_extension": ".py",
   "mimetype": "text/x-python",
   "name": "python",
   "nbconvert_exporter": "python",
   "pygments_lexer": "ipython3",
   "version": "3.6.9"
  }
 },
 "nbformat": 4,
 "nbformat_minor": 2
}
